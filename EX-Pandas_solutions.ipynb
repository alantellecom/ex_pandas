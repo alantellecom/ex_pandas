{
  "nbformat": 4,
  "nbformat_minor": 0,
  "metadata": {
    "kernelspec": {
      "display_name": "Python 3",
      "language": "python",
      "name": "python3"
    },
    "language_info": {
      "codemirror_mode": {
        "name": "ipython",
        "version": 3
      },
      "file_extension": ".py",
      "mimetype": "text/x-python",
      "name": "python",
      "nbconvert_exporter": "python",
      "pygments_lexer": "ipython3",
      "version": "3.7.10"
    },
    "colab": {
      "name": "EX-Pandas_solutions.ipynb",
      "provenance": [],
      "include_colab_link": true
    }
  },
  "cells": [
    {
      "cell_type": "markdown",
      "metadata": {
        "id": "view-in-github",
        "colab_type": "text"
      },
      "source": [
        "<a href=\"https://colab.research.google.com/github/alantellecom/ex_pandas/blob/master/EX-Pandas_solutions.ipynb\" target=\"_parent\"><img src=\"https://colab.research.google.com/assets/colab-badge.svg\" alt=\"Open In Colab\"/></a>"
      ]
    },
    {
      "cell_type": "code",
      "metadata": {
        "id": "QRpy5yI1OjKi"
      },
      "source": [
        "import pandas as pd\n",
        "import numpy as np\n",
        "import re\n",
        "from dateutil.parser import parse\n",
        "from itertools import  combinations"
      ],
      "execution_count": 7,
      "outputs": []
    },
    {
      "cell_type": "markdown",
      "metadata": {
        "id": "iC8TsVWwOjKo"
      },
      "source": [
        "## 1. How to create a series from a list, numpy array and dict?\n",
        "\n",
        "Difficulty Level: L1\n",
        "\n",
        "Create a pandas series from each of the items below: a list, numpy and a dictionary"
      ]
    },
    {
      "cell_type": "code",
      "metadata": {
        "id": "2crO1iX2OjKs"
      },
      "source": [
        "mylist = list('abcedfghijklmnopqrstuvwxyz')\n",
        "myarr = np.arange(26)\n",
        "mydict = dict(zip(mylist, myarr))"
      ],
      "execution_count": null,
      "outputs": []
    },
    {
      "cell_type": "code",
      "metadata": {
        "tags": [],
        "id": "LTGjIJ33OjKt"
      },
      "source": [
        "s1 = pd.Series(mylist)\n",
        "s2 = pd.Series(myarr)\n",
        "s3 = pd.Series(mydict)"
      ],
      "execution_count": null,
      "outputs": []
    },
    {
      "cell_type": "markdown",
      "metadata": {
        "id": "zFx870VPOjKw"
      },
      "source": [
        "## 2. How to convert the index of a series into a column of a dataframe?\n",
        "Difficulty Level: L1\n",
        "\n",
        "Convert the series ser into a dataframe with its index as another column on the dataframe."
      ]
    },
    {
      "cell_type": "code",
      "metadata": {
        "collapsed": true,
        "jupyter": {
          "outputs_hidden": true
        },
        "tags": [],
        "id": "y3-lNW0ROjKx",
        "outputId": "db7f9fd5-268b-4764-d399-1b633e3d2795"
      },
      "source": [
        "s3.reset_index()"
      ],
      "execution_count": null,
      "outputs": [
        {
          "data": {
            "text/html": [
              "<div>\n",
              "<style scoped>\n",
              "    .dataframe tbody tr th:only-of-type {\n",
              "        vertical-align: middle;\n",
              "    }\n",
              "\n",
              "    .dataframe tbody tr th {\n",
              "        vertical-align: top;\n",
              "    }\n",
              "\n",
              "    .dataframe thead th {\n",
              "        text-align: right;\n",
              "    }\n",
              "</style>\n",
              "<table border=\"1\" class=\"dataframe\">\n",
              "  <thead>\n",
              "    <tr style=\"text-align: right;\">\n",
              "      <th></th>\n",
              "      <th>index</th>\n",
              "      <th>0</th>\n",
              "    </tr>\n",
              "  </thead>\n",
              "  <tbody>\n",
              "    <tr>\n",
              "      <th>0</th>\n",
              "      <td>a</td>\n",
              "      <td>0</td>\n",
              "    </tr>\n",
              "    <tr>\n",
              "      <th>1</th>\n",
              "      <td>b</td>\n",
              "      <td>1</td>\n",
              "    </tr>\n",
              "    <tr>\n",
              "      <th>2</th>\n",
              "      <td>c</td>\n",
              "      <td>2</td>\n",
              "    </tr>\n",
              "    <tr>\n",
              "      <th>3</th>\n",
              "      <td>e</td>\n",
              "      <td>3</td>\n",
              "    </tr>\n",
              "    <tr>\n",
              "      <th>4</th>\n",
              "      <td>d</td>\n",
              "      <td>4</td>\n",
              "    </tr>\n",
              "    <tr>\n",
              "      <th>5</th>\n",
              "      <td>f</td>\n",
              "      <td>5</td>\n",
              "    </tr>\n",
              "    <tr>\n",
              "      <th>6</th>\n",
              "      <td>g</td>\n",
              "      <td>6</td>\n",
              "    </tr>\n",
              "    <tr>\n",
              "      <th>7</th>\n",
              "      <td>h</td>\n",
              "      <td>7</td>\n",
              "    </tr>\n",
              "    <tr>\n",
              "      <th>8</th>\n",
              "      <td>i</td>\n",
              "      <td>8</td>\n",
              "    </tr>\n",
              "    <tr>\n",
              "      <th>9</th>\n",
              "      <td>j</td>\n",
              "      <td>9</td>\n",
              "    </tr>\n",
              "    <tr>\n",
              "      <th>10</th>\n",
              "      <td>k</td>\n",
              "      <td>10</td>\n",
              "    </tr>\n",
              "    <tr>\n",
              "      <th>11</th>\n",
              "      <td>l</td>\n",
              "      <td>11</td>\n",
              "    </tr>\n",
              "    <tr>\n",
              "      <th>12</th>\n",
              "      <td>m</td>\n",
              "      <td>12</td>\n",
              "    </tr>\n",
              "    <tr>\n",
              "      <th>13</th>\n",
              "      <td>n</td>\n",
              "      <td>13</td>\n",
              "    </tr>\n",
              "    <tr>\n",
              "      <th>14</th>\n",
              "      <td>o</td>\n",
              "      <td>14</td>\n",
              "    </tr>\n",
              "    <tr>\n",
              "      <th>15</th>\n",
              "      <td>p</td>\n",
              "      <td>15</td>\n",
              "    </tr>\n",
              "    <tr>\n",
              "      <th>16</th>\n",
              "      <td>q</td>\n",
              "      <td>16</td>\n",
              "    </tr>\n",
              "    <tr>\n",
              "      <th>17</th>\n",
              "      <td>r</td>\n",
              "      <td>17</td>\n",
              "    </tr>\n",
              "    <tr>\n",
              "      <th>18</th>\n",
              "      <td>s</td>\n",
              "      <td>18</td>\n",
              "    </tr>\n",
              "    <tr>\n",
              "      <th>19</th>\n",
              "      <td>t</td>\n",
              "      <td>19</td>\n",
              "    </tr>\n",
              "    <tr>\n",
              "      <th>20</th>\n",
              "      <td>u</td>\n",
              "      <td>20</td>\n",
              "    </tr>\n",
              "    <tr>\n",
              "      <th>21</th>\n",
              "      <td>v</td>\n",
              "      <td>21</td>\n",
              "    </tr>\n",
              "    <tr>\n",
              "      <th>22</th>\n",
              "      <td>w</td>\n",
              "      <td>22</td>\n",
              "    </tr>\n",
              "    <tr>\n",
              "      <th>23</th>\n",
              "      <td>x</td>\n",
              "      <td>23</td>\n",
              "    </tr>\n",
              "    <tr>\n",
              "      <th>24</th>\n",
              "      <td>y</td>\n",
              "      <td>24</td>\n",
              "    </tr>\n",
              "    <tr>\n",
              "      <th>25</th>\n",
              "      <td>z</td>\n",
              "      <td>25</td>\n",
              "    </tr>\n",
              "  </tbody>\n",
              "</table>\n",
              "</div>"
            ],
            "text/plain": [
              "   index   0\n",
              "0      a   0\n",
              "1      b   1\n",
              "2      c   2\n",
              "3      e   3\n",
              "4      d   4\n",
              "5      f   5\n",
              "6      g   6\n",
              "7      h   7\n",
              "8      i   8\n",
              "9      j   9\n",
              "10     k  10\n",
              "11     l  11\n",
              "12     m  12\n",
              "13     n  13\n",
              "14     o  14\n",
              "15     p  15\n",
              "16     q  16\n",
              "17     r  17\n",
              "18     s  18\n",
              "19     t  19\n",
              "20     u  20\n",
              "21     v  21\n",
              "22     w  22\n",
              "23     x  23\n",
              "24     y  24\n",
              "25     z  25"
            ]
          },
          "execution_count": 9,
          "metadata": {},
          "output_type": "execute_result"
        }
      ]
    },
    {
      "cell_type": "markdown",
      "metadata": {
        "id": "K4gcK2cxOjK1"
      },
      "source": [
        "## 3. How to combine many series to form a dataframe?\n",
        "Difficulty Level: L1\n",
        "\n",
        "Combine ser1 and ser2 to form a dataframe."
      ]
    },
    {
      "cell_type": "code",
      "metadata": {
        "tags": [],
        "id": "16qDQ4V7OjK3"
      },
      "source": [
        "df_concat = pd.concat([s1,s2],axis=1)"
      ],
      "execution_count": null,
      "outputs": []
    },
    {
      "cell_type": "markdown",
      "metadata": {
        "id": "ddxyZQ3GOjK5"
      },
      "source": [
        "## 4. How to assign name to the series’ index?\n",
        "Difficulty Level: L1\n",
        "\n",
        "Give a name to the series ser calling it ‘alphabets’."
      ]
    },
    {
      "cell_type": "code",
      "metadata": {
        "collapsed": true,
        "jupyter": {
          "outputs_hidden": true
        },
        "tags": [],
        "id": "4wZwLK3bOjK7",
        "outputId": "9e4f0cf8-75fc-4da2-d5c5-ae29e91e296a"
      },
      "source": [
        "df_concat.index.name = 'alpha'\n",
        "df_concat"
      ],
      "execution_count": null,
      "outputs": [
        {
          "data": {
            "text/html": [
              "<div>\n",
              "<style scoped>\n",
              "    .dataframe tbody tr th:only-of-type {\n",
              "        vertical-align: middle;\n",
              "    }\n",
              "\n",
              "    .dataframe tbody tr th {\n",
              "        vertical-align: top;\n",
              "    }\n",
              "\n",
              "    .dataframe thead th {\n",
              "        text-align: right;\n",
              "    }\n",
              "</style>\n",
              "<table border=\"1\" class=\"dataframe\">\n",
              "  <thead>\n",
              "    <tr style=\"text-align: right;\">\n",
              "      <th></th>\n",
              "      <th>0</th>\n",
              "      <th>1</th>\n",
              "    </tr>\n",
              "    <tr>\n",
              "      <th>alpha</th>\n",
              "      <th></th>\n",
              "      <th></th>\n",
              "    </tr>\n",
              "  </thead>\n",
              "  <tbody>\n",
              "    <tr>\n",
              "      <th>0</th>\n",
              "      <td>a</td>\n",
              "      <td>0</td>\n",
              "    </tr>\n",
              "    <tr>\n",
              "      <th>1</th>\n",
              "      <td>b</td>\n",
              "      <td>1</td>\n",
              "    </tr>\n",
              "    <tr>\n",
              "      <th>2</th>\n",
              "      <td>c</td>\n",
              "      <td>2</td>\n",
              "    </tr>\n",
              "    <tr>\n",
              "      <th>3</th>\n",
              "      <td>e</td>\n",
              "      <td>3</td>\n",
              "    </tr>\n",
              "    <tr>\n",
              "      <th>4</th>\n",
              "      <td>d</td>\n",
              "      <td>4</td>\n",
              "    </tr>\n",
              "    <tr>\n",
              "      <th>5</th>\n",
              "      <td>f</td>\n",
              "      <td>5</td>\n",
              "    </tr>\n",
              "    <tr>\n",
              "      <th>6</th>\n",
              "      <td>g</td>\n",
              "      <td>6</td>\n",
              "    </tr>\n",
              "    <tr>\n",
              "      <th>7</th>\n",
              "      <td>h</td>\n",
              "      <td>7</td>\n",
              "    </tr>\n",
              "    <tr>\n",
              "      <th>8</th>\n",
              "      <td>i</td>\n",
              "      <td>8</td>\n",
              "    </tr>\n",
              "    <tr>\n",
              "      <th>9</th>\n",
              "      <td>j</td>\n",
              "      <td>9</td>\n",
              "    </tr>\n",
              "    <tr>\n",
              "      <th>10</th>\n",
              "      <td>k</td>\n",
              "      <td>10</td>\n",
              "    </tr>\n",
              "    <tr>\n",
              "      <th>11</th>\n",
              "      <td>l</td>\n",
              "      <td>11</td>\n",
              "    </tr>\n",
              "    <tr>\n",
              "      <th>12</th>\n",
              "      <td>m</td>\n",
              "      <td>12</td>\n",
              "    </tr>\n",
              "    <tr>\n",
              "      <th>13</th>\n",
              "      <td>n</td>\n",
              "      <td>13</td>\n",
              "    </tr>\n",
              "    <tr>\n",
              "      <th>14</th>\n",
              "      <td>o</td>\n",
              "      <td>14</td>\n",
              "    </tr>\n",
              "    <tr>\n",
              "      <th>15</th>\n",
              "      <td>p</td>\n",
              "      <td>15</td>\n",
              "    </tr>\n",
              "    <tr>\n",
              "      <th>16</th>\n",
              "      <td>q</td>\n",
              "      <td>16</td>\n",
              "    </tr>\n",
              "    <tr>\n",
              "      <th>17</th>\n",
              "      <td>r</td>\n",
              "      <td>17</td>\n",
              "    </tr>\n",
              "    <tr>\n",
              "      <th>18</th>\n",
              "      <td>s</td>\n",
              "      <td>18</td>\n",
              "    </tr>\n",
              "    <tr>\n",
              "      <th>19</th>\n",
              "      <td>t</td>\n",
              "      <td>19</td>\n",
              "    </tr>\n",
              "    <tr>\n",
              "      <th>20</th>\n",
              "      <td>u</td>\n",
              "      <td>20</td>\n",
              "    </tr>\n",
              "    <tr>\n",
              "      <th>21</th>\n",
              "      <td>v</td>\n",
              "      <td>21</td>\n",
              "    </tr>\n",
              "    <tr>\n",
              "      <th>22</th>\n",
              "      <td>w</td>\n",
              "      <td>22</td>\n",
              "    </tr>\n",
              "    <tr>\n",
              "      <th>23</th>\n",
              "      <td>x</td>\n",
              "      <td>23</td>\n",
              "    </tr>\n",
              "    <tr>\n",
              "      <th>24</th>\n",
              "      <td>y</td>\n",
              "      <td>24</td>\n",
              "    </tr>\n",
              "    <tr>\n",
              "      <th>25</th>\n",
              "      <td>z</td>\n",
              "      <td>25</td>\n",
              "    </tr>\n",
              "  </tbody>\n",
              "</table>\n",
              "</div>"
            ],
            "text/plain": [
              "       0   1\n",
              "alpha       \n",
              "0      a   0\n",
              "1      b   1\n",
              "2      c   2\n",
              "3      e   3\n",
              "4      d   4\n",
              "5      f   5\n",
              "6      g   6\n",
              "7      h   7\n",
              "8      i   8\n",
              "9      j   9\n",
              "10     k  10\n",
              "11     l  11\n",
              "12     m  12\n",
              "13     n  13\n",
              "14     o  14\n",
              "15     p  15\n",
              "16     q  16\n",
              "17     r  17\n",
              "18     s  18\n",
              "19     t  19\n",
              "20     u  20\n",
              "21     v  21\n",
              "22     w  22\n",
              "23     x  23\n",
              "24     y  24\n",
              "25     z  25"
            ]
          },
          "execution_count": 14,
          "metadata": {},
          "output_type": "execute_result"
        }
      ]
    },
    {
      "cell_type": "markdown",
      "metadata": {
        "id": "JxE3G1zFOjK8"
      },
      "source": [
        "## 5. How to get the items of series A not present in series B?\n",
        "Difficulty Level: L2\n",
        "\n",
        "From ser1 remove items present in ser2.\n",
        "\n"
      ]
    },
    {
      "cell_type": "code",
      "metadata": {
        "id": "jdYQ2I-XOjK8"
      },
      "source": [
        "ser1 = pd.Series([1, 2, 3, 4, 5])\n",
        "ser2 = pd.Series([4, 5, 6, 7, 8])"
      ],
      "execution_count": null,
      "outputs": []
    },
    {
      "cell_type": "code",
      "metadata": {
        "id": "9m-leaPLOjK9",
        "outputId": "d84d4c91-11a8-42ac-b623-c0f4be000b0f"
      },
      "source": [
        "ser1[~ser1.isin(ser2)]"
      ],
      "execution_count": null,
      "outputs": [
        {
          "data": {
            "text/plain": [
              "0    1\n",
              "1    2\n",
              "2    3\n",
              "dtype: int64"
            ]
          },
          "execution_count": 665,
          "metadata": {},
          "output_type": "execute_result"
        }
      ]
    },
    {
      "cell_type": "code",
      "metadata": {
        "id": "hK3Gqse7OjK-"
      },
      "source": [
        "ser"
      ],
      "execution_count": null,
      "outputs": []
    },
    {
      "cell_type": "markdown",
      "metadata": {
        "id": "ib1vRIbVOjK_"
      },
      "source": [
        "## 6. How to get the minimum, 25th percentile, median, 75th, and max of a numeric series?\n",
        "Difficuty Level: L2\n",
        "\n",
        "Compute the minimum, 25th percentile, median, 75th, and maximum of ser."
      ]
    },
    {
      "cell_type": "code",
      "metadata": {
        "collapsed": true,
        "jupyter": {
          "outputs_hidden": true
        },
        "tags": [],
        "id": "_oaeVd-QOjLA",
        "outputId": "859e1181-2cdf-4f61-bfff-7ea6bad4deb9"
      },
      "source": [
        "ser1.describe()"
      ],
      "execution_count": null,
      "outputs": [
        {
          "data": {
            "text/plain": [
              "count    5.000000\n",
              "mean     3.000000\n",
              "std      1.581139\n",
              "min      1.000000\n",
              "25%      2.000000\n",
              "50%      3.000000\n",
              "75%      4.000000\n",
              "max      5.000000\n",
              "dtype: float64"
            ]
          },
          "execution_count": 19,
          "metadata": {},
          "output_type": "execute_result"
        }
      ]
    },
    {
      "cell_type": "markdown",
      "metadata": {
        "id": "ND8WCBkuOjLB"
      },
      "source": [
        "## 7. How to get frequency counts of unique items of a series?\n",
        "Difficulty Level: L1\n",
        "\n",
        "Calculte the frequency counts of each unique value ser."
      ]
    },
    {
      "cell_type": "code",
      "metadata": {
        "collapsed": true,
        "jupyter": {
          "outputs_hidden": true
        },
        "tags": [],
        "id": "8qQfj3xUOjLB",
        "outputId": "9b92bfe4-3f91-4fb3-89d7-00addee51f22"
      },
      "source": [
        "ser = pd.Series(np.take(list('abcdefgh'), np.random.randint(8, size=30)))\n",
        "ser"
      ],
      "execution_count": null,
      "outputs": [
        {
          "data": {
            "text/plain": [
              "0     g\n",
              "1     g\n",
              "2     c\n",
              "3     f\n",
              "4     h\n",
              "5     g\n",
              "6     a\n",
              "7     e\n",
              "8     a\n",
              "9     e\n",
              "10    e\n",
              "11    h\n",
              "12    c\n",
              "13    c\n",
              "14    d\n",
              "15    g\n",
              "16    f\n",
              "17    h\n",
              "18    h\n",
              "19    h\n",
              "20    d\n",
              "21    b\n",
              "22    d\n",
              "23    a\n",
              "24    g\n",
              "25    a\n",
              "26    a\n",
              "27    c\n",
              "28    g\n",
              "29    d\n",
              "dtype: object"
            ]
          },
          "execution_count": 20,
          "metadata": {},
          "output_type": "execute_result"
        }
      ]
    },
    {
      "cell_type": "code",
      "metadata": {
        "collapsed": true,
        "jupyter": {
          "outputs_hidden": true
        },
        "tags": [],
        "id": "zW8VSwCdOjLC",
        "outputId": "23edcd9b-a900-420a-933c-3f4788021227"
      },
      "source": [
        "ser.value_counts()"
      ],
      "execution_count": null,
      "outputs": [
        {
          "data": {
            "text/plain": [
              "g    6\n",
              "h    5\n",
              "a    5\n",
              "c    4\n",
              "d    4\n",
              "e    3\n",
              "f    2\n",
              "b    1\n",
              "dtype: int64"
            ]
          },
          "execution_count": 21,
          "metadata": {},
          "output_type": "execute_result"
        }
      ]
    },
    {
      "cell_type": "markdown",
      "metadata": {
        "id": "wch1trYdOjLD"
      },
      "source": [
        "## 8. How to keep only top 2 most frequent values as it is and replace everything else as ‘Other’?\n",
        "Difficulty Level: L2\n",
        "\n",
        "From ser, keep the top 2 most frequent items as it is and replace everything else as ‘Other’."
      ]
    },
    {
      "cell_type": "code",
      "metadata": {
        "tags": [],
        "id": "jKgWgknIOjLF"
      },
      "source": [
        "ser[~ser.isin(ser.value_counts().head(2).index.values)] = 'other'"
      ],
      "execution_count": null,
      "outputs": []
    },
    {
      "cell_type": "code",
      "metadata": {
        "collapsed": true,
        "jupyter": {
          "outputs_hidden": true
        },
        "tags": [],
        "id": "pfe7nnW6OjLH",
        "outputId": "fc1bd508-f7f9-4485-c63f-a1c0fb2ff71a"
      },
      "source": [
        "ser"
      ],
      "execution_count": null,
      "outputs": [
        {
          "data": {
            "text/plain": [
              "0         g\n",
              "1         g\n",
              "2     other\n",
              "3     other\n",
              "4         h\n",
              "5         g\n",
              "6     other\n",
              "7     other\n",
              "8     other\n",
              "9     other\n",
              "10    other\n",
              "11        h\n",
              "12    other\n",
              "13    other\n",
              "14    other\n",
              "15        g\n",
              "16    other\n",
              "17        h\n",
              "18        h\n",
              "19        h\n",
              "20    other\n",
              "21    other\n",
              "22    other\n",
              "23    other\n",
              "24        g\n",
              "25    other\n",
              "26    other\n",
              "27    other\n",
              "28        g\n",
              "29    other\n",
              "dtype: object"
            ]
          },
          "execution_count": 29,
          "metadata": {},
          "output_type": "execute_result"
        }
      ]
    },
    {
      "cell_type": "markdown",
      "metadata": {
        "id": "QPzqm5MaOjLJ"
      },
      "source": [
        "## 9. How to convert a numpy array to a dataframe of given shape? (L1)\n",
        "Difficulty Level: L1\n",
        "\n",
        "Reshape the series ser into a dataframe with 7 rows and 5 columns"
      ]
    },
    {
      "cell_type": "code",
      "metadata": {
        "collapsed": true,
        "jupyter": {
          "outputs_hidden": true
        },
        "tags": [],
        "id": "pLStGT9vOjLJ",
        "outputId": "a797106f-7acd-4730-af89-628105785354"
      },
      "source": [
        "ser = pd.Series(np.random.randint(1, 10, 35))\n",
        "ser"
      ],
      "execution_count": null,
      "outputs": [
        {
          "data": {
            "text/plain": [
              "0     6\n",
              "1     3\n",
              "2     1\n",
              "3     4\n",
              "4     4\n",
              "5     8\n",
              "6     3\n",
              "7     3\n",
              "8     8\n",
              "9     6\n",
              "10    4\n",
              "11    7\n",
              "12    8\n",
              "13    4\n",
              "14    3\n",
              "15    4\n",
              "16    8\n",
              "17    5\n",
              "18    9\n",
              "19    5\n",
              "20    6\n",
              "21    5\n",
              "22    3\n",
              "23    6\n",
              "24    8\n",
              "25    9\n",
              "26    2\n",
              "27    5\n",
              "28    9\n",
              "29    2\n",
              "30    2\n",
              "31    7\n",
              "32    3\n",
              "33    8\n",
              "34    1\n",
              "dtype: int64"
            ]
          },
          "execution_count": 32,
          "metadata": {},
          "output_type": "execute_result"
        }
      ]
    },
    {
      "cell_type": "code",
      "metadata": {
        "collapsed": true,
        "jupyter": {
          "outputs_hidden": true
        },
        "tags": [],
        "id": "Y3oYbRgwOjLK",
        "outputId": "cef4ff11-cb8c-4981-dc3f-824208f420c6"
      },
      "source": [
        "pd.DataFrame(np.array(ser).reshape([7,5]))"
      ],
      "execution_count": null,
      "outputs": [
        {
          "data": {
            "text/html": [
              "<div>\n",
              "<style scoped>\n",
              "    .dataframe tbody tr th:only-of-type {\n",
              "        vertical-align: middle;\n",
              "    }\n",
              "\n",
              "    .dataframe tbody tr th {\n",
              "        vertical-align: top;\n",
              "    }\n",
              "\n",
              "    .dataframe thead th {\n",
              "        text-align: right;\n",
              "    }\n",
              "</style>\n",
              "<table border=\"1\" class=\"dataframe\">\n",
              "  <thead>\n",
              "    <tr style=\"text-align: right;\">\n",
              "      <th></th>\n",
              "      <th>0</th>\n",
              "      <th>1</th>\n",
              "      <th>2</th>\n",
              "      <th>3</th>\n",
              "      <th>4</th>\n",
              "    </tr>\n",
              "  </thead>\n",
              "  <tbody>\n",
              "    <tr>\n",
              "      <th>0</th>\n",
              "      <td>6</td>\n",
              "      <td>3</td>\n",
              "      <td>1</td>\n",
              "      <td>4</td>\n",
              "      <td>4</td>\n",
              "    </tr>\n",
              "    <tr>\n",
              "      <th>1</th>\n",
              "      <td>8</td>\n",
              "      <td>3</td>\n",
              "      <td>3</td>\n",
              "      <td>8</td>\n",
              "      <td>6</td>\n",
              "    </tr>\n",
              "    <tr>\n",
              "      <th>2</th>\n",
              "      <td>4</td>\n",
              "      <td>7</td>\n",
              "      <td>8</td>\n",
              "      <td>4</td>\n",
              "      <td>3</td>\n",
              "    </tr>\n",
              "    <tr>\n",
              "      <th>3</th>\n",
              "      <td>4</td>\n",
              "      <td>8</td>\n",
              "      <td>5</td>\n",
              "      <td>9</td>\n",
              "      <td>5</td>\n",
              "    </tr>\n",
              "    <tr>\n",
              "      <th>4</th>\n",
              "      <td>6</td>\n",
              "      <td>5</td>\n",
              "      <td>3</td>\n",
              "      <td>6</td>\n",
              "      <td>8</td>\n",
              "    </tr>\n",
              "    <tr>\n",
              "      <th>5</th>\n",
              "      <td>9</td>\n",
              "      <td>2</td>\n",
              "      <td>5</td>\n",
              "      <td>9</td>\n",
              "      <td>2</td>\n",
              "    </tr>\n",
              "    <tr>\n",
              "      <th>6</th>\n",
              "      <td>2</td>\n",
              "      <td>7</td>\n",
              "      <td>3</td>\n",
              "      <td>8</td>\n",
              "      <td>1</td>\n",
              "    </tr>\n",
              "  </tbody>\n",
              "</table>\n",
              "</div>"
            ],
            "text/plain": [
              "   0  1  2  3  4\n",
              "0  6  3  1  4  4\n",
              "1  8  3  3  8  6\n",
              "2  4  7  8  4  3\n",
              "3  4  8  5  9  5\n",
              "4  6  5  3  6  8\n",
              "5  9  2  5  9  2\n",
              "6  2  7  3  8  1"
            ]
          },
          "execution_count": 34,
          "metadata": {},
          "output_type": "execute_result"
        }
      ]
    },
    {
      "cell_type": "markdown",
      "metadata": {
        "id": "f6zsY6K1OjLL"
      },
      "source": [
        "## 10. How to find the positions of numbers that are multiples of 3 from a series?\n",
        "Difficulty Level: L2\n",
        "\n",
        "Find the positions of numbers that are multiples of 3 from ser."
      ]
    },
    {
      "cell_type": "code",
      "metadata": {
        "collapsed": true,
        "jupyter": {
          "outputs_hidden": true
        },
        "tags": [],
        "id": "OyFYQtT-OjLM",
        "outputId": "fb294aa7-0399-4281-b2fc-5ff49a92dd54"
      },
      "source": [
        "ser = pd.Series(np.random.randint(1, 10, 7))\n",
        "ser"
      ],
      "execution_count": null,
      "outputs": [
        {
          "data": {
            "text/plain": [
              "0    3\n",
              "1    1\n",
              "2    3\n",
              "3    4\n",
              "4    8\n",
              "5    1\n",
              "6    1\n",
              "dtype: int64"
            ]
          },
          "execution_count": 37,
          "metadata": {},
          "output_type": "execute_result"
        }
      ]
    },
    {
      "cell_type": "code",
      "metadata": {
        "id": "wGC2jR0NOjLM",
        "outputId": "7a1a6240-055d-4d10-daea-9b8059fd4e54"
      },
      "source": [
        "ser[(ser%3)==0].index"
      ],
      "execution_count": null,
      "outputs": [
        {
          "data": {
            "text/plain": [
              "Int64Index([0, 2], dtype='int64')"
            ]
          },
          "execution_count": 39,
          "metadata": {},
          "output_type": "execute_result"
        }
      ]
    },
    {
      "cell_type": "markdown",
      "metadata": {
        "id": "xFAwDjzDOjLN"
      },
      "source": [
        "## 11. How to extract items at given positions from a series\n",
        "Difficulty Level: L1\n",
        "\n",
        "From ser, extract the items at positions in list pos."
      ]
    },
    {
      "cell_type": "code",
      "metadata": {
        "id": "84olzmcyOjLN"
      },
      "source": [
        "ser = pd.Series(list('abcdefghijklmnopqrstuvwxyz'))\n",
        "pos = [0, 4, 8, 14, 20]"
      ],
      "execution_count": null,
      "outputs": []
    },
    {
      "cell_type": "code",
      "metadata": {
        "collapsed": true,
        "jupyter": {
          "outputs_hidden": true
        },
        "tags": [],
        "id": "HDZha4b4OjLO",
        "outputId": "d6462021-123f-497e-aa8e-77f03940f404"
      },
      "source": [
        "ser.iloc[pos]"
      ],
      "execution_count": null,
      "outputs": [
        {
          "data": {
            "text/plain": [
              "0     a\n",
              "4     e\n",
              "8     i\n",
              "14    o\n",
              "20    u\n",
              "dtype: object"
            ]
          },
          "execution_count": 41,
          "metadata": {},
          "output_type": "execute_result"
        }
      ]
    },
    {
      "cell_type": "markdown",
      "metadata": {
        "id": "Q4KNn1hyOjLO"
      },
      "source": [
        "## 12. How to stack two series vertically and horizontally ?\n",
        "Difficulty Level: L1\n",
        "\n",
        "Stack ser1 and ser2 vertically and horizontally (to form a dataframe)."
      ]
    },
    {
      "cell_type": "code",
      "metadata": {
        "id": "_B-qljdaOjLP"
      },
      "source": [
        "ser1 = pd.Series(range(5))\n",
        "ser2 = pd.Series(list('abcde'))"
      ],
      "execution_count": null,
      "outputs": []
    },
    {
      "cell_type": "code",
      "metadata": {
        "collapsed": true,
        "jupyter": {
          "outputs_hidden": true
        },
        "tags": [],
        "id": "ucwn1bAVOjLP",
        "outputId": "bc1fddb2-b26e-4f8e-c150-59670d85b02f"
      },
      "source": [
        "pd.concat([ser1,ser2],axis=0) #adiciona linhas"
      ],
      "execution_count": null,
      "outputs": [
        {
          "data": {
            "text/plain": [
              "0    1\n",
              "1    2\n",
              "2    3\n",
              "3    4\n",
              "4    5\n",
              "0    4\n",
              "1    5\n",
              "2    6\n",
              "3    7\n",
              "4    8\n",
              "dtype: int64"
            ]
          },
          "execution_count": 42,
          "metadata": {},
          "output_type": "execute_result"
        }
      ]
    },
    {
      "cell_type": "code",
      "metadata": {
        "collapsed": true,
        "jupyter": {
          "outputs_hidden": true
        },
        "tags": [],
        "id": "H7Slu61COjLP",
        "outputId": "c4e90e47-93f8-4e01-86e0-dee21d411543"
      },
      "source": [
        "pd.concat([ser1,ser2],axis=1) #adiciona nova coluna"
      ],
      "execution_count": null,
      "outputs": [
        {
          "data": {
            "text/html": [
              "<div>\n",
              "<style scoped>\n",
              "    .dataframe tbody tr th:only-of-type {\n",
              "        vertical-align: middle;\n",
              "    }\n",
              "\n",
              "    .dataframe tbody tr th {\n",
              "        vertical-align: top;\n",
              "    }\n",
              "\n",
              "    .dataframe thead th {\n",
              "        text-align: right;\n",
              "    }\n",
              "</style>\n",
              "<table border=\"1\" class=\"dataframe\">\n",
              "  <thead>\n",
              "    <tr style=\"text-align: right;\">\n",
              "      <th></th>\n",
              "      <th>0</th>\n",
              "      <th>1</th>\n",
              "    </tr>\n",
              "  </thead>\n",
              "  <tbody>\n",
              "    <tr>\n",
              "      <th>0</th>\n",
              "      <td>1</td>\n",
              "      <td>4</td>\n",
              "    </tr>\n",
              "    <tr>\n",
              "      <th>1</th>\n",
              "      <td>2</td>\n",
              "      <td>5</td>\n",
              "    </tr>\n",
              "    <tr>\n",
              "      <th>2</th>\n",
              "      <td>3</td>\n",
              "      <td>6</td>\n",
              "    </tr>\n",
              "    <tr>\n",
              "      <th>3</th>\n",
              "      <td>4</td>\n",
              "      <td>7</td>\n",
              "    </tr>\n",
              "    <tr>\n",
              "      <th>4</th>\n",
              "      <td>5</td>\n",
              "      <td>8</td>\n",
              "    </tr>\n",
              "  </tbody>\n",
              "</table>\n",
              "</div>"
            ],
            "text/plain": [
              "   0  1\n",
              "0  1  4\n",
              "1  2  5\n",
              "2  3  6\n",
              "3  4  7\n",
              "4  5  8"
            ]
          },
          "execution_count": 43,
          "metadata": {},
          "output_type": "execute_result"
        }
      ]
    },
    {
      "cell_type": "markdown",
      "metadata": {
        "id": "9eh1s3B_OjLQ"
      },
      "source": [
        "## 13. How to get the positions of items of series A in another series B?\n",
        "Difficulty Level: L2\n",
        "\n",
        "Get the positions of items of ser2 in ser1 as a list."
      ]
    },
    {
      "cell_type": "code",
      "metadata": {
        "id": "k-s0yV0AOjLQ"
      },
      "source": [
        "ser1 = pd.Series([10, 9, 6, 5, 3, 1, 12, 8, 13])\n",
        "ser2 = pd.Series([1, 3, 10, 13])"
      ],
      "execution_count": null,
      "outputs": []
    },
    {
      "cell_type": "code",
      "metadata": {
        "id": "nH4ZMxiROjLQ",
        "outputId": "c465830c-95f7-43fc-9545-d044b695704c"
      },
      "source": [
        "ser1[ser1.isin(ser2)].index"
      ],
      "execution_count": null,
      "outputs": [
        {
          "data": {
            "text/plain": [
              "Int64Index([0, 4, 5, 8], dtype='int64')"
            ]
          },
          "execution_count": 50,
          "metadata": {},
          "output_type": "execute_result"
        }
      ]
    },
    {
      "cell_type": "markdown",
      "metadata": {
        "id": "eyImS_3QOjLR"
      },
      "source": [
        "## 14. How to convert the first character of each element in a series to uppercase?\n",
        "Difficulty Level: L2\n",
        "\n",
        "Change the first character of each word to upper case in each word of ser."
      ]
    },
    {
      "cell_type": "code",
      "metadata": {
        "id": "ciyPR9ZyOjLR"
      },
      "source": [
        "ser = pd.Series(['how', 'to', 'kick', 'ass?'])"
      ],
      "execution_count": null,
      "outputs": []
    },
    {
      "cell_type": "code",
      "metadata": {
        "collapsed": true,
        "jupyter": {
          "outputs_hidden": true
        },
        "tags": [],
        "id": "4VmMZbGROjLR",
        "outputId": "da8abb66-9438-42ca-b205-3506213cd410"
      },
      "source": [
        "ser.apply(str.capitalize)"
      ],
      "execution_count": null,
      "outputs": [
        {
          "data": {
            "text/plain": [
              "0     How\n",
              "1      To\n",
              "2    Kick\n",
              "3    Ass?\n",
              "dtype: object"
            ]
          },
          "execution_count": 55,
          "metadata": {},
          "output_type": "execute_result"
        }
      ]
    },
    {
      "cell_type": "markdown",
      "metadata": {
        "id": "tE7szx2aOjLR"
      },
      "source": [
        "## 15. How to calculate the number of characters in each word in a series?\n",
        "Difficulty Level: L2"
      ]
    },
    {
      "cell_type": "code",
      "metadata": {
        "collapsed": true,
        "jupyter": {
          "outputs_hidden": true
        },
        "tags": [],
        "id": "CZNzXxW1OjLS",
        "outputId": "ff367245-4a81-4b7e-a8dd-0b83cc26d14b"
      },
      "source": [
        "ser.map(lambda x: len(x))"
      ],
      "execution_count": null,
      "outputs": [
        {
          "data": {
            "text/plain": [
              "0    3\n",
              "1    2\n",
              "2    4\n",
              "3    4\n",
              "dtype: int64"
            ]
          },
          "execution_count": 65,
          "metadata": {},
          "output_type": "execute_result"
        }
      ]
    },
    {
      "cell_type": "markdown",
      "metadata": {
        "id": "3R3f5g6qOjLS"
      },
      "source": [
        "## 16. How to compute difference of differences between consequtive numbers of a series?\n",
        "Difficulty Level: L1\n",
        "\n",
        "Difference of differences between the consequtive numbers of ser."
      ]
    },
    {
      "cell_type": "code",
      "metadata": {
        "id": "85R-NwygOjLS"
      },
      "source": [
        "ser = pd.Series([1, 3, 6, 10, 15, 21, 27, 35])"
      ],
      "execution_count": null,
      "outputs": []
    },
    {
      "cell_type": "code",
      "metadata": {
        "collapsed": true,
        "jupyter": {
          "outputs_hidden": true
        },
        "tags": [],
        "id": "bbVDcztJOjLT",
        "outputId": "805add34-7d63-4031-cc7f-2603ca40354e"
      },
      "source": [
        "ser.diff()"
      ],
      "execution_count": null,
      "outputs": [
        {
          "data": {
            "text/plain": [
              "0    NaN\n",
              "1    2.0\n",
              "2    3.0\n",
              "3    4.0\n",
              "4    5.0\n",
              "5    6.0\n",
              "6    6.0\n",
              "7    8.0\n",
              "dtype: float64"
            ]
          },
          "execution_count": 68,
          "metadata": {},
          "output_type": "execute_result"
        }
      ]
    },
    {
      "cell_type": "markdown",
      "metadata": {
        "id": "1n9DkJtzOjLT"
      },
      "source": [
        "## 17. How to convert a series of date-strings to a timeseries?\n",
        "Difficiulty Level: L2"
      ]
    },
    {
      "cell_type": "code",
      "metadata": {
        "id": "7s7mAelFOjLT"
      },
      "source": [
        "ser = pd.Series(['01 Jan 2010', '02-02-2011', '20120303', '2013/04/04', '2014-05-05', '2015-06-06T12:20'])"
      ],
      "execution_count": null,
      "outputs": []
    },
    {
      "cell_type": "code",
      "metadata": {
        "collapsed": true,
        "jupyter": {
          "outputs_hidden": true
        },
        "tags": [],
        "id": "wSd7GpFXOjLT",
        "outputId": "a8e46887-335d-46e7-bec9-6f0b31622ff7"
      },
      "source": [
        "from dateutil.parser import parse\n",
        "ser.index = ser.apply(parse)\n",
        "ser"
      ],
      "execution_count": null,
      "outputs": [
        {
          "data": {
            "text/plain": [
              "2010-01-01 00:00:00         01 Jan 2010\n",
              "2011-02-02 00:00:00          02-02-2011\n",
              "2012-03-03 00:00:00            20120303\n",
              "2013-04-04 00:00:00          2013/04/04\n",
              "2014-05-05 00:00:00          2014-05-05\n",
              "2015-06-06 12:20:00    2015-06-06T12:20\n",
              "dtype: object"
            ]
          },
          "execution_count": 190,
          "metadata": {},
          "output_type": "execute_result"
        }
      ]
    },
    {
      "cell_type": "markdown",
      "metadata": {
        "id": "Z2BXNHhiOjLU"
      },
      "source": [
        "## 18. How to get the day of month, week number, day of year and day of week from a series of date strings?\n",
        "Difficiulty Level: L2\n",
        "\n",
        "Get the day of month, week number, day of year and day of week from ser."
      ]
    },
    {
      "cell_type": "code",
      "metadata": {
        "id": "sDLy8g_fOjLU"
      },
      "source": [
        "ser = pd.Series(['01 Jan 2010', '02-02-2011', '20120303', '2013/04/04', '2014-05-05', '2015-06-06T12:20'])"
      ],
      "execution_count": null,
      "outputs": []
    },
    {
      "cell_type": "code",
      "metadata": {
        "id": "8DpuGjGDOjLW"
      },
      "source": [
        "ser = ser.apply(parse)"
      ],
      "execution_count": null,
      "outputs": []
    },
    {
      "cell_type": "code",
      "metadata": {
        "collapsed": true,
        "jupyter": {
          "outputs_hidden": true
        },
        "tags": [],
        "id": "PRU0LXFlOjLW",
        "outputId": "fd627676-bfcc-418a-a94f-3563d35c116a"
      },
      "source": [
        "ser.dt.day"
      ],
      "execution_count": null,
      "outputs": [
        {
          "data": {
            "text/plain": [
              "0    1\n",
              "1    2\n",
              "2    3\n",
              "3    4\n",
              "4    5\n",
              "5    6\n",
              "dtype: int64"
            ]
          },
          "execution_count": 76,
          "metadata": {},
          "output_type": "execute_result"
        }
      ]
    },
    {
      "cell_type": "code",
      "metadata": {
        "collapsed": true,
        "jupyter": {
          "outputs_hidden": true
        },
        "tags": [],
        "id": "lkIxq9egOjLX",
        "outputId": "e198e0a3-16b4-4ffc-9a01-328cddb33f2f"
      },
      "source": [
        "ser.dt.isocalendar().week"
      ],
      "execution_count": null,
      "outputs": [
        {
          "data": {
            "text/plain": [
              "0    53\n",
              "1     5\n",
              "2     9\n",
              "3    14\n",
              "4    19\n",
              "5    23\n",
              "Name: week, dtype: UInt32"
            ]
          },
          "execution_count": 78,
          "metadata": {},
          "output_type": "execute_result"
        }
      ]
    },
    {
      "cell_type": "code",
      "metadata": {
        "collapsed": true,
        "jupyter": {
          "outputs_hidden": true
        },
        "tags": [],
        "id": "iCKC7hg4OjLX",
        "outputId": "ca4aa448-5aba-4396-b065-248c5186be75"
      },
      "source": [
        "ser.dt.day_of_year"
      ],
      "execution_count": null,
      "outputs": [
        {
          "data": {
            "text/plain": [
              "0      1\n",
              "1     33\n",
              "2     63\n",
              "3     94\n",
              "4    125\n",
              "5    157\n",
              "dtype: int64"
            ]
          },
          "execution_count": 79,
          "metadata": {},
          "output_type": "execute_result"
        }
      ]
    },
    {
      "cell_type": "code",
      "metadata": {
        "collapsed": true,
        "jupyter": {
          "outputs_hidden": true
        },
        "tags": [],
        "id": "AIK-oGlJOjLX",
        "outputId": "41f01eb0-3988-4878-b665-5625de8982cb"
      },
      "source": [
        "ser.dt.day_of_week"
      ],
      "execution_count": null,
      "outputs": [
        {
          "data": {
            "text/plain": [
              "0    4\n",
              "1    2\n",
              "2    5\n",
              "3    3\n",
              "4    0\n",
              "5    5\n",
              "dtype: int64"
            ]
          },
          "execution_count": 80,
          "metadata": {},
          "output_type": "execute_result"
        }
      ]
    },
    {
      "cell_type": "markdown",
      "metadata": {
        "id": "CNcr7UDQOjLY"
      },
      "source": [
        "## 19. How to convert year-month string to dates corresponding to the 4th day of the month?\n",
        "Difficiulty Level: L2\n",
        "\n",
        "Change ser to dates that start with 4th of the respective months."
      ]
    },
    {
      "cell_type": "code",
      "metadata": {
        "id": "vim6reqqOjLY"
      },
      "source": [
        "ser = pd.Series(['Jan 2010', 'Feb 2011', 'Mar 2012'])"
      ],
      "execution_count": null,
      "outputs": []
    },
    {
      "cell_type": "code",
      "metadata": {
        "id": "0-HvffIKOjLY"
      },
      "source": [
        "ser = ser.apply(parse)"
      ],
      "execution_count": null,
      "outputs": []
    },
    {
      "cell_type": "code",
      "metadata": {
        "collapsed": true,
        "jupyter": {
          "outputs_hidden": true
        },
        "tags": [],
        "id": "9AFTxuLEOjLY",
        "outputId": "1117ef29-9f8a-4f0c-9a57-8feb3343db7c"
      },
      "source": [
        "ser.map(lambda x: x.replace(day=4))"
      ],
      "execution_count": null,
      "outputs": [
        {
          "data": {
            "text/plain": [
              "0   2010-01-04\n",
              "1   2011-02-04\n",
              "2   2012-03-04\n",
              "dtype: datetime64[ns]"
            ]
          },
          "execution_count": 126,
          "metadata": {},
          "output_type": "execute_result"
        }
      ]
    },
    {
      "cell_type": "markdown",
      "metadata": {
        "id": "j9RZf9xiOjLZ"
      },
      "source": [
        "## 20. How to filter words that contain at least 2 vowels from a series?\n",
        "Difficiulty Level: L3\n",
        "\n",
        "From ser, extract words that contain atleast 2 vowels."
      ]
    },
    {
      "cell_type": "code",
      "metadata": {
        "id": "CYe8t6f0OjLZ"
      },
      "source": [
        "ser = pd.Series(['Apple', 'Orange', 'Plan', 'Python', 'Money'])"
      ],
      "execution_count": null,
      "outputs": []
    },
    {
      "cell_type": "code",
      "metadata": {
        "collapsed": true,
        "jupyter": {
          "outputs_hidden": true
        },
        "tags": [],
        "id": "kTDHmzZHOjLZ",
        "outputId": "9ee4d21a-483d-4c59-ff40-428fa4085d92"
      },
      "source": [
        "ser[ser.apply(lambda x: len(re.findall('[AEIOUaeiou]',x))>=2 )]"
      ],
      "execution_count": null,
      "outputs": [
        {
          "data": {
            "text/plain": [
              "0     Apple\n",
              "1    Orange\n",
              "4     Money\n",
              "dtype: object"
            ]
          },
          "execution_count": 148,
          "metadata": {},
          "output_type": "execute_result"
        }
      ]
    },
    {
      "cell_type": "markdown",
      "metadata": {
        "id": "r211WM_VOjLa"
      },
      "source": [
        "## 21. How to filter valid emails from a series?\n",
        "Difficiulty Level: L3\n",
        "\n",
        "Extract the valid emails from the series emails. The regex pattern for valid emails is provided as reference."
      ]
    },
    {
      "cell_type": "code",
      "metadata": {
        "id": "37pblhG3OjLa"
      },
      "source": [
        "emails = pd.Series(['buying books at amazom.com', 'rameses@egypt.com', 'matt@t.co', 'narendra@modi.com','rameses'])\n",
        "pattern = '[A-Za-z0-9._%+-]+@[A-Za-z0-9.-]+\\.[A-Za-z]{2,4}'"
      ],
      "execution_count": null,
      "outputs": []
    },
    {
      "cell_type": "code",
      "metadata": {
        "collapsed": true,
        "jupyter": {
          "outputs_hidden": true
        },
        "tags": [],
        "id": "RxJByHQLOjLa",
        "outputId": "f10a3f95-1703-456c-f3a2-83110ed0ee8c"
      },
      "source": [
        "emails[emails.apply(lambda x: len(re.findall(pattern, x))>0 )]"
      ],
      "execution_count": null,
      "outputs": [
        {
          "data": {
            "text/plain": [
              "1    rameses@egypt.com\n",
              "2            matt@t.co\n",
              "3    narendra@modi.com\n",
              "dtype: object"
            ]
          },
          "execution_count": 155,
          "metadata": {},
          "output_type": "execute_result"
        }
      ]
    },
    {
      "cell_type": "markdown",
      "metadata": {
        "id": "x5jaHKKnOjLb"
      },
      "source": [
        "## 22. How to get the mean of a series grouped by another series?\n",
        "Difficiulty Level: L2\n",
        "\n",
        "Compute the mean of weights of each fruit."
      ]
    },
    {
      "cell_type": "code",
      "metadata": {
        "id": "cleVvAoOOjLb"
      },
      "source": [
        "fruit = pd.Series(np.random.choice(['apple', 'banana', 'carrot'], 10))\n",
        "weights = pd.Series(np.linspace(1, 10, 10))"
      ],
      "execution_count": null,
      "outputs": []
    },
    {
      "cell_type": "code",
      "metadata": {
        "tags": [],
        "id": "eBotL5c2OjLb",
        "outputId": "48c070b7-2e71-4ac1-ee67-e8ece87ba7c2"
      },
      "source": [
        "df = pd.concat([fruit,weights],axis=1)\n",
        "df.columns= ['fruits','weights']\n",
        "df.groupby(['fruits'])['weights'].mean()"
      ],
      "execution_count": null,
      "outputs": [
        {
          "data": {
            "text/plain": [
              "fruits\n",
              "apple     7.333333\n",
              "banana    4.250000\n",
              "carrot    5.333333\n",
              "Name: weights, dtype: float64"
            ]
          },
          "execution_count": 668,
          "metadata": {},
          "output_type": "execute_result"
        }
      ]
    },
    {
      "cell_type": "markdown",
      "metadata": {
        "id": "-ClTLOl5OjLb"
      },
      "source": [
        "## 23. How to compute the euclidean distance between two series?\n",
        "Difficiulty Level: L2\n",
        "\n",
        "Compute the euclidean distance between series (points) p and q, without using a packaged formula."
      ]
    },
    {
      "cell_type": "code",
      "metadata": {
        "id": "YvPase5vOjLc"
      },
      "source": [
        "p = pd.Series([1, 2, 3, 4, 5, 6, 7, 8, 9, 10])\n",
        "q = pd.Series([10, 9, 8, 7, 6, 5, 4, 3, 2, 1])"
      ],
      "execution_count": null,
      "outputs": []
    },
    {
      "cell_type": "code",
      "metadata": {
        "tags": [],
        "id": "WZpmXnLaOjLc",
        "outputId": "cb7e982a-7c57-49d5-cf84-4b428ef64e84"
      },
      "source": [
        "points = np.array(pd.concat([p,q],axis=1))\n",
        "points.shape"
      ],
      "execution_count": null,
      "outputs": [
        {
          "data": {
            "text/plain": [
              "(10, 2)"
            ]
          },
          "execution_count": 680,
          "metadata": {},
          "output_type": "execute_result"
        }
      ]
    },
    {
      "cell_type": "code",
      "metadata": {
        "id": "h781DoihOjLc"
      },
      "source": [
        "dist = np.zeros([10,10])"
      ],
      "execution_count": null,
      "outputs": []
    },
    {
      "cell_type": "code",
      "metadata": {
        "id": "19QdEow6OjLc"
      },
      "source": [
        "from itertools import combinations"
      ],
      "execution_count": null,
      "outputs": []
    },
    {
      "cell_type": "code",
      "metadata": {
        "tags": [],
        "id": "dP4SmT8uOjLd",
        "outputId": "1ceaaf7f-6d23-495e-d98c-38d60d55ff9e"
      },
      "source": [
        "for comb in list(combinations(range(len(points)),2)):\n",
        "    dif = points[comb[0],:] - points[comb[1],:]\n",
        "    dist[comb[0],comb[1]] = np.sqrt(dif@dif.T)\n",
        "pd.DataFrame(dist)"
      ],
      "execution_count": null,
      "outputs": [
        {
          "data": {
            "text/html": [
              "<div>\n",
              "<style scoped>\n",
              "    .dataframe tbody tr th:only-of-type {\n",
              "        vertical-align: middle;\n",
              "    }\n",
              "\n",
              "    .dataframe tbody tr th {\n",
              "        vertical-align: top;\n",
              "    }\n",
              "\n",
              "    .dataframe thead th {\n",
              "        text-align: right;\n",
              "    }\n",
              "</style>\n",
              "<table border=\"1\" class=\"dataframe\">\n",
              "  <thead>\n",
              "    <tr style=\"text-align: right;\">\n",
              "      <th></th>\n",
              "      <th>0</th>\n",
              "      <th>1</th>\n",
              "      <th>2</th>\n",
              "      <th>3</th>\n",
              "      <th>4</th>\n",
              "      <th>5</th>\n",
              "      <th>6</th>\n",
              "      <th>7</th>\n",
              "      <th>8</th>\n",
              "    </tr>\n",
              "  </thead>\n",
              "  <tbody>\n",
              "    <tr>\n",
              "      <th>0</th>\n",
              "      <td>0.0</td>\n",
              "      <td>1.414214</td>\n",
              "      <td>2.828427</td>\n",
              "      <td>4.242641</td>\n",
              "      <td>5.656854</td>\n",
              "      <td>7.071068</td>\n",
              "      <td>8.485281</td>\n",
              "      <td>9.899495</td>\n",
              "      <td>11.313708</td>\n",
              "    </tr>\n",
              "    <tr>\n",
              "      <th>1</th>\n",
              "      <td>0.0</td>\n",
              "      <td>0.000000</td>\n",
              "      <td>1.414214</td>\n",
              "      <td>2.828427</td>\n",
              "      <td>4.242641</td>\n",
              "      <td>5.656854</td>\n",
              "      <td>7.071068</td>\n",
              "      <td>8.485281</td>\n",
              "      <td>9.899495</td>\n",
              "    </tr>\n",
              "    <tr>\n",
              "      <th>2</th>\n",
              "      <td>0.0</td>\n",
              "      <td>0.000000</td>\n",
              "      <td>0.000000</td>\n",
              "      <td>1.414214</td>\n",
              "      <td>2.828427</td>\n",
              "      <td>4.242641</td>\n",
              "      <td>5.656854</td>\n",
              "      <td>7.071068</td>\n",
              "      <td>8.485281</td>\n",
              "    </tr>\n",
              "    <tr>\n",
              "      <th>3</th>\n",
              "      <td>0.0</td>\n",
              "      <td>0.000000</td>\n",
              "      <td>0.000000</td>\n",
              "      <td>0.000000</td>\n",
              "      <td>1.414214</td>\n",
              "      <td>2.828427</td>\n",
              "      <td>4.242641</td>\n",
              "      <td>5.656854</td>\n",
              "      <td>7.071068</td>\n",
              "    </tr>\n",
              "    <tr>\n",
              "      <th>4</th>\n",
              "      <td>0.0</td>\n",
              "      <td>0.000000</td>\n",
              "      <td>0.000000</td>\n",
              "      <td>0.000000</td>\n",
              "      <td>0.000000</td>\n",
              "      <td>1.414214</td>\n",
              "      <td>2.828427</td>\n",
              "      <td>4.242641</td>\n",
              "      <td>5.656854</td>\n",
              "    </tr>\n",
              "    <tr>\n",
              "      <th>5</th>\n",
              "      <td>0.0</td>\n",
              "      <td>0.000000</td>\n",
              "      <td>0.000000</td>\n",
              "      <td>0.000000</td>\n",
              "      <td>0.000000</td>\n",
              "      <td>0.000000</td>\n",
              "      <td>1.414214</td>\n",
              "      <td>2.828427</td>\n",
              "      <td>4.242641</td>\n",
              "    </tr>\n",
              "    <tr>\n",
              "      <th>6</th>\n",
              "      <td>0.0</td>\n",
              "      <td>0.000000</td>\n",
              "      <td>0.000000</td>\n",
              "      <td>0.000000</td>\n",
              "      <td>0.000000</td>\n",
              "      <td>0.000000</td>\n",
              "      <td>0.000000</td>\n",
              "      <td>1.414214</td>\n",
              "      <td>2.828427</td>\n",
              "    </tr>\n",
              "    <tr>\n",
              "      <th>7</th>\n",
              "      <td>0.0</td>\n",
              "      <td>0.000000</td>\n",
              "      <td>0.000000</td>\n",
              "      <td>0.000000</td>\n",
              "      <td>0.000000</td>\n",
              "      <td>0.000000</td>\n",
              "      <td>0.000000</td>\n",
              "      <td>0.000000</td>\n",
              "      <td>1.414214</td>\n",
              "    </tr>\n",
              "    <tr>\n",
              "      <th>8</th>\n",
              "      <td>0.0</td>\n",
              "      <td>0.000000</td>\n",
              "      <td>0.000000</td>\n",
              "      <td>0.000000</td>\n",
              "      <td>0.000000</td>\n",
              "      <td>0.000000</td>\n",
              "      <td>0.000000</td>\n",
              "      <td>0.000000</td>\n",
              "      <td>0.000000</td>\n",
              "    </tr>\n",
              "  </tbody>\n",
              "</table>\n",
              "</div>"
            ],
            "text/plain": [
              "     0         1         2         3         4         5         6         7  \\\n",
              "0  0.0  1.414214  2.828427  4.242641  5.656854  7.071068  8.485281  9.899495   \n",
              "1  0.0  0.000000  1.414214  2.828427  4.242641  5.656854  7.071068  8.485281   \n",
              "2  0.0  0.000000  0.000000  1.414214  2.828427  4.242641  5.656854  7.071068   \n",
              "3  0.0  0.000000  0.000000  0.000000  1.414214  2.828427  4.242641  5.656854   \n",
              "4  0.0  0.000000  0.000000  0.000000  0.000000  1.414214  2.828427  4.242641   \n",
              "5  0.0  0.000000  0.000000  0.000000  0.000000  0.000000  1.414214  2.828427   \n",
              "6  0.0  0.000000  0.000000  0.000000  0.000000  0.000000  0.000000  1.414214   \n",
              "7  0.0  0.000000  0.000000  0.000000  0.000000  0.000000  0.000000  0.000000   \n",
              "8  0.0  0.000000  0.000000  0.000000  0.000000  0.000000  0.000000  0.000000   \n",
              "\n",
              "           8  \n",
              "0  11.313708  \n",
              "1   9.899495  \n",
              "2   8.485281  \n",
              "3   7.071068  \n",
              "4   5.656854  \n",
              "5   4.242641  \n",
              "6   2.828427  \n",
              "7   1.414214  \n",
              "8   0.000000  "
            ]
          },
          "execution_count": 692,
          "metadata": {},
          "output_type": "execute_result"
        }
      ]
    },
    {
      "cell_type": "markdown",
      "metadata": {
        "id": "Ycxr46B_OjLd"
      },
      "source": [
        "## 24. How to replace missing spaces in a string with the least frequent character?\n",
        "Replace the spaces in my_str with the least frequent character.\n",
        "\n",
        "Difficiulty Level: L2"
      ]
    },
    {
      "cell_type": "code",
      "metadata": {
        "id": "mYpv4iUkOjLd"
      },
      "source": [
        "my_str = 'dbc deb abed gade'"
      ],
      "execution_count": null,
      "outputs": []
    },
    {
      "cell_type": "code",
      "metadata": {
        "id": "If1qiXzmOjLe"
      },
      "source": [
        "ser = pd.Series(list(my_str))"
      ],
      "execution_count": null,
      "outputs": []
    },
    {
      "cell_type": "code",
      "metadata": {
        "id": "buH6U8h_Oul-"
      },
      "source": [
        "ser = ser[~ser== ' ']"
      ],
      "execution_count": null,
      "outputs": []
    },
    {
      "cell_type": "code",
      "metadata": {
        "id": "ACd73XdgOjLe",
        "outputId": "fa6de21e-5483-4e9d-d592-297d6982a298"
      },
      "source": [
        "re.sub(' ', ser.value_counts().keys()[-1],my_str)"
      ],
      "execution_count": null,
      "outputs": [
        {
          "data": {
            "text/plain": [
              "'dbccdebcabedcgade'"
            ]
          },
          "execution_count": 187,
          "metadata": {},
          "output_type": "execute_result"
        }
      ]
    },
    {
      "cell_type": "markdown",
      "metadata": {
        "id": "TsmtBCelOjLe"
      },
      "source": [
        "## 25. How to create a TimeSeries starting ‘2000-01-01’ and 10 weekends (saturdays) after that having random numbers as values?\n",
        "Difficiulty Level: L2"
      ]
    },
    {
      "cell_type": "code",
      "metadata": {
        "collapsed": true,
        "jupyter": {
          "outputs_hidden": true
        },
        "tags": [],
        "id": "4FPYE63TOjLe",
        "outputId": "c26942c4-91ee-4dab-a4cd-8f6b4b5cf05f"
      },
      "source": [
        "pd.Series(np.random.random(10),index=pd.date_range('2000-01-01',periods=10,freq='W-SAT'))"
      ],
      "execution_count": null,
      "outputs": [
        {
          "data": {
            "text/plain": [
              "2000-01-01 00:00:00    0.697548\n",
              "2000-01-01 01:00:00    0.289384\n",
              "2000-01-01 02:00:00    0.964545\n",
              "2000-01-01 03:00:00    0.731570\n",
              "2000-01-01 04:00:00    0.704567\n",
              "2000-01-01 05:00:00    0.070050\n",
              "2000-01-01 06:00:00    0.550945\n",
              "2000-01-01 07:00:00    0.959564\n",
              "2000-01-01 08:00:00    0.858271\n",
              "2000-01-01 09:00:00    0.525563\n",
              "Freq: H, dtype: float64"
            ]
          },
          "execution_count": 210,
          "metadata": {},
          "output_type": "execute_result"
        }
      ]
    },
    {
      "cell_type": "markdown",
      "metadata": {
        "id": "zMPBtmHbOjLf"
      },
      "source": [
        "## 26. How to fill an intermittent time series so all missing dates show up with values of previous non-missing date?\n",
        "Difficiulty Level: L2\n",
        "\n",
        "ser has missing dates and values. Make all missing dates appear and fill up with value from previous date."
      ]
    },
    {
      "cell_type": "code",
      "metadata": {
        "collapsed": true,
        "jupyter": {
          "outputs_hidden": true
        },
        "tags": [],
        "id": "BDX1tBQoOjLf",
        "outputId": "0b37a721-3911-43c9-984a-7c7737c4e105"
      },
      "source": [
        "ser = pd.Series([1,10,3,np.nan], index=pd.to_datetime(['2000-01-01', '2000-01-03', '2000-01-06', '2000-01-08']))\n",
        "ser"
      ],
      "execution_count": null,
      "outputs": [
        {
          "data": {
            "text/plain": [
              "2000-01-01     1.0\n",
              "2000-01-03    10.0\n",
              "2000-01-06     3.0\n",
              "2000-01-08     NaN\n",
              "dtype: float64"
            ]
          },
          "execution_count": 200,
          "metadata": {},
          "output_type": "execute_result"
        }
      ]
    },
    {
      "cell_type": "code",
      "metadata": {
        "collapsed": true,
        "jupyter": {
          "outputs_hidden": true
        },
        "tags": [],
        "id": "f8oBrnwxOjLf",
        "outputId": "bec6b6eb-0ff7-4f83-eeb0-fca88d94480a"
      },
      "source": [
        "ser.resample('D').bfill()"
      ],
      "execution_count": null,
      "outputs": [
        {
          "data": {
            "text/plain": [
              "2000-01-01     1.0\n",
              "2000-01-02    10.0\n",
              "2000-01-03    10.0\n",
              "2000-01-04     3.0\n",
              "2000-01-05     3.0\n",
              "2000-01-06     3.0\n",
              "2000-01-07     NaN\n",
              "2000-01-08     NaN\n",
              "Freq: D, dtype: float64"
            ]
          },
          "execution_count": 212,
          "metadata": {},
          "output_type": "execute_result"
        }
      ]
    },
    {
      "cell_type": "markdown",
      "metadata": {
        "id": "mlBnthaLOjLg"
      },
      "source": [
        "## 27. How to compute the autocorrelations of a numeric series?\n",
        "Difficiulty Level: L3\n",
        "\n",
        "Compute autocorrelations for the first 10 lags of ser. Find out which lag has the largest correlation."
      ]
    },
    {
      "cell_type": "code",
      "metadata": {
        "collapsed": true,
        "jupyter": {
          "outputs_hidden": true
        },
        "tags": [],
        "id": "saWw3QWOOjLg",
        "outputId": "9a6dcd0a-1f5a-4c5e-f8a1-b09594b4c5d4"
      },
      "source": [
        "ser = pd.Series(np.arange(20) + np.random.normal(1, 10, 20))\n",
        "ser"
      ],
      "execution_count": null,
      "outputs": [
        {
          "data": {
            "text/plain": [
              "0    -13.791475\n",
              "1     -9.352414\n",
              "2    -12.152264\n",
              "3      8.186870\n",
              "4     -1.516188\n",
              "5     -0.051248\n",
              "6    -14.181797\n",
              "7     22.392316\n",
              "8      6.752901\n",
              "9      8.580975\n",
              "10    19.870892\n",
              "11     2.820053\n",
              "12    31.223630\n",
              "13    29.136504\n",
              "14     2.523166\n",
              "15    18.048804\n",
              "16    38.508128\n",
              "17    31.912144\n",
              "18    19.101514\n",
              "19    -5.653660\n",
              "dtype: float64"
            ]
          },
          "execution_count": 215,
          "metadata": {},
          "output_type": "execute_result"
        }
      ]
    },
    {
      "cell_type": "code",
      "metadata": {
        "id": "5zftg3rROjLg",
        "outputId": "75b73b92-3727-4f0c-9d2d-992c8f2e9904"
      },
      "source": [
        "ser.autocorr(10)"
      ],
      "execution_count": null,
      "outputs": [
        {
          "data": {
            "text/plain": [
              "-0.06317462937355756"
            ]
          },
          "execution_count": 216,
          "metadata": {},
          "output_type": "execute_result"
        }
      ]
    },
    {
      "cell_type": "markdown",
      "metadata": {
        "id": "4HKpPtlqOjLg"
      },
      "source": [
        "## 28. How to get the nrows, ncolumns, datatype, summary stats of each column of a dataframe? Also get the array and list equivalent.\n",
        "Difficulty Level: L2\n",
        "\n",
        "Get the number of rows, columns, datatype and summary statistics of each column of the Cars93 dataset. Also get the numpy array and list equivalent of the dataframe."
      ]
    },
    {
      "cell_type": "code",
      "metadata": {
        "id": "GoTc0v_hOjLh"
      },
      "source": [
        "df = pd.read_csv('https://raw.githubusercontent.com/selva86/datasets/master/Cars93_miss.csv')"
      ],
      "execution_count": null,
      "outputs": []
    },
    {
      "cell_type": "code",
      "metadata": {
        "collapsed": true,
        "jupyter": {
          "outputs_hidden": true
        },
        "tags": [],
        "id": "_m2MCYD-OjLh",
        "outputId": "eb2c23be-6cd6-4f07-d270-d160152b8d7a"
      },
      "source": [
        "df.info()"
      ],
      "execution_count": null,
      "outputs": [
        {
          "name": "stdout",
          "output_type": "stream",
          "text": [
            "<class 'pandas.core.frame.DataFrame'>\n",
            "RangeIndex: 93 entries, 0 to 92\n",
            "Data columns (total 27 columns):\n",
            " #   Column              Non-Null Count  Dtype  \n",
            "---  ------              --------------  -----  \n",
            " 0   Manufacturer        89 non-null     object \n",
            " 1   Model               92 non-null     object \n",
            " 2   Type                90 non-null     object \n",
            " 3   Min.Price           86 non-null     float64\n",
            " 4   Price               91 non-null     float64\n",
            " 5   Max.Price           88 non-null     float64\n",
            " 6   MPG.city            84 non-null     float64\n",
            " 7   MPG.highway         91 non-null     float64\n",
            " 8   AirBags             87 non-null     object \n",
            " 9   DriveTrain          86 non-null     object \n",
            " 10  Cylinders           88 non-null     object \n",
            " 11  EngineSize          91 non-null     float64\n",
            " 12  Horsepower          86 non-null     float64\n",
            " 13  RPM                 90 non-null     float64\n",
            " 14  Rev.per.mile        87 non-null     float64\n",
            " 15  Man.trans.avail     88 non-null     object \n",
            " 16  Fuel.tank.capacity  85 non-null     float64\n",
            " 17  Passengers          91 non-null     float64\n",
            " 18  Length              89 non-null     float64\n",
            " 19  Wheelbase           92 non-null     float64\n",
            " 20  Width               87 non-null     float64\n",
            " 21  Turn.circle         88 non-null     float64\n",
            " 22  Rear.seat.room      89 non-null     float64\n",
            " 23  Luggage.room        74 non-null     float64\n",
            " 24  Weight              86 non-null     float64\n",
            " 25  Origin              88 non-null     object \n",
            " 26  Make                90 non-null     object \n",
            "dtypes: float64(18), object(9)\n",
            "memory usage: 19.7+ KB\n"
          ]
        }
      ]
    },
    {
      "cell_type": "markdown",
      "metadata": {
        "id": "KdE5uMqIOjLh"
      },
      "source": [
        "## 29. How to extract the row and column number of a particular cell with given criterion?\n",
        "Difficulty Level: L1\n",
        "\n",
        "Input\n",
        "\n",
        "df = pd.read_csv('https://raw.githubusercontent.com/selva86/datasets/master/Cars93_miss.csv')\n",
        "Which manufacturer, model and type has the highest Price? What is the row and column number of the cell with the highest Price value?"
      ]
    },
    {
      "cell_type": "code",
      "metadata": {
        "collapsed": true,
        "jupyter": {
          "outputs_hidden": true
        },
        "tags": [],
        "id": "PclCsotOOjLi",
        "outputId": "0afbb51d-01fb-42a9-acea-e74daad1718d"
      },
      "source": [
        "df = pd.read_csv('https://raw.githubusercontent.com/selva86/datasets/master/Cars93_miss.csv')\n",
        "df.head(3)"
      ],
      "execution_count": null,
      "outputs": [
        {
          "data": {
            "text/html": [
              "<div>\n",
              "<style scoped>\n",
              "    .dataframe tbody tr th:only-of-type {\n",
              "        vertical-align: middle;\n",
              "    }\n",
              "\n",
              "    .dataframe tbody tr th {\n",
              "        vertical-align: top;\n",
              "    }\n",
              "\n",
              "    .dataframe thead th {\n",
              "        text-align: right;\n",
              "    }\n",
              "</style>\n",
              "<table border=\"1\" class=\"dataframe\">\n",
              "  <thead>\n",
              "    <tr style=\"text-align: right;\">\n",
              "      <th></th>\n",
              "      <th>Manufacturer</th>\n",
              "      <th>Model</th>\n",
              "      <th>Type</th>\n",
              "      <th>Min.Price</th>\n",
              "      <th>Price</th>\n",
              "      <th>Max.Price</th>\n",
              "      <th>MPG.city</th>\n",
              "      <th>MPG.highway</th>\n",
              "      <th>AirBags</th>\n",
              "      <th>DriveTrain</th>\n",
              "      <th>...</th>\n",
              "      <th>Passengers</th>\n",
              "      <th>Length</th>\n",
              "      <th>Wheelbase</th>\n",
              "      <th>Width</th>\n",
              "      <th>Turn.circle</th>\n",
              "      <th>Rear.seat.room</th>\n",
              "      <th>Luggage.room</th>\n",
              "      <th>Weight</th>\n",
              "      <th>Origin</th>\n",
              "      <th>Make</th>\n",
              "    </tr>\n",
              "  </thead>\n",
              "  <tbody>\n",
              "    <tr>\n",
              "      <th>0</th>\n",
              "      <td>Acura</td>\n",
              "      <td>Integra</td>\n",
              "      <td>Small</td>\n",
              "      <td>12.9</td>\n",
              "      <td>15.9</td>\n",
              "      <td>18.8</td>\n",
              "      <td>25.0</td>\n",
              "      <td>31.0</td>\n",
              "      <td>None</td>\n",
              "      <td>Front</td>\n",
              "      <td>...</td>\n",
              "      <td>5.0</td>\n",
              "      <td>177.0</td>\n",
              "      <td>102.0</td>\n",
              "      <td>68.0</td>\n",
              "      <td>37.0</td>\n",
              "      <td>26.5</td>\n",
              "      <td>NaN</td>\n",
              "      <td>2705.0</td>\n",
              "      <td>non-USA</td>\n",
              "      <td>Acura Integra</td>\n",
              "    </tr>\n",
              "    <tr>\n",
              "      <th>1</th>\n",
              "      <td>NaN</td>\n",
              "      <td>Legend</td>\n",
              "      <td>Midsize</td>\n",
              "      <td>29.2</td>\n",
              "      <td>33.9</td>\n",
              "      <td>38.7</td>\n",
              "      <td>18.0</td>\n",
              "      <td>25.0</td>\n",
              "      <td>Driver &amp; Passenger</td>\n",
              "      <td>Front</td>\n",
              "      <td>...</td>\n",
              "      <td>5.0</td>\n",
              "      <td>195.0</td>\n",
              "      <td>115.0</td>\n",
              "      <td>71.0</td>\n",
              "      <td>38.0</td>\n",
              "      <td>30.0</td>\n",
              "      <td>15.0</td>\n",
              "      <td>3560.0</td>\n",
              "      <td>non-USA</td>\n",
              "      <td>Acura Legend</td>\n",
              "    </tr>\n",
              "    <tr>\n",
              "      <th>2</th>\n",
              "      <td>Audi</td>\n",
              "      <td>90</td>\n",
              "      <td>Compact</td>\n",
              "      <td>25.9</td>\n",
              "      <td>29.1</td>\n",
              "      <td>32.3</td>\n",
              "      <td>20.0</td>\n",
              "      <td>26.0</td>\n",
              "      <td>Driver only</td>\n",
              "      <td>Front</td>\n",
              "      <td>...</td>\n",
              "      <td>5.0</td>\n",
              "      <td>180.0</td>\n",
              "      <td>102.0</td>\n",
              "      <td>67.0</td>\n",
              "      <td>37.0</td>\n",
              "      <td>28.0</td>\n",
              "      <td>14.0</td>\n",
              "      <td>3375.0</td>\n",
              "      <td>non-USA</td>\n",
              "      <td>Audi 90</td>\n",
              "    </tr>\n",
              "  </tbody>\n",
              "</table>\n",
              "<p>3 rows × 27 columns</p>\n",
              "</div>"
            ],
            "text/plain": [
              "  Manufacturer    Model     Type  Min.Price  Price  Max.Price  MPG.city  \\\n",
              "0        Acura  Integra    Small       12.9   15.9       18.8      25.0   \n",
              "1          NaN   Legend  Midsize       29.2   33.9       38.7      18.0   \n",
              "2         Audi       90  Compact       25.9   29.1       32.3      20.0   \n",
              "\n",
              "   MPG.highway             AirBags DriveTrain  ... Passengers  Length  \\\n",
              "0         31.0                None      Front  ...        5.0   177.0   \n",
              "1         25.0  Driver & Passenger      Front  ...        5.0   195.0   \n",
              "2         26.0         Driver only      Front  ...        5.0   180.0   \n",
              "\n",
              "   Wheelbase  Width  Turn.circle Rear.seat.room  Luggage.room  Weight  \\\n",
              "0      102.0   68.0         37.0           26.5           NaN  2705.0   \n",
              "1      115.0   71.0         38.0           30.0          15.0  3560.0   \n",
              "2      102.0   67.0         37.0           28.0          14.0  3375.0   \n",
              "\n",
              "    Origin           Make  \n",
              "0  non-USA  Acura Integra  \n",
              "1  non-USA   Acura Legend  \n",
              "2  non-USA        Audi 90  \n",
              "\n",
              "[3 rows x 27 columns]"
            ]
          },
          "execution_count": 224,
          "metadata": {},
          "output_type": "execute_result"
        }
      ]
    },
    {
      "cell_type": "code",
      "metadata": {
        "collapsed": true,
        "jupyter": {
          "outputs_hidden": true
        },
        "tags": [],
        "id": "wXpncGOoOjLi",
        "outputId": "0a7b2b91-c0d6-4b8b-c65b-2af7d615947d"
      },
      "source": [
        "df.iloc[df['Price'].idxmax,[0,1,2,4]]"
      ],
      "execution_count": null,
      "outputs": [
        {
          "data": {
            "text/plain": [
              "Manufacturer    Mercedes-Benz\n",
              "Model                    300E\n",
              "Type                  Midsize\n",
              "Price                    61.9\n",
              "Name: 58, dtype: object"
            ]
          },
          "execution_count": 230,
          "metadata": {},
          "output_type": "execute_result"
        }
      ]
    },
    {
      "cell_type": "markdown",
      "metadata": {
        "id": "wIQpI9TwOjLi"
      },
      "source": [
        "## 30. How to rename a specific columns in a dataframe?\n",
        "Difficulty Level: L2\n",
        "\n",
        "Rename the column Type as CarType in df and replace the ‘.’ in column names with ‘_’."
      ]
    },
    {
      "cell_type": "code",
      "metadata": {
        "collapsed": true,
        "jupyter": {
          "outputs_hidden": true
        },
        "tags": [],
        "id": "yDoHnniMOjLi",
        "outputId": "199181be-a231-4ba1-8ad7-55e84f0842bd"
      },
      "source": [
        "df = pd.read_csv('https://raw.githubusercontent.com/selva86/datasets/master/Cars93_miss.csv')\n",
        "df.head(2)"
      ],
      "execution_count": null,
      "outputs": [
        {
          "data": {
            "text/html": [
              "<div>\n",
              "<style scoped>\n",
              "    .dataframe tbody tr th:only-of-type {\n",
              "        vertical-align: middle;\n",
              "    }\n",
              "\n",
              "    .dataframe tbody tr th {\n",
              "        vertical-align: top;\n",
              "    }\n",
              "\n",
              "    .dataframe thead th {\n",
              "        text-align: right;\n",
              "    }\n",
              "</style>\n",
              "<table border=\"1\" class=\"dataframe\">\n",
              "  <thead>\n",
              "    <tr style=\"text-align: right;\">\n",
              "      <th></th>\n",
              "      <th>Manufacturer</th>\n",
              "      <th>Model</th>\n",
              "      <th>Type</th>\n",
              "      <th>Min.Price</th>\n",
              "      <th>Price</th>\n",
              "      <th>Max.Price</th>\n",
              "      <th>MPG.city</th>\n",
              "      <th>MPG.highway</th>\n",
              "      <th>AirBags</th>\n",
              "      <th>DriveTrain</th>\n",
              "      <th>...</th>\n",
              "      <th>Passengers</th>\n",
              "      <th>Length</th>\n",
              "      <th>Wheelbase</th>\n",
              "      <th>Width</th>\n",
              "      <th>Turn.circle</th>\n",
              "      <th>Rear.seat.room</th>\n",
              "      <th>Luggage.room</th>\n",
              "      <th>Weight</th>\n",
              "      <th>Origin</th>\n",
              "      <th>Make</th>\n",
              "    </tr>\n",
              "  </thead>\n",
              "  <tbody>\n",
              "    <tr>\n",
              "      <th>0</th>\n",
              "      <td>Acura</td>\n",
              "      <td>Integra</td>\n",
              "      <td>Small</td>\n",
              "      <td>12.9</td>\n",
              "      <td>15.9</td>\n",
              "      <td>18.8</td>\n",
              "      <td>25.0</td>\n",
              "      <td>31.0</td>\n",
              "      <td>None</td>\n",
              "      <td>Front</td>\n",
              "      <td>...</td>\n",
              "      <td>5.0</td>\n",
              "      <td>177.0</td>\n",
              "      <td>102.0</td>\n",
              "      <td>68.0</td>\n",
              "      <td>37.0</td>\n",
              "      <td>26.5</td>\n",
              "      <td>NaN</td>\n",
              "      <td>2705.0</td>\n",
              "      <td>non-USA</td>\n",
              "      <td>Acura Integra</td>\n",
              "    </tr>\n",
              "    <tr>\n",
              "      <th>1</th>\n",
              "      <td>NaN</td>\n",
              "      <td>Legend</td>\n",
              "      <td>Midsize</td>\n",
              "      <td>29.2</td>\n",
              "      <td>33.9</td>\n",
              "      <td>38.7</td>\n",
              "      <td>18.0</td>\n",
              "      <td>25.0</td>\n",
              "      <td>Driver &amp; Passenger</td>\n",
              "      <td>Front</td>\n",
              "      <td>...</td>\n",
              "      <td>5.0</td>\n",
              "      <td>195.0</td>\n",
              "      <td>115.0</td>\n",
              "      <td>71.0</td>\n",
              "      <td>38.0</td>\n",
              "      <td>30.0</td>\n",
              "      <td>15.0</td>\n",
              "      <td>3560.0</td>\n",
              "      <td>non-USA</td>\n",
              "      <td>Acura Legend</td>\n",
              "    </tr>\n",
              "  </tbody>\n",
              "</table>\n",
              "<p>2 rows × 27 columns</p>\n",
              "</div>"
            ],
            "text/plain": [
              "  Manufacturer    Model     Type  Min.Price  Price  Max.Price  MPG.city  \\\n",
              "0        Acura  Integra    Small       12.9   15.9       18.8      25.0   \n",
              "1          NaN   Legend  Midsize       29.2   33.9       38.7      18.0   \n",
              "\n",
              "   MPG.highway             AirBags DriveTrain  ... Passengers  Length  \\\n",
              "0         31.0                None      Front  ...        5.0   177.0   \n",
              "1         25.0  Driver & Passenger      Front  ...        5.0   195.0   \n",
              "\n",
              "   Wheelbase  Width  Turn.circle Rear.seat.room  Luggage.room  Weight  \\\n",
              "0      102.0   68.0         37.0           26.5           NaN  2705.0   \n",
              "1      115.0   71.0         38.0           30.0          15.0  3560.0   \n",
              "\n",
              "    Origin           Make  \n",
              "0  non-USA  Acura Integra  \n",
              "1  non-USA   Acura Legend  \n",
              "\n",
              "[2 rows x 27 columns]"
            ]
          },
          "execution_count": 231,
          "metadata": {},
          "output_type": "execute_result"
        }
      ]
    },
    {
      "cell_type": "code",
      "metadata": {
        "id": "zHesG8I8OjLj"
      },
      "source": [
        "df.columns.values[2]='CarType'"
      ],
      "execution_count": null,
      "outputs": []
    },
    {
      "cell_type": "code",
      "metadata": {
        "id": "zajg6sDDP-yq"
      },
      "source": [
        "df.rename(columns ={'Type': 'CarType'})"
      ],
      "execution_count": null,
      "outputs": []
    },
    {
      "cell_type": "code",
      "metadata": {
        "collapsed": true,
        "jupyter": {
          "outputs_hidden": true
        },
        "tags": [],
        "id": "w2HzpB1uOjLj",
        "outputId": "809fe282-d198-42dc-80d2-8a0a59dbfdcc"
      },
      "source": [
        "df.head(2)"
      ],
      "execution_count": null,
      "outputs": [
        {
          "data": {
            "text/html": [
              "<div>\n",
              "<style scoped>\n",
              "    .dataframe tbody tr th:only-of-type {\n",
              "        vertical-align: middle;\n",
              "    }\n",
              "\n",
              "    .dataframe tbody tr th {\n",
              "        vertical-align: top;\n",
              "    }\n",
              "\n",
              "    .dataframe thead th {\n",
              "        text-align: right;\n",
              "    }\n",
              "</style>\n",
              "<table border=\"1\" class=\"dataframe\">\n",
              "  <thead>\n",
              "    <tr style=\"text-align: right;\">\n",
              "      <th></th>\n",
              "      <th>Manufacturer</th>\n",
              "      <th>Model</th>\n",
              "      <th>CarType</th>\n",
              "      <th>Min.Price</th>\n",
              "      <th>Price</th>\n",
              "      <th>Max.Price</th>\n",
              "      <th>MPG.city</th>\n",
              "      <th>MPG.highway</th>\n",
              "      <th>AirBags</th>\n",
              "      <th>DriveTrain</th>\n",
              "      <th>...</th>\n",
              "      <th>Passengers</th>\n",
              "      <th>Length</th>\n",
              "      <th>Wheelbase</th>\n",
              "      <th>Width</th>\n",
              "      <th>Turn.circle</th>\n",
              "      <th>Rear.seat.room</th>\n",
              "      <th>Luggage.room</th>\n",
              "      <th>Weight</th>\n",
              "      <th>Origin</th>\n",
              "      <th>Make</th>\n",
              "    </tr>\n",
              "  </thead>\n",
              "  <tbody>\n",
              "    <tr>\n",
              "      <th>0</th>\n",
              "      <td>Acura</td>\n",
              "      <td>Integra</td>\n",
              "      <td>Small</td>\n",
              "      <td>12.9</td>\n",
              "      <td>15.9</td>\n",
              "      <td>18.8</td>\n",
              "      <td>25.0</td>\n",
              "      <td>31.0</td>\n",
              "      <td>None</td>\n",
              "      <td>Front</td>\n",
              "      <td>...</td>\n",
              "      <td>5.0</td>\n",
              "      <td>177.0</td>\n",
              "      <td>102.0</td>\n",
              "      <td>68.0</td>\n",
              "      <td>37.0</td>\n",
              "      <td>26.5</td>\n",
              "      <td>NaN</td>\n",
              "      <td>2705.0</td>\n",
              "      <td>non-USA</td>\n",
              "      <td>Acura Integra</td>\n",
              "    </tr>\n",
              "    <tr>\n",
              "      <th>1</th>\n",
              "      <td>NaN</td>\n",
              "      <td>Legend</td>\n",
              "      <td>Midsize</td>\n",
              "      <td>29.2</td>\n",
              "      <td>33.9</td>\n",
              "      <td>38.7</td>\n",
              "      <td>18.0</td>\n",
              "      <td>25.0</td>\n",
              "      <td>Driver &amp; Passenger</td>\n",
              "      <td>Front</td>\n",
              "      <td>...</td>\n",
              "      <td>5.0</td>\n",
              "      <td>195.0</td>\n",
              "      <td>115.0</td>\n",
              "      <td>71.0</td>\n",
              "      <td>38.0</td>\n",
              "      <td>30.0</td>\n",
              "      <td>15.0</td>\n",
              "      <td>3560.0</td>\n",
              "      <td>non-USA</td>\n",
              "      <td>Acura Legend</td>\n",
              "    </tr>\n",
              "  </tbody>\n",
              "</table>\n",
              "<p>2 rows × 27 columns</p>\n",
              "</div>"
            ],
            "text/plain": [
              "  Manufacturer    Model  CarType  Min.Price  Price  Max.Price  MPG.city  \\\n",
              "0        Acura  Integra    Small       12.9   15.9       18.8      25.0   \n",
              "1          NaN   Legend  Midsize       29.2   33.9       38.7      18.0   \n",
              "\n",
              "   MPG.highway             AirBags DriveTrain  ... Passengers  Length  \\\n",
              "0         31.0                None      Front  ...        5.0   177.0   \n",
              "1         25.0  Driver & Passenger      Front  ...        5.0   195.0   \n",
              "\n",
              "   Wheelbase  Width  Turn.circle Rear.seat.room  Luggage.room  Weight  \\\n",
              "0      102.0   68.0         37.0           26.5           NaN  2705.0   \n",
              "1      115.0   71.0         38.0           30.0          15.0  3560.0   \n",
              "\n",
              "    Origin           Make  \n",
              "0  non-USA  Acura Integra  \n",
              "1  non-USA   Acura Legend  \n",
              "\n",
              "[2 rows x 27 columns]"
            ]
          },
          "execution_count": 236,
          "metadata": {},
          "output_type": "execute_result"
        }
      ]
    },
    {
      "cell_type": "markdown",
      "metadata": {
        "id": "Iz3I9TCYOjLj"
      },
      "source": [
        "## 31. How to count the number of missing values in each column?\n",
        "Difficulty Level: L2\n",
        "\n",
        "Count the number of missing values in each column of df. Which column has the maximum number of missing values?"
      ]
    },
    {
      "cell_type": "code",
      "metadata": {
        "collapsed": true,
        "jupyter": {
          "outputs_hidden": true
        },
        "tags": [],
        "id": "LP9qC49JOjLk",
        "outputId": "ce1bf1d6-0b8b-4064-913b-b71b6766845b"
      },
      "source": [
        "df = pd.read_csv('https://raw.githubusercontent.com/selva86/datasets/master/Cars93_miss.csv')\n",
        "df.head(2)"
      ],
      "execution_count": null,
      "outputs": [
        {
          "data": {
            "text/html": [
              "<div>\n",
              "<style scoped>\n",
              "    .dataframe tbody tr th:only-of-type {\n",
              "        vertical-align: middle;\n",
              "    }\n",
              "\n",
              "    .dataframe tbody tr th {\n",
              "        vertical-align: top;\n",
              "    }\n",
              "\n",
              "    .dataframe thead th {\n",
              "        text-align: right;\n",
              "    }\n",
              "</style>\n",
              "<table border=\"1\" class=\"dataframe\">\n",
              "  <thead>\n",
              "    <tr style=\"text-align: right;\">\n",
              "      <th></th>\n",
              "      <th>Manufacturer</th>\n",
              "      <th>Model</th>\n",
              "      <th>Type</th>\n",
              "      <th>Min.Price</th>\n",
              "      <th>Price</th>\n",
              "      <th>Max.Price</th>\n",
              "      <th>MPG.city</th>\n",
              "      <th>MPG.highway</th>\n",
              "      <th>AirBags</th>\n",
              "      <th>DriveTrain</th>\n",
              "      <th>...</th>\n",
              "      <th>Passengers</th>\n",
              "      <th>Length</th>\n",
              "      <th>Wheelbase</th>\n",
              "      <th>Width</th>\n",
              "      <th>Turn.circle</th>\n",
              "      <th>Rear.seat.room</th>\n",
              "      <th>Luggage.room</th>\n",
              "      <th>Weight</th>\n",
              "      <th>Origin</th>\n",
              "      <th>Make</th>\n",
              "    </tr>\n",
              "  </thead>\n",
              "  <tbody>\n",
              "    <tr>\n",
              "      <th>0</th>\n",
              "      <td>Acura</td>\n",
              "      <td>Integra</td>\n",
              "      <td>Small</td>\n",
              "      <td>12.9</td>\n",
              "      <td>15.9</td>\n",
              "      <td>18.8</td>\n",
              "      <td>25.0</td>\n",
              "      <td>31.0</td>\n",
              "      <td>None</td>\n",
              "      <td>Front</td>\n",
              "      <td>...</td>\n",
              "      <td>5.0</td>\n",
              "      <td>177.0</td>\n",
              "      <td>102.0</td>\n",
              "      <td>68.0</td>\n",
              "      <td>37.0</td>\n",
              "      <td>26.5</td>\n",
              "      <td>NaN</td>\n",
              "      <td>2705.0</td>\n",
              "      <td>non-USA</td>\n",
              "      <td>Acura Integra</td>\n",
              "    </tr>\n",
              "    <tr>\n",
              "      <th>1</th>\n",
              "      <td>NaN</td>\n",
              "      <td>Legend</td>\n",
              "      <td>Midsize</td>\n",
              "      <td>29.2</td>\n",
              "      <td>33.9</td>\n",
              "      <td>38.7</td>\n",
              "      <td>18.0</td>\n",
              "      <td>25.0</td>\n",
              "      <td>Driver &amp; Passenger</td>\n",
              "      <td>Front</td>\n",
              "      <td>...</td>\n",
              "      <td>5.0</td>\n",
              "      <td>195.0</td>\n",
              "      <td>115.0</td>\n",
              "      <td>71.0</td>\n",
              "      <td>38.0</td>\n",
              "      <td>30.0</td>\n",
              "      <td>15.0</td>\n",
              "      <td>3560.0</td>\n",
              "      <td>non-USA</td>\n",
              "      <td>Acura Legend</td>\n",
              "    </tr>\n",
              "  </tbody>\n",
              "</table>\n",
              "<p>2 rows × 27 columns</p>\n",
              "</div>"
            ],
            "text/plain": [
              "  Manufacturer    Model     Type  Min.Price  Price  Max.Price  MPG.city  \\\n",
              "0        Acura  Integra    Small       12.9   15.9       18.8      25.0   \n",
              "1          NaN   Legend  Midsize       29.2   33.9       38.7      18.0   \n",
              "\n",
              "   MPG.highway             AirBags DriveTrain  ... Passengers  Length  \\\n",
              "0         31.0                None      Front  ...        5.0   177.0   \n",
              "1         25.0  Driver & Passenger      Front  ...        5.0   195.0   \n",
              "\n",
              "   Wheelbase  Width  Turn.circle Rear.seat.room  Luggage.room  Weight  \\\n",
              "0      102.0   68.0         37.0           26.5           NaN  2705.0   \n",
              "1      115.0   71.0         38.0           30.0          15.0  3560.0   \n",
              "\n",
              "    Origin           Make  \n",
              "0  non-USA  Acura Integra  \n",
              "1  non-USA   Acura Legend  \n",
              "\n",
              "[2 rows x 27 columns]"
            ]
          },
          "execution_count": 237,
          "metadata": {},
          "output_type": "execute_result"
        }
      ]
    },
    {
      "cell_type": "code",
      "metadata": {
        "collapsed": true,
        "jupyter": {
          "outputs_hidden": true
        },
        "tags": [],
        "id": "BRBIwWTaOjLl",
        "outputId": "6727dacc-8bba-45ad-ea48-77208f0af0b3"
      },
      "source": [
        "df.isnull().sum()"
      ],
      "execution_count": null,
      "outputs": [
        {
          "data": {
            "text/plain": [
              "Manufacturer           4\n",
              "Model                  1\n",
              "Type                   3\n",
              "Min.Price              7\n",
              "Price                  2\n",
              "Max.Price              5\n",
              "MPG.city               9\n",
              "MPG.highway            2\n",
              "AirBags                6\n",
              "DriveTrain             7\n",
              "Cylinders              5\n",
              "EngineSize             2\n",
              "Horsepower             7\n",
              "RPM                    3\n",
              "Rev.per.mile           6\n",
              "Man.trans.avail        5\n",
              "Fuel.tank.capacity     8\n",
              "Passengers             2\n",
              "Length                 4\n",
              "Wheelbase              1\n",
              "Width                  6\n",
              "Turn.circle            5\n",
              "Rear.seat.room         4\n",
              "Luggage.room          19\n",
              "Weight                 7\n",
              "Origin                 5\n",
              "Make                   3\n",
              "dtype: int64"
            ]
          },
          "execution_count": 251,
          "metadata": {},
          "output_type": "execute_result"
        }
      ]
    },
    {
      "cell_type": "markdown",
      "metadata": {
        "id": "QwucfKHGOjLo"
      },
      "source": [
        "## 32. How to replace missing values of multiple numeric columns with the mean?\n",
        "Difficulty Level: L2\n",
        "\n",
        "Replace missing values in all numeric  columns with their respective mean."
      ]
    },
    {
      "cell_type": "code",
      "metadata": {
        "tags": [],
        "id": "k4J6q--sOjLp",
        "outputId": "a2dcc933-97d7-4ef8-9c91-318453d40ef7"
      },
      "source": [
        "df = pd.read_csv('https://raw.githubusercontent.com/selva86/datasets/master/Cars93_miss.csv')\n",
        "df.head(2)"
      ],
      "execution_count": null,
      "outputs": [
        {
          "data": {
            "text/html": [
              "<div>\n",
              "<style scoped>\n",
              "    .dataframe tbody tr th:only-of-type {\n",
              "        vertical-align: middle;\n",
              "    }\n",
              "\n",
              "    .dataframe tbody tr th {\n",
              "        vertical-align: top;\n",
              "    }\n",
              "\n",
              "    .dataframe thead th {\n",
              "        text-align: right;\n",
              "    }\n",
              "</style>\n",
              "<table border=\"1\" class=\"dataframe\">\n",
              "  <thead>\n",
              "    <tr style=\"text-align: right;\">\n",
              "      <th></th>\n",
              "      <th>Manufacturer</th>\n",
              "      <th>Model</th>\n",
              "      <th>Type</th>\n",
              "      <th>Min.Price</th>\n",
              "      <th>Price</th>\n",
              "      <th>Max.Price</th>\n",
              "      <th>MPG.city</th>\n",
              "      <th>MPG.highway</th>\n",
              "      <th>AirBags</th>\n",
              "      <th>DriveTrain</th>\n",
              "      <th>...</th>\n",
              "      <th>Passengers</th>\n",
              "      <th>Length</th>\n",
              "      <th>Wheelbase</th>\n",
              "      <th>Width</th>\n",
              "      <th>Turn.circle</th>\n",
              "      <th>Rear.seat.room</th>\n",
              "      <th>Luggage.room</th>\n",
              "      <th>Weight</th>\n",
              "      <th>Origin</th>\n",
              "      <th>Make</th>\n",
              "    </tr>\n",
              "  </thead>\n",
              "  <tbody>\n",
              "    <tr>\n",
              "      <th>0</th>\n",
              "      <td>Acura</td>\n",
              "      <td>Integra</td>\n",
              "      <td>Small</td>\n",
              "      <td>12.9</td>\n",
              "      <td>15.9</td>\n",
              "      <td>18.8</td>\n",
              "      <td>25.0</td>\n",
              "      <td>31.0</td>\n",
              "      <td>None</td>\n",
              "      <td>Front</td>\n",
              "      <td>...</td>\n",
              "      <td>5.0</td>\n",
              "      <td>177.0</td>\n",
              "      <td>102.0</td>\n",
              "      <td>68.0</td>\n",
              "      <td>37.0</td>\n",
              "      <td>26.5</td>\n",
              "      <td>NaN</td>\n",
              "      <td>2705.0</td>\n",
              "      <td>non-USA</td>\n",
              "      <td>Acura Integra</td>\n",
              "    </tr>\n",
              "    <tr>\n",
              "      <th>1</th>\n",
              "      <td>NaN</td>\n",
              "      <td>Legend</td>\n",
              "      <td>Midsize</td>\n",
              "      <td>29.2</td>\n",
              "      <td>33.9</td>\n",
              "      <td>38.7</td>\n",
              "      <td>18.0</td>\n",
              "      <td>25.0</td>\n",
              "      <td>Driver &amp; Passenger</td>\n",
              "      <td>Front</td>\n",
              "      <td>...</td>\n",
              "      <td>5.0</td>\n",
              "      <td>195.0</td>\n",
              "      <td>115.0</td>\n",
              "      <td>71.0</td>\n",
              "      <td>38.0</td>\n",
              "      <td>30.0</td>\n",
              "      <td>15.0</td>\n",
              "      <td>3560.0</td>\n",
              "      <td>non-USA</td>\n",
              "      <td>Acura Legend</td>\n",
              "    </tr>\n",
              "  </tbody>\n",
              "</table>\n",
              "<p>2 rows × 27 columns</p>\n",
              "</div>"
            ],
            "text/plain": [
              "  Manufacturer    Model     Type  Min.Price  Price  Max.Price  MPG.city  \\\n",
              "0        Acura  Integra    Small       12.9   15.9       18.8      25.0   \n",
              "1          NaN   Legend  Midsize       29.2   33.9       38.7      18.0   \n",
              "\n",
              "   MPG.highway             AirBags DriveTrain  ... Passengers  Length  \\\n",
              "0         31.0                None      Front  ...        5.0   177.0   \n",
              "1         25.0  Driver & Passenger      Front  ...        5.0   195.0   \n",
              "\n",
              "   Wheelbase  Width  Turn.circle Rear.seat.room  Luggage.room  Weight  \\\n",
              "0      102.0   68.0         37.0           26.5           NaN  2705.0   \n",
              "1      115.0   71.0         38.0           30.0          15.0  3560.0   \n",
              "\n",
              "    Origin           Make  \n",
              "0  non-USA  Acura Integra  \n",
              "1  non-USA   Acura Legend  \n",
              "\n",
              "[2 rows x 27 columns]"
            ]
          },
          "execution_count": 693,
          "metadata": {},
          "output_type": "execute_result"
        }
      ]
    },
    {
      "cell_type": "code",
      "metadata": {
        "tags": [],
        "id": "nNbKanWVOjLp",
        "outputId": "0d053a56-8924-49b0-83e9-cea90b71bbf6"
      },
      "source": [
        "means = df[df.dtypes[df.dtypes=='float64'].keys()].mean()\n",
        "means"
      ],
      "execution_count": null,
      "outputs": [
        {
          "data": {
            "text/plain": [
              "Min.Price               17.118605\n",
              "Price                   19.616484\n",
              "Max.Price               21.459091\n",
              "MPG.city                22.404762\n",
              "MPG.highway             29.065934\n",
              "EngineSize               2.658242\n",
              "Horsepower             144.000000\n",
              "RPM                   5276.666667\n",
              "Rev.per.mile          2355.000000\n",
              "Fuel.tank.capacity      16.683529\n",
              "Passengers               5.076923\n",
              "Length                 182.865169\n",
              "Wheelbase              103.956522\n",
              "Width                   69.448276\n",
              "Turn.circle             38.954545\n",
              "Rear.seat.room          27.853933\n",
              "Luggage.room            13.986486\n",
              "Weight                3104.593023\n",
              "dtype: float64"
            ]
          },
          "execution_count": 694,
          "metadata": {},
          "output_type": "execute_result"
        }
      ]
    },
    {
      "cell_type": "code",
      "metadata": {
        "id": "rIwRyNmUOjLp"
      },
      "source": [
        "df.fillna(means,inplace=True)"
      ],
      "execution_count": null,
      "outputs": []
    },
    {
      "cell_type": "code",
      "metadata": {
        "collapsed": true,
        "jupyter": {
          "outputs_hidden": true
        },
        "tags": [],
        "id": "QIjLIulVOjLq",
        "outputId": "503b4f96-50bd-4a11-a76a-4cd180e0bfc6"
      },
      "source": [
        "df.isnull().sum()"
      ],
      "execution_count": null,
      "outputs": [
        {
          "data": {
            "text/plain": [
              "Manufacturer          4\n",
              "Model                 1\n",
              "Type                  3\n",
              "Min.Price             0\n",
              "Price                 0\n",
              "Max.Price             0\n",
              "MPG.city              0\n",
              "MPG.highway           0\n",
              "AirBags               6\n",
              "DriveTrain            7\n",
              "Cylinders             5\n",
              "EngineSize            0\n",
              "Horsepower            0\n",
              "RPM                   0\n",
              "Rev.per.mile          0\n",
              "Man.trans.avail       5\n",
              "Fuel.tank.capacity    0\n",
              "Passengers            0\n",
              "Length                0\n",
              "Wheelbase             0\n",
              "Width                 0\n",
              "Turn.circle           0\n",
              "Rear.seat.room        0\n",
              "Luggage.room          0\n",
              "Weight                0\n",
              "Origin                5\n",
              "Make                  3\n",
              "dtype: int64"
            ]
          },
          "execution_count": 339,
          "metadata": {},
          "output_type": "execute_result"
        }
      ]
    },
    {
      "cell_type": "markdown",
      "metadata": {
        "id": "3SlUCO79OjLq"
      },
      "source": [
        "## 33. How to select a specific column from a dataframe as a dataframe instead of a series?\n",
        "Difficulty Level: L2\n",
        "\n",
        "Get the first column (a) in df as a dataframe (rather than as a Series)."
      ]
    },
    {
      "cell_type": "code",
      "metadata": {
        "collapsed": true,
        "jupyter": {
          "outputs_hidden": true
        },
        "tags": [],
        "id": "_H7cZ0OtOjLq",
        "outputId": "1e0f7155-cc6b-4aab-86d7-d2e787e710b3"
      },
      "source": [
        "df = pd.DataFrame(np.arange(20).reshape(-1, 5), columns=list('abcde'))\n",
        "df"
      ],
      "execution_count": null,
      "outputs": [
        {
          "data": {
            "text/html": [
              "<div>\n",
              "<style scoped>\n",
              "    .dataframe tbody tr th:only-of-type {\n",
              "        vertical-align: middle;\n",
              "    }\n",
              "\n",
              "    .dataframe tbody tr th {\n",
              "        vertical-align: top;\n",
              "    }\n",
              "\n",
              "    .dataframe thead th {\n",
              "        text-align: right;\n",
              "    }\n",
              "</style>\n",
              "<table border=\"1\" class=\"dataframe\">\n",
              "  <thead>\n",
              "    <tr style=\"text-align: right;\">\n",
              "      <th></th>\n",
              "      <th>a</th>\n",
              "      <th>b</th>\n",
              "      <th>c</th>\n",
              "      <th>d</th>\n",
              "      <th>e</th>\n",
              "    </tr>\n",
              "  </thead>\n",
              "  <tbody>\n",
              "    <tr>\n",
              "      <th>0</th>\n",
              "      <td>0</td>\n",
              "      <td>1</td>\n",
              "      <td>2</td>\n",
              "      <td>3</td>\n",
              "      <td>4</td>\n",
              "    </tr>\n",
              "    <tr>\n",
              "      <th>1</th>\n",
              "      <td>5</td>\n",
              "      <td>6</td>\n",
              "      <td>7</td>\n",
              "      <td>8</td>\n",
              "      <td>9</td>\n",
              "    </tr>\n",
              "    <tr>\n",
              "      <th>2</th>\n",
              "      <td>10</td>\n",
              "      <td>11</td>\n",
              "      <td>12</td>\n",
              "      <td>13</td>\n",
              "      <td>14</td>\n",
              "    </tr>\n",
              "    <tr>\n",
              "      <th>3</th>\n",
              "      <td>15</td>\n",
              "      <td>16</td>\n",
              "      <td>17</td>\n",
              "      <td>18</td>\n",
              "      <td>19</td>\n",
              "    </tr>\n",
              "  </tbody>\n",
              "</table>\n",
              "</div>"
            ],
            "text/plain": [
              "    a   b   c   d   e\n",
              "0   0   1   2   3   4\n",
              "1   5   6   7   8   9\n",
              "2  10  11  12  13  14\n",
              "3  15  16  17  18  19"
            ]
          },
          "execution_count": 675,
          "metadata": {},
          "output_type": "execute_result"
        }
      ]
    },
    {
      "cell_type": "code",
      "metadata": {
        "collapsed": true,
        "jupyter": {
          "outputs_hidden": true
        },
        "tags": [],
        "id": "-3EEiqsyOjLq",
        "outputId": "0faeaf44-f411-4baf-bb59-96ec42e2c5de"
      },
      "source": [
        "pd.DataFrame(df['a'])"
      ],
      "execution_count": null,
      "outputs": [
        {
          "data": {
            "text/html": [
              "<div>\n",
              "<style scoped>\n",
              "    .dataframe tbody tr th:only-of-type {\n",
              "        vertical-align: middle;\n",
              "    }\n",
              "\n",
              "    .dataframe tbody tr th {\n",
              "        vertical-align: top;\n",
              "    }\n",
              "\n",
              "    .dataframe thead th {\n",
              "        text-align: right;\n",
              "    }\n",
              "</style>\n",
              "<table border=\"1\" class=\"dataframe\">\n",
              "  <thead>\n",
              "    <tr style=\"text-align: right;\">\n",
              "      <th></th>\n",
              "      <th>a</th>\n",
              "    </tr>\n",
              "  </thead>\n",
              "  <tbody>\n",
              "    <tr>\n",
              "      <th>0</th>\n",
              "      <td>0</td>\n",
              "    </tr>\n",
              "    <tr>\n",
              "      <th>1</th>\n",
              "      <td>5</td>\n",
              "    </tr>\n",
              "    <tr>\n",
              "      <th>2</th>\n",
              "      <td>10</td>\n",
              "    </tr>\n",
              "    <tr>\n",
              "      <th>3</th>\n",
              "      <td>15</td>\n",
              "    </tr>\n",
              "  </tbody>\n",
              "</table>\n",
              "</div>"
            ],
            "text/plain": [
              "    a\n",
              "0   0\n",
              "1   5\n",
              "2  10\n",
              "3  15"
            ]
          },
          "execution_count": 676,
          "metadata": {},
          "output_type": "execute_result"
        }
      ]
    },
    {
      "cell_type": "markdown",
      "metadata": {
        "id": "qqvnvMjWOjLr"
      },
      "source": [
        "## 34. How to change the order of columns of a dataframe?\n",
        "Difficulty Level: L3\n",
        "\n",
        "Actually 3 questions.\n",
        "\n",
        "In df, interchange columns 'a' and 'c'.\n",
        "Create a generic function to interchange two columns, without hardcoding column names.\n",
        "\n",
        "Sort the columns in reverse alphabetical order, that is colume 'e' first through column 'a' last."
      ]
    },
    {
      "cell_type": "code",
      "metadata": {
        "collapsed": true,
        "jupyter": {
          "outputs_hidden": true
        },
        "tags": [],
        "id": "lwwaMB-dOjLr",
        "outputId": "ebbd92d8-4703-4921-a67a-c6b9e15d2d87"
      },
      "source": [
        "df = pd.DataFrame(np.arange(20).reshape(-1, 5), columns=list('abcde'))\n",
        "df"
      ],
      "execution_count": null,
      "outputs": [
        {
          "data": {
            "text/html": [
              "<div>\n",
              "<style scoped>\n",
              "    .dataframe tbody tr th:only-of-type {\n",
              "        vertical-align: middle;\n",
              "    }\n",
              "\n",
              "    .dataframe tbody tr th {\n",
              "        vertical-align: top;\n",
              "    }\n",
              "\n",
              "    .dataframe thead th {\n",
              "        text-align: right;\n",
              "    }\n",
              "</style>\n",
              "<table border=\"1\" class=\"dataframe\">\n",
              "  <thead>\n",
              "    <tr style=\"text-align: right;\">\n",
              "      <th></th>\n",
              "      <th>a</th>\n",
              "      <th>b</th>\n",
              "      <th>c</th>\n",
              "      <th>d</th>\n",
              "      <th>e</th>\n",
              "    </tr>\n",
              "  </thead>\n",
              "  <tbody>\n",
              "    <tr>\n",
              "      <th>0</th>\n",
              "      <td>0</td>\n",
              "      <td>1</td>\n",
              "      <td>2</td>\n",
              "      <td>3</td>\n",
              "      <td>4</td>\n",
              "    </tr>\n",
              "    <tr>\n",
              "      <th>1</th>\n",
              "      <td>5</td>\n",
              "      <td>6</td>\n",
              "      <td>7</td>\n",
              "      <td>8</td>\n",
              "      <td>9</td>\n",
              "    </tr>\n",
              "    <tr>\n",
              "      <th>2</th>\n",
              "      <td>10</td>\n",
              "      <td>11</td>\n",
              "      <td>12</td>\n",
              "      <td>13</td>\n",
              "      <td>14</td>\n",
              "    </tr>\n",
              "    <tr>\n",
              "      <th>3</th>\n",
              "      <td>15</td>\n",
              "      <td>16</td>\n",
              "      <td>17</td>\n",
              "      <td>18</td>\n",
              "      <td>19</td>\n",
              "    </tr>\n",
              "  </tbody>\n",
              "</table>\n",
              "</div>"
            ],
            "text/plain": [
              "    a   b   c   d   e\n",
              "0   0   1   2   3   4\n",
              "1   5   6   7   8   9\n",
              "2  10  11  12  13  14\n",
              "3  15  16  17  18  19"
            ]
          },
          "execution_count": 305,
          "metadata": {},
          "output_type": "execute_result"
        }
      ]
    },
    {
      "cell_type": "code",
      "metadata": {
        "collapsed": true,
        "jupyter": {
          "outputs_hidden": true
        },
        "tags": [],
        "id": "uMOrrqKSOjLr",
        "outputId": "02d41a62-a045-429a-fe1a-cf15f375ae89"
      },
      "source": [
        "df.loc[:,['c','b','a','d','e']]"
      ],
      "execution_count": null,
      "outputs": [
        {
          "data": {
            "text/html": [
              "<div>\n",
              "<style scoped>\n",
              "    .dataframe tbody tr th:only-of-type {\n",
              "        vertical-align: middle;\n",
              "    }\n",
              "\n",
              "    .dataframe tbody tr th {\n",
              "        vertical-align: top;\n",
              "    }\n",
              "\n",
              "    .dataframe thead th {\n",
              "        text-align: right;\n",
              "    }\n",
              "</style>\n",
              "<table border=\"1\" class=\"dataframe\">\n",
              "  <thead>\n",
              "    <tr style=\"text-align: right;\">\n",
              "      <th></th>\n",
              "      <th>c</th>\n",
              "      <th>b</th>\n",
              "      <th>a</th>\n",
              "      <th>d</th>\n",
              "      <th>e</th>\n",
              "    </tr>\n",
              "  </thead>\n",
              "  <tbody>\n",
              "    <tr>\n",
              "      <th>0</th>\n",
              "      <td>2</td>\n",
              "      <td>1</td>\n",
              "      <td>0</td>\n",
              "      <td>3</td>\n",
              "      <td>4</td>\n",
              "    </tr>\n",
              "    <tr>\n",
              "      <th>1</th>\n",
              "      <td>7</td>\n",
              "      <td>6</td>\n",
              "      <td>5</td>\n",
              "      <td>8</td>\n",
              "      <td>9</td>\n",
              "    </tr>\n",
              "    <tr>\n",
              "      <th>2</th>\n",
              "      <td>12</td>\n",
              "      <td>11</td>\n",
              "      <td>10</td>\n",
              "      <td>13</td>\n",
              "      <td>14</td>\n",
              "    </tr>\n",
              "    <tr>\n",
              "      <th>3</th>\n",
              "      <td>17</td>\n",
              "      <td>16</td>\n",
              "      <td>15</td>\n",
              "      <td>18</td>\n",
              "      <td>19</td>\n",
              "    </tr>\n",
              "  </tbody>\n",
              "</table>\n",
              "</div>"
            ],
            "text/plain": [
              "    c   b   a   d   e\n",
              "0   2   1   0   3   4\n",
              "1   7   6   5   8   9\n",
              "2  12  11  10  13  14\n",
              "3  17  16  15  18  19"
            ]
          },
          "execution_count": 306,
          "metadata": {},
          "output_type": "execute_result"
        }
      ]
    },
    {
      "cell_type": "code",
      "metadata": {
        "collapsed": true,
        "jupyter": {
          "outputs_hidden": true
        },
        "tags": [],
        "id": "QcrtSJ57OjLs",
        "outputId": "e14433e7-1e81-4242-f790-9fee8e958a77"
      },
      "source": [
        "df.loc[:,np.flip(df.columns.values)]"
      ],
      "execution_count": null,
      "outputs": [
        {
          "data": {
            "text/html": [
              "<div>\n",
              "<style scoped>\n",
              "    .dataframe tbody tr th:only-of-type {\n",
              "        vertical-align: middle;\n",
              "    }\n",
              "\n",
              "    .dataframe tbody tr th {\n",
              "        vertical-align: top;\n",
              "    }\n",
              "\n",
              "    .dataframe thead th {\n",
              "        text-align: right;\n",
              "    }\n",
              "</style>\n",
              "<table border=\"1\" class=\"dataframe\">\n",
              "  <thead>\n",
              "    <tr style=\"text-align: right;\">\n",
              "      <th></th>\n",
              "      <th>e</th>\n",
              "      <th>d</th>\n",
              "      <th>c</th>\n",
              "      <th>b</th>\n",
              "      <th>a</th>\n",
              "    </tr>\n",
              "  </thead>\n",
              "  <tbody>\n",
              "    <tr>\n",
              "      <th>0</th>\n",
              "      <td>4</td>\n",
              "      <td>3</td>\n",
              "      <td>2</td>\n",
              "      <td>1</td>\n",
              "      <td>0</td>\n",
              "    </tr>\n",
              "    <tr>\n",
              "      <th>1</th>\n",
              "      <td>9</td>\n",
              "      <td>8</td>\n",
              "      <td>7</td>\n",
              "      <td>6</td>\n",
              "      <td>5</td>\n",
              "    </tr>\n",
              "    <tr>\n",
              "      <th>2</th>\n",
              "      <td>14</td>\n",
              "      <td>13</td>\n",
              "      <td>12</td>\n",
              "      <td>11</td>\n",
              "      <td>10</td>\n",
              "    </tr>\n",
              "    <tr>\n",
              "      <th>3</th>\n",
              "      <td>19</td>\n",
              "      <td>18</td>\n",
              "      <td>17</td>\n",
              "      <td>16</td>\n",
              "      <td>15</td>\n",
              "    </tr>\n",
              "  </tbody>\n",
              "</table>\n",
              "</div>"
            ],
            "text/plain": [
              "    e   d   c   b   a\n",
              "0   4   3   2   1   0\n",
              "1   9   8   7   6   5\n",
              "2  14  13  12  11  10\n",
              "3  19  18  17  16  15"
            ]
          },
          "execution_count": 307,
          "metadata": {},
          "output_type": "execute_result"
        }
      ]
    },
    {
      "cell_type": "markdown",
      "metadata": {
        "id": "POmppejmOjLs"
      },
      "source": [
        "## 35. How to format all the values in a dataframe as percentages?\n",
        "Difficulty Level: L2\n",
        "\n",
        "Format the values in column 'random' of df as percentages."
      ]
    },
    {
      "cell_type": "code",
      "metadata": {
        "collapsed": true,
        "jupyter": {
          "outputs_hidden": true
        },
        "tags": [],
        "id": "q1WBFkyeOjLs",
        "outputId": "832313d2-0b10-4acc-c76c-2861db9d6da5"
      },
      "source": [
        "df = pd.DataFrame(np.random.random(4), columns=['random'])\n",
        "df"
      ],
      "execution_count": null,
      "outputs": [
        {
          "data": {
            "text/html": [
              "<div>\n",
              "<style scoped>\n",
              "    .dataframe tbody tr th:only-of-type {\n",
              "        vertical-align: middle;\n",
              "    }\n",
              "\n",
              "    .dataframe tbody tr th {\n",
              "        vertical-align: top;\n",
              "    }\n",
              "\n",
              "    .dataframe thead th {\n",
              "        text-align: right;\n",
              "    }\n",
              "</style>\n",
              "<table border=\"1\" class=\"dataframe\">\n",
              "  <thead>\n",
              "    <tr style=\"text-align: right;\">\n",
              "      <th></th>\n",
              "      <th>random</th>\n",
              "    </tr>\n",
              "  </thead>\n",
              "  <tbody>\n",
              "    <tr>\n",
              "      <th>0</th>\n",
              "      <td>0.981387</td>\n",
              "    </tr>\n",
              "    <tr>\n",
              "      <th>1</th>\n",
              "      <td>0.041433</td>\n",
              "    </tr>\n",
              "    <tr>\n",
              "      <th>2</th>\n",
              "      <td>0.312882</td>\n",
              "    </tr>\n",
              "    <tr>\n",
              "      <th>3</th>\n",
              "      <td>0.428902</td>\n",
              "    </tr>\n",
              "  </tbody>\n",
              "</table>\n",
              "</div>"
            ],
            "text/plain": [
              "     random\n",
              "0  0.981387\n",
              "1  0.041433\n",
              "2  0.312882\n",
              "3  0.428902"
            ]
          },
          "execution_count": 328,
          "metadata": {},
          "output_type": "execute_result"
        }
      ]
    },
    {
      "cell_type": "code",
      "metadata": {
        "collapsed": true,
        "jupyter": {
          "outputs_hidden": true
        },
        "tags": [],
        "id": "0jimlIkMOjLt",
        "outputId": "e6343b1d-4f24-49b7-e75d-8547df20e69c"
      },
      "source": [
        "out = df.style.format({'random': '{:.2%}'.format,}) # .3f\n",
        "out"
      ],
      "execution_count": null,
      "outputs": [
        {
          "data": {
            "text/html": [
              "<style  type=\"text/css\" >\n",
              "</style><table id=\"T_5333f_\" ><thead>    <tr>        <th class=\"blank level0\" ></th>        <th class=\"col_heading level0 col0\" >random</th>    </tr></thead><tbody>\n",
              "                <tr>\n",
              "                        <th id=\"T_5333f_level0_row0\" class=\"row_heading level0 row0\" >0</th>\n",
              "                        <td id=\"T_5333f_row0_col0\" class=\"data row0 col0\" >98.14%</td>\n",
              "            </tr>\n",
              "            <tr>\n",
              "                        <th id=\"T_5333f_level0_row1\" class=\"row_heading level0 row1\" >1</th>\n",
              "                        <td id=\"T_5333f_row1_col0\" class=\"data row1 col0\" >4.14%</td>\n",
              "            </tr>\n",
              "            <tr>\n",
              "                        <th id=\"T_5333f_level0_row2\" class=\"row_heading level0 row2\" >2</th>\n",
              "                        <td id=\"T_5333f_row2_col0\" class=\"data row2 col0\" >31.29%</td>\n",
              "            </tr>\n",
              "            <tr>\n",
              "                        <th id=\"T_5333f_level0_row3\" class=\"row_heading level0 row3\" >3</th>\n",
              "                        <td id=\"T_5333f_row3_col0\" class=\"data row3 col0\" >42.89%</td>\n",
              "            </tr>\n",
              "    </tbody></table>"
            ],
            "text/plain": [
              "<pandas.io.formats.style.Styler at 0x7f8a0daa9110>"
            ]
          },
          "execution_count": 335,
          "metadata": {},
          "output_type": "execute_result"
        }
      ]
    },
    {
      "cell_type": "markdown",
      "metadata": {
        "id": "A_v42ZVQOjLt"
      },
      "source": [
        "## 36. How to create a primary key index by combining relevant columns?\n",
        "Difficulty Level: L2\n",
        "\n",
        "In df, Replace NaNs with ‘missing’ in columns 'Manufacturer', 'Model' and 'Type' and create a index as a combination of these three columns and check if the index is a primary key."
      ]
    },
    {
      "cell_type": "code",
      "metadata": {
        "id": "vKlq-rEgOjLt",
        "outputId": "02ec190f-92de-47b4-8ce3-9ea745ea6e32"
      },
      "source": [
        "df = pd.read_csv('https://raw.githubusercontent.com/selva86/datasets/master/Cars93_miss.csv', usecols=[0,1,2,3,5])\n",
        "\n",
        "missing = {'Manufacturer': 'missing', 'Model': 'missing', 'Type': 'missing'}\n",
        "df.head(2)"
      ],
      "execution_count": null,
      "outputs": [
        {
          "data": {
            "text/html": [
              "<div>\n",
              "<style scoped>\n",
              "    .dataframe tbody tr th:only-of-type {\n",
              "        vertical-align: middle;\n",
              "    }\n",
              "\n",
              "    .dataframe tbody tr th {\n",
              "        vertical-align: top;\n",
              "    }\n",
              "\n",
              "    .dataframe thead th {\n",
              "        text-align: right;\n",
              "    }\n",
              "</style>\n",
              "<table border=\"1\" class=\"dataframe\">\n",
              "  <thead>\n",
              "    <tr style=\"text-align: right;\">\n",
              "      <th></th>\n",
              "      <th>Manufacturer</th>\n",
              "      <th>Model</th>\n",
              "      <th>Type</th>\n",
              "      <th>Min.Price</th>\n",
              "      <th>Max.Price</th>\n",
              "    </tr>\n",
              "  </thead>\n",
              "  <tbody>\n",
              "    <tr>\n",
              "      <th>0</th>\n",
              "      <td>Acura</td>\n",
              "      <td>Integra</td>\n",
              "      <td>Small</td>\n",
              "      <td>12.9</td>\n",
              "      <td>18.8</td>\n",
              "    </tr>\n",
              "    <tr>\n",
              "      <th>1</th>\n",
              "      <td>NaN</td>\n",
              "      <td>Legend</td>\n",
              "      <td>Midsize</td>\n",
              "      <td>29.2</td>\n",
              "      <td>38.7</td>\n",
              "    </tr>\n",
              "  </tbody>\n",
              "</table>\n",
              "</div>"
            ],
            "text/plain": [
              "  Manufacturer    Model     Type  Min.Price  Max.Price\n",
              "0        Acura  Integra    Small       12.9       18.8\n",
              "1          NaN   Legend  Midsize       29.2       38.7"
            ]
          },
          "execution_count": 699,
          "metadata": {},
          "output_type": "execute_result"
        }
      ]
    },
    {
      "cell_type": "code",
      "metadata": {
        "id": "BLQ5-DTEOjLt"
      },
      "source": [
        "df.fillna(missing,inplace=True)"
      ],
      "execution_count": null,
      "outputs": []
    },
    {
      "cell_type": "code",
      "metadata": {
        "id": "xlvbVgf_OjLu"
      },
      "source": [
        "df.index = df['Manufacturer'] + df['Model'] + df['Type']"
      ],
      "execution_count": null,
      "outputs": []
    },
    {
      "cell_type": "code",
      "metadata": {
        "collapsed": true,
        "jupyter": {
          "outputs_hidden": true
        },
        "tags": [],
        "id": "BrgcEbVkOjLu",
        "outputId": "514c1c04-bc26-4b9b-a4b1-18f506ec858b"
      },
      "source": [
        "df.head(5)"
      ],
      "execution_count": null,
      "outputs": [
        {
          "data": {
            "text/html": [
              "<div>\n",
              "<style scoped>\n",
              "    .dataframe tbody tr th:only-of-type {\n",
              "        vertical-align: middle;\n",
              "    }\n",
              "\n",
              "    .dataframe tbody tr th {\n",
              "        vertical-align: top;\n",
              "    }\n",
              "\n",
              "    .dataframe thead th {\n",
              "        text-align: right;\n",
              "    }\n",
              "</style>\n",
              "<table border=\"1\" class=\"dataframe\">\n",
              "  <thead>\n",
              "    <tr style=\"text-align: right;\">\n",
              "      <th></th>\n",
              "      <th>Manufacturer</th>\n",
              "      <th>Model</th>\n",
              "      <th>Type</th>\n",
              "      <th>Min.Price</th>\n",
              "      <th>Max.Price</th>\n",
              "    </tr>\n",
              "  </thead>\n",
              "  <tbody>\n",
              "    <tr>\n",
              "      <th>AcuraIntegraSmall</th>\n",
              "      <td>Acura</td>\n",
              "      <td>Integra</td>\n",
              "      <td>Small</td>\n",
              "      <td>12.9</td>\n",
              "      <td>18.8</td>\n",
              "    </tr>\n",
              "    <tr>\n",
              "      <th>missingLegendMidsize</th>\n",
              "      <td>missing</td>\n",
              "      <td>Legend</td>\n",
              "      <td>Midsize</td>\n",
              "      <td>29.2</td>\n",
              "      <td>38.7</td>\n",
              "    </tr>\n",
              "    <tr>\n",
              "      <th>Audi90Compact</th>\n",
              "      <td>Audi</td>\n",
              "      <td>90</td>\n",
              "      <td>Compact</td>\n",
              "      <td>25.9</td>\n",
              "      <td>32.3</td>\n",
              "    </tr>\n",
              "    <tr>\n",
              "      <th>Audi100Midsize</th>\n",
              "      <td>Audi</td>\n",
              "      <td>100</td>\n",
              "      <td>Midsize</td>\n",
              "      <td>NaN</td>\n",
              "      <td>44.6</td>\n",
              "    </tr>\n",
              "    <tr>\n",
              "      <th>BMW535iMidsize</th>\n",
              "      <td>BMW</td>\n",
              "      <td>535i</td>\n",
              "      <td>Midsize</td>\n",
              "      <td>NaN</td>\n",
              "      <td>NaN</td>\n",
              "    </tr>\n",
              "  </tbody>\n",
              "</table>\n",
              "</div>"
            ],
            "text/plain": [
              "                     Manufacturer    Model     Type  Min.Price  Max.Price\n",
              "AcuraIntegraSmall           Acura  Integra    Small       12.9       18.8\n",
              "missingLegendMidsize      missing   Legend  Midsize       29.2       38.7\n",
              "Audi90Compact                Audi       90  Compact       25.9       32.3\n",
              "Audi100Midsize               Audi      100  Midsize        NaN       44.6\n",
              "BMW535iMidsize                BMW     535i  Midsize        NaN        NaN"
            ]
          },
          "execution_count": 345,
          "metadata": {},
          "output_type": "execute_result"
        }
      ]
    },
    {
      "cell_type": "markdown",
      "metadata": {
        "id": "rcuD9SapOjLu"
      },
      "source": [
        "## 37. How to get the row number of the nth largest value in a column?\n",
        "Difficulty Level: L2\n",
        "\n",
        "Find the row position of the 5th largest value of column 'a' in df."
      ]
    },
    {
      "cell_type": "code",
      "metadata": {
        "collapsed": true,
        "jupyter": {
          "outputs_hidden": true
        },
        "tags": [],
        "id": "xawN5jfWOjLu",
        "outputId": "a42b83d1-54c5-41f6-8abe-4954feb5a726"
      },
      "source": [
        "df = pd.DataFrame(np.random.randint(1, 30, 30).reshape(10,3), columns=list('abc'))\n",
        "df.head(4)"
      ],
      "execution_count": null,
      "outputs": [
        {
          "data": {
            "text/html": [
              "<div>\n",
              "<style scoped>\n",
              "    .dataframe tbody tr th:only-of-type {\n",
              "        vertical-align: middle;\n",
              "    }\n",
              "\n",
              "    .dataframe tbody tr th {\n",
              "        vertical-align: top;\n",
              "    }\n",
              "\n",
              "    .dataframe thead th {\n",
              "        text-align: right;\n",
              "    }\n",
              "</style>\n",
              "<table border=\"1\" class=\"dataframe\">\n",
              "  <thead>\n",
              "    <tr style=\"text-align: right;\">\n",
              "      <th></th>\n",
              "      <th>a</th>\n",
              "      <th>b</th>\n",
              "      <th>c</th>\n",
              "    </tr>\n",
              "  </thead>\n",
              "  <tbody>\n",
              "    <tr>\n",
              "      <th>0</th>\n",
              "      <td>28</td>\n",
              "      <td>5</td>\n",
              "      <td>28</td>\n",
              "    </tr>\n",
              "    <tr>\n",
              "      <th>1</th>\n",
              "      <td>6</td>\n",
              "      <td>12</td>\n",
              "      <td>6</td>\n",
              "    </tr>\n",
              "    <tr>\n",
              "      <th>2</th>\n",
              "      <td>4</td>\n",
              "      <td>29</td>\n",
              "      <td>17</td>\n",
              "    </tr>\n",
              "    <tr>\n",
              "      <th>3</th>\n",
              "      <td>27</td>\n",
              "      <td>5</td>\n",
              "      <td>25</td>\n",
              "    </tr>\n",
              "  </tbody>\n",
              "</table>\n",
              "</div>"
            ],
            "text/plain": [
              "    a   b   c\n",
              "0  28   5  28\n",
              "1   6  12   6\n",
              "2   4  29  17\n",
              "3  27   5  25"
            ]
          },
          "execution_count": 346,
          "metadata": {},
          "output_type": "execute_result"
        }
      ]
    },
    {
      "cell_type": "code",
      "metadata": {
        "collapsed": true,
        "jupyter": {
          "outputs_hidden": true
        },
        "tags": [],
        "id": "Akxolyt2OjLv",
        "outputId": "0eb5c38b-bd8b-456c-df41-e88b9b10899a"
      },
      "source": [
        "sort_df =df.sort_values(by=['a'])\n",
        "sort_df"
      ],
      "execution_count": null,
      "outputs": [
        {
          "data": {
            "text/html": [
              "<div>\n",
              "<style scoped>\n",
              "    .dataframe tbody tr th:only-of-type {\n",
              "        vertical-align: middle;\n",
              "    }\n",
              "\n",
              "    .dataframe tbody tr th {\n",
              "        vertical-align: top;\n",
              "    }\n",
              "\n",
              "    .dataframe thead th {\n",
              "        text-align: right;\n",
              "    }\n",
              "</style>\n",
              "<table border=\"1\" class=\"dataframe\">\n",
              "  <thead>\n",
              "    <tr style=\"text-align: right;\">\n",
              "      <th></th>\n",
              "      <th>a</th>\n",
              "      <th>b</th>\n",
              "      <th>c</th>\n",
              "    </tr>\n",
              "  </thead>\n",
              "  <tbody>\n",
              "    <tr>\n",
              "      <th>6</th>\n",
              "      <td>1</td>\n",
              "      <td>7</td>\n",
              "      <td>12</td>\n",
              "    </tr>\n",
              "    <tr>\n",
              "      <th>2</th>\n",
              "      <td>4</td>\n",
              "      <td>29</td>\n",
              "      <td>17</td>\n",
              "    </tr>\n",
              "    <tr>\n",
              "      <th>1</th>\n",
              "      <td>6</td>\n",
              "      <td>12</td>\n",
              "      <td>6</td>\n",
              "    </tr>\n",
              "    <tr>\n",
              "      <th>7</th>\n",
              "      <td>10</td>\n",
              "      <td>21</td>\n",
              "      <td>7</td>\n",
              "    </tr>\n",
              "    <tr>\n",
              "      <th>5</th>\n",
              "      <td>16</td>\n",
              "      <td>12</td>\n",
              "      <td>13</td>\n",
              "    </tr>\n",
              "    <tr>\n",
              "      <th>8</th>\n",
              "      <td>22</td>\n",
              "      <td>16</td>\n",
              "      <td>27</td>\n",
              "    </tr>\n",
              "    <tr>\n",
              "      <th>9</th>\n",
              "      <td>26</td>\n",
              "      <td>9</td>\n",
              "      <td>7</td>\n",
              "    </tr>\n",
              "    <tr>\n",
              "      <th>3</th>\n",
              "      <td>27</td>\n",
              "      <td>5</td>\n",
              "      <td>25</td>\n",
              "    </tr>\n",
              "    <tr>\n",
              "      <th>0</th>\n",
              "      <td>28</td>\n",
              "      <td>5</td>\n",
              "      <td>28</td>\n",
              "    </tr>\n",
              "    <tr>\n",
              "      <th>4</th>\n",
              "      <td>28</td>\n",
              "      <td>14</td>\n",
              "      <td>5</td>\n",
              "    </tr>\n",
              "  </tbody>\n",
              "</table>\n",
              "</div>"
            ],
            "text/plain": [
              "    a   b   c\n",
              "6   1   7  12\n",
              "2   4  29  17\n",
              "1   6  12   6\n",
              "7  10  21   7\n",
              "5  16  12  13\n",
              "8  22  16  27\n",
              "9  26   9   7\n",
              "3  27   5  25\n",
              "0  28   5  28\n",
              "4  28  14   5"
            ]
          },
          "execution_count": 353,
          "metadata": {},
          "output_type": "execute_result"
        }
      ]
    },
    {
      "cell_type": "code",
      "metadata": {
        "id": "8lCUWhc5OjLv",
        "outputId": "74a4ea6a-e8cf-4060-cdd8-542fd69f0c84"
      },
      "source": [
        "sort_df.index.values[-5]"
      ],
      "execution_count": null,
      "outputs": [
        {
          "data": {
            "text/plain": [
              "4"
            ]
          },
          "execution_count": 354,
          "metadata": {},
          "output_type": "execute_result"
        }
      ]
    },
    {
      "cell_type": "markdown",
      "metadata": {
        "id": "HIWKv7tTOjLv"
      },
      "source": [
        "## 38. How to find the position of the nth largest value greater than a given value?\n",
        "Difficulty Level: L2\n",
        "\n",
        "In ser, find the position of the 2nd largest value greater than the mean."
      ]
    },
    {
      "cell_type": "code",
      "metadata": {
        "collapsed": true,
        "jupyter": {
          "outputs_hidden": true
        },
        "tags": [],
        "id": "C56hCFWJOjLw",
        "outputId": "77dd09dc-55a6-48f2-8ead-3dc7734d2ca3"
      },
      "source": [
        "ser = pd.Series([7, 77, 16, 86, 60, 38, 34, 36, 83, 27, 16, 52, 50, 52, 54] )\n",
        "ser.head(3)"
      ],
      "execution_count": null,
      "outputs": [
        {
          "data": {
            "text/plain": [
              "0     7\n",
              "1    77\n",
              "2    16\n",
              "dtype: int64"
            ]
          },
          "execution_count": 374,
          "metadata": {},
          "output_type": "execute_result"
        }
      ]
    },
    {
      "cell_type": "code",
      "metadata": {
        "collapsed": true,
        "jupyter": {
          "outputs_hidden": true
        },
        "tags": [],
        "id": "Ga8La2RnOjLw",
        "outputId": "9b9837f6-865f-4dd4-bb92-42e3062429b5"
      },
      "source": [
        "sort_val = ser.sort_values()\n",
        "sort_val"
      ],
      "execution_count": null,
      "outputs": [
        {
          "data": {
            "text/plain": [
              "0      7\n",
              "2     16\n",
              "10    16\n",
              "9     27\n",
              "6     34\n",
              "7     36\n",
              "5     38\n",
              "12    50\n",
              "11    52\n",
              "13    52\n",
              "14    54\n",
              "4     60\n",
              "1     77\n",
              "8     83\n",
              "3     86\n",
              "dtype: int64"
            ]
          },
          "execution_count": 360,
          "metadata": {},
          "output_type": "execute_result"
        }
      ]
    },
    {
      "cell_type": "code",
      "metadata": {
        "id": "QB5KsGVoOjLw",
        "outputId": "c36b5f92-28a5-4ea6-fba2-30e04790eee8"
      },
      "source": [
        "a = sort_val[sort_val>sort_val.mean()]\n",
        "a.index.values[1]"
      ],
      "execution_count": null,
      "outputs": [
        {
          "data": {
            "text/plain": [
              "11"
            ]
          },
          "execution_count": 378,
          "metadata": {},
          "output_type": "execute_result"
        }
      ]
    },
    {
      "cell_type": "markdown",
      "metadata": {
        "id": "V4D7wP1dOjL2"
      },
      "source": [
        "## 39. How to get the last n rows of a dataframe with row sum > 100?\n",
        "Difficulty Level: L2\n",
        "\n",
        "Get the last two rows of df whose row sum is greater than 100.\n",
        "\n"
      ]
    },
    {
      "cell_type": "code",
      "metadata": {
        "collapsed": true,
        "jupyter": {
          "outputs_hidden": true
        },
        "tags": [],
        "id": "QmwGqmZ0OjL2",
        "outputId": "3352cdc1-92d3-4952-c259-c2cbdb87dcd8"
      },
      "source": [
        "df = pd.DataFrame(np.random.randint(10, 40, 60).reshape(-1, 4))\n",
        "df.sum()"
      ],
      "execution_count": null,
      "outputs": [
        {
          "data": {
            "text/html": [
              "<div>\n",
              "<style scoped>\n",
              "    .dataframe tbody tr th:only-of-type {\n",
              "        vertical-align: middle;\n",
              "    }\n",
              "\n",
              "    .dataframe tbody tr th {\n",
              "        vertical-align: top;\n",
              "    }\n",
              "\n",
              "    .dataframe thead th {\n",
              "        text-align: right;\n",
              "    }\n",
              "</style>\n",
              "<table border=\"1\" class=\"dataframe\">\n",
              "  <thead>\n",
              "    <tr style=\"text-align: right;\">\n",
              "      <th></th>\n",
              "      <th>0</th>\n",
              "      <th>1</th>\n",
              "      <th>2</th>\n",
              "      <th>3</th>\n",
              "    </tr>\n",
              "  </thead>\n",
              "  <tbody>\n",
              "    <tr>\n",
              "      <th>0</th>\n",
              "      <td>12</td>\n",
              "      <td>26</td>\n",
              "      <td>37</td>\n",
              "      <td>26</td>\n",
              "    </tr>\n",
              "    <tr>\n",
              "      <th>1</th>\n",
              "      <td>35</td>\n",
              "      <td>23</td>\n",
              "      <td>29</td>\n",
              "      <td>17</td>\n",
              "    </tr>\n",
              "    <tr>\n",
              "      <th>2</th>\n",
              "      <td>12</td>\n",
              "      <td>32</td>\n",
              "      <td>12</td>\n",
              "      <td>26</td>\n",
              "    </tr>\n",
              "    <tr>\n",
              "      <th>3</th>\n",
              "      <td>11</td>\n",
              "      <td>27</td>\n",
              "      <td>17</td>\n",
              "      <td>39</td>\n",
              "    </tr>\n",
              "    <tr>\n",
              "      <th>4</th>\n",
              "      <td>13</td>\n",
              "      <td>21</td>\n",
              "      <td>26</td>\n",
              "      <td>35</td>\n",
              "    </tr>\n",
              "    <tr>\n",
              "      <th>5</th>\n",
              "      <td>36</td>\n",
              "      <td>12</td>\n",
              "      <td>14</td>\n",
              "      <td>39</td>\n",
              "    </tr>\n",
              "    <tr>\n",
              "      <th>6</th>\n",
              "      <td>16</td>\n",
              "      <td>29</td>\n",
              "      <td>36</td>\n",
              "      <td>27</td>\n",
              "    </tr>\n",
              "    <tr>\n",
              "      <th>7</th>\n",
              "      <td>25</td>\n",
              "      <td>33</td>\n",
              "      <td>38</td>\n",
              "      <td>38</td>\n",
              "    </tr>\n",
              "    <tr>\n",
              "      <th>8</th>\n",
              "      <td>39</td>\n",
              "      <td>17</td>\n",
              "      <td>23</td>\n",
              "      <td>38</td>\n",
              "    </tr>\n",
              "    <tr>\n",
              "      <th>9</th>\n",
              "      <td>26</td>\n",
              "      <td>18</td>\n",
              "      <td>17</td>\n",
              "      <td>21</td>\n",
              "    </tr>\n",
              "    <tr>\n",
              "      <th>10</th>\n",
              "      <td>12</td>\n",
              "      <td>17</td>\n",
              "      <td>23</td>\n",
              "      <td>17</td>\n",
              "    </tr>\n",
              "    <tr>\n",
              "      <th>11</th>\n",
              "      <td>35</td>\n",
              "      <td>36</td>\n",
              "      <td>28</td>\n",
              "      <td>12</td>\n",
              "    </tr>\n",
              "    <tr>\n",
              "      <th>12</th>\n",
              "      <td>21</td>\n",
              "      <td>10</td>\n",
              "      <td>37</td>\n",
              "      <td>15</td>\n",
              "    </tr>\n",
              "    <tr>\n",
              "      <th>13</th>\n",
              "      <td>39</td>\n",
              "      <td>27</td>\n",
              "      <td>32</td>\n",
              "      <td>17</td>\n",
              "    </tr>\n",
              "    <tr>\n",
              "      <th>14</th>\n",
              "      <td>16</td>\n",
              "      <td>15</td>\n",
              "      <td>33</td>\n",
              "      <td>39</td>\n",
              "    </tr>\n",
              "  </tbody>\n",
              "</table>\n",
              "</div>"
            ],
            "text/plain": [
              "     0   1   2   3\n",
              "0   12  26  37  26\n",
              "1   35  23  29  17\n",
              "2   12  32  12  26\n",
              "3   11  27  17  39\n",
              "4   13  21  26  35\n",
              "5   36  12  14  39\n",
              "6   16  29  36  27\n",
              "7   25  33  38  38\n",
              "8   39  17  23  38\n",
              "9   26  18  17  21\n",
              "10  12  17  23  17\n",
              "11  35  36  28  12\n",
              "12  21  10  37  15\n",
              "13  39  27  32  17\n",
              "14  16  15  33  39"
            ]
          },
          "execution_count": 386,
          "metadata": {},
          "output_type": "execute_result"
        }
      ]
    },
    {
      "cell_type": "code",
      "metadata": {
        "id": "PJ9oprEsOjL3",
        "outputId": "ab011c17-7137-43a8-93a2-2433d5f4465a"
      },
      "source": [
        "df[df.sum(axis=1)>100].tail(2)"
      ],
      "execution_count": null,
      "outputs": [
        {
          "data": {
            "text/html": [
              "<div>\n",
              "<style scoped>\n",
              "    .dataframe tbody tr th:only-of-type {\n",
              "        vertical-align: middle;\n",
              "    }\n",
              "\n",
              "    .dataframe tbody tr th {\n",
              "        vertical-align: top;\n",
              "    }\n",
              "\n",
              "    .dataframe thead th {\n",
              "        text-align: right;\n",
              "    }\n",
              "</style>\n",
              "<table border=\"1\" class=\"dataframe\">\n",
              "  <thead>\n",
              "    <tr style=\"text-align: right;\">\n",
              "      <th></th>\n",
              "      <th>0</th>\n",
              "      <th>1</th>\n",
              "      <th>2</th>\n",
              "      <th>3</th>\n",
              "    </tr>\n",
              "  </thead>\n",
              "  <tbody>\n",
              "    <tr>\n",
              "      <th>13</th>\n",
              "      <td>39</td>\n",
              "      <td>27</td>\n",
              "      <td>32</td>\n",
              "      <td>17</td>\n",
              "    </tr>\n",
              "    <tr>\n",
              "      <th>14</th>\n",
              "      <td>16</td>\n",
              "      <td>15</td>\n",
              "      <td>33</td>\n",
              "      <td>39</td>\n",
              "    </tr>\n",
              "  </tbody>\n",
              "</table>\n",
              "</div>"
            ],
            "text/plain": [
              "     0   1   2   3\n",
              "13  39  27  32  17\n",
              "14  16  15  33  39"
            ]
          },
          "execution_count": 392,
          "metadata": {},
          "output_type": "execute_result"
        }
      ]
    },
    {
      "cell_type": "markdown",
      "metadata": {
        "id": "_ECryOd5OjL3"
      },
      "source": [
        "## 40. How to find and cap outliers from a series or dataframe column?\n",
        "Difficulty Level: L2\n",
        "\n",
        "Replace all values of ser in the lower 5%ile and greater than 95%ile with respective 5th and 95th %ile value."
      ]
    },
    {
      "cell_type": "code",
      "metadata": {
        "id": "tabXnSQyOjL3"
      },
      "source": [
        "ser = pd.Series(np.logspace(-2, 2, 30))"
      ],
      "execution_count": null,
      "outputs": []
    },
    {
      "cell_type": "code",
      "metadata": {
        "id": "0PbN76_uOjL4",
        "outputId": "e8ffe374-3bad-49fe-8b20-443f8ed16d66"
      },
      "source": [
        "low, high =ser.quantile([.5,.95])\n",
        "print('low: {}, high: {}'.format(low, high))"
      ],
      "execution_count": null,
      "outputs": [
        {
          "name": "stdout",
          "output_type": "stream",
          "text": [
            "low: 1.0126350749753805, high: 63.876672220183934\n"
          ]
        }
      ]
    },
    {
      "cell_type": "code",
      "metadata": {
        "id": "WTrbHBNIOjL4"
      },
      "source": [
        "ser[ser>high]=high\n",
        "ser[ser<low]= low"
      ],
      "execution_count": null,
      "outputs": []
    },
    {
      "cell_type": "code",
      "metadata": {
        "collapsed": true,
        "jupyter": {
          "outputs_hidden": true
        },
        "tags": [],
        "id": "whS7a7txOjL4",
        "outputId": "31abc0a3-9667-4e9c-d83b-3abb661ff7b3"
      },
      "source": [
        "ser"
      ],
      "execution_count": null,
      "outputs": [
        {
          "data": {
            "text/plain": [
              "0      1.012635\n",
              "1      1.012635\n",
              "2      1.012635\n",
              "3      1.012635\n",
              "4      1.012635\n",
              "5      1.012635\n",
              "6      1.012635\n",
              "7      1.012635\n",
              "8      1.012635\n",
              "9      1.012635\n",
              "10     1.012635\n",
              "11     1.012635\n",
              "12     1.012635\n",
              "13     1.012635\n",
              "14     1.012635\n",
              "15     1.172102\n",
              "16     1.610262\n",
              "17     2.212216\n",
              "18     3.039195\n",
              "19     4.175319\n",
              "20     5.736153\n",
              "21     7.880463\n",
              "22    10.826367\n",
              "23    14.873521\n",
              "24    20.433597\n",
              "25    28.072162\n",
              "26    38.566204\n",
              "27    52.983169\n",
              "28    63.876672\n",
              "29    63.876672\n",
              "dtype: float64"
            ]
          },
          "execution_count": 396,
          "metadata": {},
          "output_type": "execute_result"
        }
      ]
    },
    {
      "cell_type": "markdown",
      "metadata": {
        "id": "DmkZl_DnOjL5"
      },
      "source": [
        "## 41. How to reshape a dataframe to the largest possible square after removing the negative values?\n",
        "Difficulty Level: L3\n",
        "\n",
        "Reshape df to the largest possible square with negative values removed. Drop the smallest values if need be. The order of the positive numbers in the result should remain the same as the original."
      ]
    },
    {
      "cell_type": "code",
      "metadata": {
        "collapsed": true,
        "jupyter": {
          "outputs_hidden": true
        },
        "tags": [],
        "id": "vSDZG09BOjL5",
        "outputId": "bcc835af-ea31-4db1-98ef-d5ace537604e"
      },
      "source": [
        "df = pd.DataFrame(np.random.randint(-20, 50, 100).reshape(10,-1))\n",
        "df"
      ],
      "execution_count": null,
      "outputs": [
        {
          "data": {
            "text/html": [
              "<div>\n",
              "<style scoped>\n",
              "    .dataframe tbody tr th:only-of-type {\n",
              "        vertical-align: middle;\n",
              "    }\n",
              "\n",
              "    .dataframe tbody tr th {\n",
              "        vertical-align: top;\n",
              "    }\n",
              "\n",
              "    .dataframe thead th {\n",
              "        text-align: right;\n",
              "    }\n",
              "</style>\n",
              "<table border=\"1\" class=\"dataframe\">\n",
              "  <thead>\n",
              "    <tr style=\"text-align: right;\">\n",
              "      <th></th>\n",
              "      <th>0</th>\n",
              "      <th>1</th>\n",
              "      <th>2</th>\n",
              "      <th>3</th>\n",
              "      <th>4</th>\n",
              "      <th>5</th>\n",
              "      <th>6</th>\n",
              "      <th>7</th>\n",
              "      <th>8</th>\n",
              "      <th>9</th>\n",
              "    </tr>\n",
              "  </thead>\n",
              "  <tbody>\n",
              "    <tr>\n",
              "      <th>0</th>\n",
              "      <td>-7</td>\n",
              "      <td>-20</td>\n",
              "      <td>20</td>\n",
              "      <td>-1</td>\n",
              "      <td>-10</td>\n",
              "      <td>-8</td>\n",
              "      <td>-9</td>\n",
              "      <td>43</td>\n",
              "      <td>21</td>\n",
              "      <td>1</td>\n",
              "    </tr>\n",
              "    <tr>\n",
              "      <th>1</th>\n",
              "      <td>15</td>\n",
              "      <td>44</td>\n",
              "      <td>12</td>\n",
              "      <td>-17</td>\n",
              "      <td>-14</td>\n",
              "      <td>-15</td>\n",
              "      <td>-20</td>\n",
              "      <td>-15</td>\n",
              "      <td>-14</td>\n",
              "      <td>34</td>\n",
              "    </tr>\n",
              "    <tr>\n",
              "      <th>2</th>\n",
              "      <td>-7</td>\n",
              "      <td>36</td>\n",
              "      <td>37</td>\n",
              "      <td>-3</td>\n",
              "      <td>39</td>\n",
              "      <td>-19</td>\n",
              "      <td>36</td>\n",
              "      <td>1</td>\n",
              "      <td>-2</td>\n",
              "      <td>-9</td>\n",
              "    </tr>\n",
              "    <tr>\n",
              "      <th>3</th>\n",
              "      <td>-9</td>\n",
              "      <td>10</td>\n",
              "      <td>25</td>\n",
              "      <td>-11</td>\n",
              "      <td>-17</td>\n",
              "      <td>42</td>\n",
              "      <td>8</td>\n",
              "      <td>29</td>\n",
              "      <td>44</td>\n",
              "      <td>34</td>\n",
              "    </tr>\n",
              "    <tr>\n",
              "      <th>4</th>\n",
              "      <td>34</td>\n",
              "      <td>-14</td>\n",
              "      <td>-13</td>\n",
              "      <td>27</td>\n",
              "      <td>24</td>\n",
              "      <td>17</td>\n",
              "      <td>42</td>\n",
              "      <td>36</td>\n",
              "      <td>-15</td>\n",
              "      <td>-5</td>\n",
              "    </tr>\n",
              "    <tr>\n",
              "      <th>5</th>\n",
              "      <td>12</td>\n",
              "      <td>16</td>\n",
              "      <td>46</td>\n",
              "      <td>31</td>\n",
              "      <td>14</td>\n",
              "      <td>8</td>\n",
              "      <td>41</td>\n",
              "      <td>-6</td>\n",
              "      <td>20</td>\n",
              "      <td>23</td>\n",
              "    </tr>\n",
              "    <tr>\n",
              "      <th>6</th>\n",
              "      <td>-3</td>\n",
              "      <td>33</td>\n",
              "      <td>-5</td>\n",
              "      <td>29</td>\n",
              "      <td>22</td>\n",
              "      <td>37</td>\n",
              "      <td>44</td>\n",
              "      <td>18</td>\n",
              "      <td>-4</td>\n",
              "      <td>0</td>\n",
              "    </tr>\n",
              "    <tr>\n",
              "      <th>7</th>\n",
              "      <td>6</td>\n",
              "      <td>4</td>\n",
              "      <td>-8</td>\n",
              "      <td>-14</td>\n",
              "      <td>12</td>\n",
              "      <td>7</td>\n",
              "      <td>-9</td>\n",
              "      <td>32</td>\n",
              "      <td>-19</td>\n",
              "      <td>-19</td>\n",
              "    </tr>\n",
              "    <tr>\n",
              "      <th>8</th>\n",
              "      <td>24</td>\n",
              "      <td>-6</td>\n",
              "      <td>10</td>\n",
              "      <td>-18</td>\n",
              "      <td>6</td>\n",
              "      <td>10</td>\n",
              "      <td>-10</td>\n",
              "      <td>-11</td>\n",
              "      <td>6</td>\n",
              "      <td>18</td>\n",
              "    </tr>\n",
              "    <tr>\n",
              "      <th>9</th>\n",
              "      <td>42</td>\n",
              "      <td>37</td>\n",
              "      <td>-7</td>\n",
              "      <td>46</td>\n",
              "      <td>-19</td>\n",
              "      <td>-2</td>\n",
              "      <td>-18</td>\n",
              "      <td>-1</td>\n",
              "      <td>32</td>\n",
              "      <td>27</td>\n",
              "    </tr>\n",
              "  </tbody>\n",
              "</table>\n",
              "</div>"
            ],
            "text/plain": [
              "    0   1   2   3   4   5   6   7   8   9\n",
              "0  -7 -20  20  -1 -10  -8  -9  43  21   1\n",
              "1  15  44  12 -17 -14 -15 -20 -15 -14  34\n",
              "2  -7  36  37  -3  39 -19  36   1  -2  -9\n",
              "3  -9  10  25 -11 -17  42   8  29  44  34\n",
              "4  34 -14 -13  27  24  17  42  36 -15  -5\n",
              "5  12  16  46  31  14   8  41  -6  20  23\n",
              "6  -3  33  -5  29  22  37  44  18  -4   0\n",
              "7   6   4  -8 -14  12   7  -9  32 -19 -19\n",
              "8  24  -6  10 -18   6  10 -10 -11   6  18\n",
              "9  42  37  -7  46 -19  -2 -18  -1  32  27"
            ]
          },
          "execution_count": 397,
          "metadata": {},
          "output_type": "execute_result"
        }
      ]
    },
    {
      "cell_type": "code",
      "metadata": {
        "id": "G7LATKYZT_Tc"
      },
      "source": [
        "res_df = df.stack().values"
      ],
      "execution_count": null,
      "outputs": []
    },
    {
      "cell_type": "code",
      "metadata": {
        "collapsed": true,
        "jupyter": {
          "outputs_hidden": true
        },
        "tags": [],
        "id": "UPrNd1A0OjL5",
        "outputId": "894d7077-1fcc-4737-e4f2-a4fb64408c52"
      },
      "source": [
        "res_df = np.array(df).reshape(1,-1).ravel()\n",
        "res_df"
      ],
      "execution_count": null,
      "outputs": [
        {
          "data": {
            "text/plain": [
              "array([ -7, -20,  20,  -1, -10,  -8,  -9,  43,  21,   1,  15,  44,  12,\n",
              "       -17, -14, -15, -20, -15, -14,  34,  -7,  36,  37,  -3,  39, -19,\n",
              "        36,   1,  -2,  -9,  -9,  10,  25, -11, -17,  42,   8,  29,  44,\n",
              "        34,  34, -14, -13,  27,  24,  17,  42,  36, -15,  -5,  12,  16,\n",
              "        46,  31,  14,   8,  41,  -6,  20,  23,  -3,  33,  -5,  29,  22,\n",
              "        37,  44,  18,  -4,   0,   6,   4,  -8, -14,  12,   7,  -9,  32,\n",
              "       -19, -19,  24,  -6,  10, -18,   6,  10, -10, -11,   6,  18,  42,\n",
              "        37,  -7,  46, -19,  -2, -18,  -1,  32,  27])"
            ]
          },
          "execution_count": 405,
          "metadata": {},
          "output_type": "execute_result"
        }
      ]
    },
    {
      "cell_type": "code",
      "metadata": {
        "collapsed": true,
        "jupyter": {
          "outputs_hidden": true
        },
        "tags": [],
        "id": "-eLlZPTsOjL6",
        "outputId": "113054f8-f503-4424-e469-51fea689fec1"
      },
      "source": [
        "without_neg = res_df[res_df>=0]\n",
        "without_neg"
      ],
      "execution_count": null,
      "outputs": [
        {
          "data": {
            "text/plain": [
              "array([20, 43, 21,  1, 15, 44, 12, 34, 36, 37, 39, 36,  1, 10, 25, 42,  8,\n",
              "       29, 44, 34, 34, 27, 24, 17, 42, 36, 12, 16, 46, 31, 14,  8, 41, 20,\n",
              "       23, 33, 29, 22, 37, 44, 18,  0,  6,  4, 12,  7, 32, 24, 10,  6, 10,\n",
              "        6, 18, 42, 37, 46, 32, 27])"
            ]
          },
          "execution_count": 411,
          "metadata": {},
          "output_type": "execute_result"
        }
      ]
    },
    {
      "cell_type": "code",
      "metadata": {
        "collapsed": true,
        "jupyter": {
          "outputs_hidden": true
        },
        "tags": [],
        "id": "MSmXC12HOjL6",
        "outputId": "47e8ae5d-50e2-4026-d4c7-e10ef2f4c451"
      },
      "source": [
        "without_neg.argsort()"
      ],
      "execution_count": null,
      "outputs": [
        {
          "data": {
            "text/plain": [
              "array([41,  3, 12, 43, 42, 51, 49, 45, 16, 31, 50, 48, 13,  6, 26, 44, 30,\n",
              "        4, 27, 23, 52, 40, 33,  0,  2, 37, 34, 47, 22, 14, 57, 21, 17, 36,\n",
              "       29, 56, 46, 35,  7, 19, 20, 25, 11,  8, 38, 54,  9, 10, 32, 53, 15,\n",
              "       24,  1,  5, 39, 18, 55, 28])"
            ]
          },
          "execution_count": 416,
          "metadata": {},
          "output_type": "execute_result"
        }
      ]
    },
    {
      "cell_type": "code",
      "metadata": {
        "collapsed": true,
        "jupyter": {
          "outputs_hidden": true
        },
        "tags": [],
        "id": "pk8y5vdnOjL6",
        "outputId": "27e5467f-8b4a-483d-ee02-e9466d0157ba"
      },
      "source": [
        "without_neg_min = without_neg[without_neg.argsort()[9:]]\n",
        "without_neg_min"
      ],
      "execution_count": null,
      "outputs": [
        {
          "data": {
            "text/plain": [
              "array([ 8, 10, 10, 10, 12, 12, 12, 14, 15, 16, 17, 18, 18, 20, 20, 21, 22,\n",
              "       23, 24, 24, 25, 27, 27, 29, 29, 31, 32, 32, 33, 34, 34, 34, 36, 36,\n",
              "       36, 37, 37, 37, 39, 41, 42, 42, 42, 43, 44, 44, 44, 46, 46])"
            ]
          },
          "execution_count": 418,
          "metadata": {},
          "output_type": "execute_result"
        }
      ]
    },
    {
      "cell_type": "code",
      "metadata": {
        "id": "nOkd7Wi_OjL7",
        "outputId": "287c9e43-bdc4-49c9-fecf-5e9d6233367e"
      },
      "source": [
        "len(without_neg_min)"
      ],
      "execution_count": null,
      "outputs": [
        {
          "data": {
            "text/plain": [
              "49"
            ]
          },
          "execution_count": 419,
          "metadata": {},
          "output_type": "execute_result"
        }
      ]
    },
    {
      "cell_type": "code",
      "metadata": {
        "collapsed": true,
        "jupyter": {
          "outputs_hidden": true
        },
        "tags": [],
        "id": "9F5ZlhUbOjL7",
        "outputId": "9de17895-eba5-422e-c9b1-2c941c8f81ac"
      },
      "source": [
        "pd.DataFrame(without_neg_min.reshape(7,7))"
      ],
      "execution_count": null,
      "outputs": [
        {
          "data": {
            "text/html": [
              "<div>\n",
              "<style scoped>\n",
              "    .dataframe tbody tr th:only-of-type {\n",
              "        vertical-align: middle;\n",
              "    }\n",
              "\n",
              "    .dataframe tbody tr th {\n",
              "        vertical-align: top;\n",
              "    }\n",
              "\n",
              "    .dataframe thead th {\n",
              "        text-align: right;\n",
              "    }\n",
              "</style>\n",
              "<table border=\"1\" class=\"dataframe\">\n",
              "  <thead>\n",
              "    <tr style=\"text-align: right;\">\n",
              "      <th></th>\n",
              "      <th>0</th>\n",
              "      <th>1</th>\n",
              "      <th>2</th>\n",
              "      <th>3</th>\n",
              "      <th>4</th>\n",
              "      <th>5</th>\n",
              "      <th>6</th>\n",
              "    </tr>\n",
              "  </thead>\n",
              "  <tbody>\n",
              "    <tr>\n",
              "      <th>0</th>\n",
              "      <td>8</td>\n",
              "      <td>10</td>\n",
              "      <td>10</td>\n",
              "      <td>10</td>\n",
              "      <td>12</td>\n",
              "      <td>12</td>\n",
              "      <td>12</td>\n",
              "    </tr>\n",
              "    <tr>\n",
              "      <th>1</th>\n",
              "      <td>14</td>\n",
              "      <td>15</td>\n",
              "      <td>16</td>\n",
              "      <td>17</td>\n",
              "      <td>18</td>\n",
              "      <td>18</td>\n",
              "      <td>20</td>\n",
              "    </tr>\n",
              "    <tr>\n",
              "      <th>2</th>\n",
              "      <td>20</td>\n",
              "      <td>21</td>\n",
              "      <td>22</td>\n",
              "      <td>23</td>\n",
              "      <td>24</td>\n",
              "      <td>24</td>\n",
              "      <td>25</td>\n",
              "    </tr>\n",
              "    <tr>\n",
              "      <th>3</th>\n",
              "      <td>27</td>\n",
              "      <td>27</td>\n",
              "      <td>29</td>\n",
              "      <td>29</td>\n",
              "      <td>31</td>\n",
              "      <td>32</td>\n",
              "      <td>32</td>\n",
              "    </tr>\n",
              "    <tr>\n",
              "      <th>4</th>\n",
              "      <td>33</td>\n",
              "      <td>34</td>\n",
              "      <td>34</td>\n",
              "      <td>34</td>\n",
              "      <td>36</td>\n",
              "      <td>36</td>\n",
              "      <td>36</td>\n",
              "    </tr>\n",
              "    <tr>\n",
              "      <th>5</th>\n",
              "      <td>37</td>\n",
              "      <td>37</td>\n",
              "      <td>37</td>\n",
              "      <td>39</td>\n",
              "      <td>41</td>\n",
              "      <td>42</td>\n",
              "      <td>42</td>\n",
              "    </tr>\n",
              "    <tr>\n",
              "      <th>6</th>\n",
              "      <td>42</td>\n",
              "      <td>43</td>\n",
              "      <td>44</td>\n",
              "      <td>44</td>\n",
              "      <td>44</td>\n",
              "      <td>46</td>\n",
              "      <td>46</td>\n",
              "    </tr>\n",
              "  </tbody>\n",
              "</table>\n",
              "</div>"
            ],
            "text/plain": [
              "    0   1   2   3   4   5   6\n",
              "0   8  10  10  10  12  12  12\n",
              "1  14  15  16  17  18  18  20\n",
              "2  20  21  22  23  24  24  25\n",
              "3  27  27  29  29  31  32  32\n",
              "4  33  34  34  34  36  36  36\n",
              "5  37  37  37  39  41  42  42\n",
              "6  42  43  44  44  44  46  46"
            ]
          },
          "execution_count": 421,
          "metadata": {},
          "output_type": "execute_result"
        }
      ]
    },
    {
      "cell_type": "markdown",
      "metadata": {
        "id": "p37poA5iOjL8"
      },
      "source": [
        "## 42. How to swap two rows of a dataframe?\n",
        "Difficulty Level: L2\n",
        "\n",
        "Swap rows 1 and 2 in df."
      ]
    },
    {
      "cell_type": "code",
      "metadata": {
        "collapsed": true,
        "jupyter": {
          "outputs_hidden": true
        },
        "tags": [],
        "id": "oJi4a4VKOjL8",
        "outputId": "6e87d0e2-ee5a-4a73-fb1b-56d63334cd64"
      },
      "source": [
        "df = pd.DataFrame(np.arange(25).reshape(5, -1))\n",
        "df"
      ],
      "execution_count": null,
      "outputs": [
        {
          "data": {
            "text/html": [
              "<div>\n",
              "<style scoped>\n",
              "    .dataframe tbody tr th:only-of-type {\n",
              "        vertical-align: middle;\n",
              "    }\n",
              "\n",
              "    .dataframe tbody tr th {\n",
              "        vertical-align: top;\n",
              "    }\n",
              "\n",
              "    .dataframe thead th {\n",
              "        text-align: right;\n",
              "    }\n",
              "</style>\n",
              "<table border=\"1\" class=\"dataframe\">\n",
              "  <thead>\n",
              "    <tr style=\"text-align: right;\">\n",
              "      <th></th>\n",
              "      <th>0</th>\n",
              "      <th>1</th>\n",
              "      <th>2</th>\n",
              "      <th>3</th>\n",
              "      <th>4</th>\n",
              "    </tr>\n",
              "  </thead>\n",
              "  <tbody>\n",
              "    <tr>\n",
              "      <th>0</th>\n",
              "      <td>0</td>\n",
              "      <td>1</td>\n",
              "      <td>2</td>\n",
              "      <td>3</td>\n",
              "      <td>4</td>\n",
              "    </tr>\n",
              "    <tr>\n",
              "      <th>1</th>\n",
              "      <td>5</td>\n",
              "      <td>6</td>\n",
              "      <td>7</td>\n",
              "      <td>8</td>\n",
              "      <td>9</td>\n",
              "    </tr>\n",
              "    <tr>\n",
              "      <th>2</th>\n",
              "      <td>10</td>\n",
              "      <td>11</td>\n",
              "      <td>12</td>\n",
              "      <td>13</td>\n",
              "      <td>14</td>\n",
              "    </tr>\n",
              "    <tr>\n",
              "      <th>3</th>\n",
              "      <td>15</td>\n",
              "      <td>16</td>\n",
              "      <td>17</td>\n",
              "      <td>18</td>\n",
              "      <td>19</td>\n",
              "    </tr>\n",
              "    <tr>\n",
              "      <th>4</th>\n",
              "      <td>20</td>\n",
              "      <td>21</td>\n",
              "      <td>22</td>\n",
              "      <td>23</td>\n",
              "      <td>24</td>\n",
              "    </tr>\n",
              "  </tbody>\n",
              "</table>\n",
              "</div>"
            ],
            "text/plain": [
              "    0   1   2   3   4\n",
              "0   0   1   2   3   4\n",
              "1   5   6   7   8   9\n",
              "2  10  11  12  13  14\n",
              "3  15  16  17  18  19\n",
              "4  20  21  22  23  24"
            ]
          },
          "execution_count": 422,
          "metadata": {},
          "output_type": "execute_result"
        }
      ]
    },
    {
      "cell_type": "code",
      "metadata": {
        "collapsed": true,
        "jupyter": {
          "outputs_hidden": true
        },
        "tags": [],
        "id": "G-OOvQcsOjL8",
        "outputId": "1574864e-37a4-444a-ace5-a91b2eaeade2"
      },
      "source": [
        "df = df.iloc[[0,2,1,3,4],:]\n",
        "df"
      ],
      "execution_count": null,
      "outputs": [
        {
          "data": {
            "text/html": [
              "<div>\n",
              "<style scoped>\n",
              "    .dataframe tbody tr th:only-of-type {\n",
              "        vertical-align: middle;\n",
              "    }\n",
              "\n",
              "    .dataframe tbody tr th {\n",
              "        vertical-align: top;\n",
              "    }\n",
              "\n",
              "    .dataframe thead th {\n",
              "        text-align: right;\n",
              "    }\n",
              "</style>\n",
              "<table border=\"1\" class=\"dataframe\">\n",
              "  <thead>\n",
              "    <tr style=\"text-align: right;\">\n",
              "      <th></th>\n",
              "      <th>0</th>\n",
              "      <th>1</th>\n",
              "      <th>2</th>\n",
              "      <th>3</th>\n",
              "      <th>4</th>\n",
              "    </tr>\n",
              "  </thead>\n",
              "  <tbody>\n",
              "    <tr>\n",
              "      <th>0</th>\n",
              "      <td>0</td>\n",
              "      <td>1</td>\n",
              "      <td>2</td>\n",
              "      <td>3</td>\n",
              "      <td>4</td>\n",
              "    </tr>\n",
              "    <tr>\n",
              "      <th>2</th>\n",
              "      <td>10</td>\n",
              "      <td>11</td>\n",
              "      <td>12</td>\n",
              "      <td>13</td>\n",
              "      <td>14</td>\n",
              "    </tr>\n",
              "    <tr>\n",
              "      <th>1</th>\n",
              "      <td>5</td>\n",
              "      <td>6</td>\n",
              "      <td>7</td>\n",
              "      <td>8</td>\n",
              "      <td>9</td>\n",
              "    </tr>\n",
              "    <tr>\n",
              "      <th>3</th>\n",
              "      <td>15</td>\n",
              "      <td>16</td>\n",
              "      <td>17</td>\n",
              "      <td>18</td>\n",
              "      <td>19</td>\n",
              "    </tr>\n",
              "    <tr>\n",
              "      <th>4</th>\n",
              "      <td>20</td>\n",
              "      <td>21</td>\n",
              "      <td>22</td>\n",
              "      <td>23</td>\n",
              "      <td>24</td>\n",
              "    </tr>\n",
              "  </tbody>\n",
              "</table>\n",
              "</div>"
            ],
            "text/plain": [
              "    0   1   2   3   4\n",
              "0   0   1   2   3   4\n",
              "2  10  11  12  13  14\n",
              "1   5   6   7   8   9\n",
              "3  15  16  17  18  19\n",
              "4  20  21  22  23  24"
            ]
          },
          "execution_count": 423,
          "metadata": {},
          "output_type": "execute_result"
        }
      ]
    },
    {
      "cell_type": "markdown",
      "metadata": {
        "id": "1b6p2wIkOjL8"
      },
      "source": [
        "## 43. How to reverse the rows of a dataframe?\n",
        "Difficulty Level: L2\n",
        "\n",
        "Reverse all the rows of dataframe df."
      ]
    },
    {
      "cell_type": "code",
      "metadata": {
        "collapsed": true,
        "jupyter": {
          "outputs_hidden": true
        },
        "tags": [],
        "id": "gDxjR7nwOjL9",
        "outputId": "333269be-9d7d-4589-a176-f7f2ff3fe97f"
      },
      "source": [
        "df = pd.DataFrame(np.arange(25).reshape(5, -1))\n",
        "df"
      ],
      "execution_count": null,
      "outputs": [
        {
          "data": {
            "text/html": [
              "<div>\n",
              "<style scoped>\n",
              "    .dataframe tbody tr th:only-of-type {\n",
              "        vertical-align: middle;\n",
              "    }\n",
              "\n",
              "    .dataframe tbody tr th {\n",
              "        vertical-align: top;\n",
              "    }\n",
              "\n",
              "    .dataframe thead th {\n",
              "        text-align: right;\n",
              "    }\n",
              "</style>\n",
              "<table border=\"1\" class=\"dataframe\">\n",
              "  <thead>\n",
              "    <tr style=\"text-align: right;\">\n",
              "      <th></th>\n",
              "      <th>0</th>\n",
              "      <th>1</th>\n",
              "      <th>2</th>\n",
              "      <th>3</th>\n",
              "      <th>4</th>\n",
              "    </tr>\n",
              "  </thead>\n",
              "  <tbody>\n",
              "    <tr>\n",
              "      <th>0</th>\n",
              "      <td>0</td>\n",
              "      <td>1</td>\n",
              "      <td>2</td>\n",
              "      <td>3</td>\n",
              "      <td>4</td>\n",
              "    </tr>\n",
              "    <tr>\n",
              "      <th>1</th>\n",
              "      <td>5</td>\n",
              "      <td>6</td>\n",
              "      <td>7</td>\n",
              "      <td>8</td>\n",
              "      <td>9</td>\n",
              "    </tr>\n",
              "    <tr>\n",
              "      <th>2</th>\n",
              "      <td>10</td>\n",
              "      <td>11</td>\n",
              "      <td>12</td>\n",
              "      <td>13</td>\n",
              "      <td>14</td>\n",
              "    </tr>\n",
              "    <tr>\n",
              "      <th>3</th>\n",
              "      <td>15</td>\n",
              "      <td>16</td>\n",
              "      <td>17</td>\n",
              "      <td>18</td>\n",
              "      <td>19</td>\n",
              "    </tr>\n",
              "    <tr>\n",
              "      <th>4</th>\n",
              "      <td>20</td>\n",
              "      <td>21</td>\n",
              "      <td>22</td>\n",
              "      <td>23</td>\n",
              "      <td>24</td>\n",
              "    </tr>\n",
              "  </tbody>\n",
              "</table>\n",
              "</div>"
            ],
            "text/plain": [
              "    0   1   2   3   4\n",
              "0   0   1   2   3   4\n",
              "1   5   6   7   8   9\n",
              "2  10  11  12  13  14\n",
              "3  15  16  17  18  19\n",
              "4  20  21  22  23  24"
            ]
          },
          "execution_count": 424,
          "metadata": {},
          "output_type": "execute_result"
        }
      ]
    },
    {
      "cell_type": "code",
      "metadata": {
        "collapsed": true,
        "jupyter": {
          "outputs_hidden": true
        },
        "tags": [],
        "id": "Yh30yx7fOjL9",
        "outputId": "69db3a64-c1c9-4be9-d546-b09025a39a64"
      },
      "source": [
        "df = df.iloc[np.flip(df.index.values),:]\n",
        "df"
      ],
      "execution_count": null,
      "outputs": [
        {
          "data": {
            "text/html": [
              "<div>\n",
              "<style scoped>\n",
              "    .dataframe tbody tr th:only-of-type {\n",
              "        vertical-align: middle;\n",
              "    }\n",
              "\n",
              "    .dataframe tbody tr th {\n",
              "        vertical-align: top;\n",
              "    }\n",
              "\n",
              "    .dataframe thead th {\n",
              "        text-align: right;\n",
              "    }\n",
              "</style>\n",
              "<table border=\"1\" class=\"dataframe\">\n",
              "  <thead>\n",
              "    <tr style=\"text-align: right;\">\n",
              "      <th></th>\n",
              "      <th>0</th>\n",
              "      <th>1</th>\n",
              "      <th>2</th>\n",
              "      <th>3</th>\n",
              "      <th>4</th>\n",
              "    </tr>\n",
              "  </thead>\n",
              "  <tbody>\n",
              "    <tr>\n",
              "      <th>4</th>\n",
              "      <td>20</td>\n",
              "      <td>21</td>\n",
              "      <td>22</td>\n",
              "      <td>23</td>\n",
              "      <td>24</td>\n",
              "    </tr>\n",
              "    <tr>\n",
              "      <th>3</th>\n",
              "      <td>15</td>\n",
              "      <td>16</td>\n",
              "      <td>17</td>\n",
              "      <td>18</td>\n",
              "      <td>19</td>\n",
              "    </tr>\n",
              "    <tr>\n",
              "      <th>2</th>\n",
              "      <td>10</td>\n",
              "      <td>11</td>\n",
              "      <td>12</td>\n",
              "      <td>13</td>\n",
              "      <td>14</td>\n",
              "    </tr>\n",
              "    <tr>\n",
              "      <th>1</th>\n",
              "      <td>5</td>\n",
              "      <td>6</td>\n",
              "      <td>7</td>\n",
              "      <td>8</td>\n",
              "      <td>9</td>\n",
              "    </tr>\n",
              "    <tr>\n",
              "      <th>0</th>\n",
              "      <td>0</td>\n",
              "      <td>1</td>\n",
              "      <td>2</td>\n",
              "      <td>3</td>\n",
              "      <td>4</td>\n",
              "    </tr>\n",
              "  </tbody>\n",
              "</table>\n",
              "</div>"
            ],
            "text/plain": [
              "    0   1   2   3   4\n",
              "4  20  21  22  23  24\n",
              "3  15  16  17  18  19\n",
              "2  10  11  12  13  14\n",
              "1   5   6   7   8   9\n",
              "0   0   1   2   3   4"
            ]
          },
          "execution_count": 425,
          "metadata": {},
          "output_type": "execute_result"
        }
      ]
    },
    {
      "cell_type": "markdown",
      "metadata": {
        "id": "1aI_JD4lOjL9"
      },
      "source": [
        "## 44. Which column contains the highest number of row-wise maximum values?\n",
        "Difficulty Level: L2\n",
        "\n",
        "Obtain the column name with the highest number of row-wise maximum’s in df."
      ]
    },
    {
      "cell_type": "code",
      "metadata": {
        "tags": [],
        "id": "7qOI5LuWOjL-",
        "outputId": "52477875-6655-41ab-dd0e-1244aac333d0"
      },
      "source": [
        "df = pd.DataFrame(np.random.randint(1,100, 40).reshape(10, -1))\n",
        "df"
      ],
      "execution_count": null,
      "outputs": [
        {
          "data": {
            "text/html": [
              "<div>\n",
              "<style scoped>\n",
              "    .dataframe tbody tr th:only-of-type {\n",
              "        vertical-align: middle;\n",
              "    }\n",
              "\n",
              "    .dataframe tbody tr th {\n",
              "        vertical-align: top;\n",
              "    }\n",
              "\n",
              "    .dataframe thead th {\n",
              "        text-align: right;\n",
              "    }\n",
              "</style>\n",
              "<table border=\"1\" class=\"dataframe\">\n",
              "  <thead>\n",
              "    <tr style=\"text-align: right;\">\n",
              "      <th></th>\n",
              "      <th>0</th>\n",
              "      <th>1</th>\n",
              "      <th>2</th>\n",
              "      <th>3</th>\n",
              "    </tr>\n",
              "  </thead>\n",
              "  <tbody>\n",
              "    <tr>\n",
              "      <th>0</th>\n",
              "      <td>70</td>\n",
              "      <td>45</td>\n",
              "      <td>77</td>\n",
              "      <td>34</td>\n",
              "    </tr>\n",
              "    <tr>\n",
              "      <th>1</th>\n",
              "      <td>45</td>\n",
              "      <td>40</td>\n",
              "      <td>71</td>\n",
              "      <td>79</td>\n",
              "    </tr>\n",
              "    <tr>\n",
              "      <th>2</th>\n",
              "      <td>98</td>\n",
              "      <td>80</td>\n",
              "      <td>84</td>\n",
              "      <td>17</td>\n",
              "    </tr>\n",
              "    <tr>\n",
              "      <th>3</th>\n",
              "      <td>23</td>\n",
              "      <td>21</td>\n",
              "      <td>82</td>\n",
              "      <td>40</td>\n",
              "    </tr>\n",
              "    <tr>\n",
              "      <th>4</th>\n",
              "      <td>6</td>\n",
              "      <td>35</td>\n",
              "      <td>17</td>\n",
              "      <td>12</td>\n",
              "    </tr>\n",
              "    <tr>\n",
              "      <th>5</th>\n",
              "      <td>67</td>\n",
              "      <td>4</td>\n",
              "      <td>37</td>\n",
              "      <td>66</td>\n",
              "    </tr>\n",
              "    <tr>\n",
              "      <th>6</th>\n",
              "      <td>54</td>\n",
              "      <td>10</td>\n",
              "      <td>34</td>\n",
              "      <td>35</td>\n",
              "    </tr>\n",
              "    <tr>\n",
              "      <th>7</th>\n",
              "      <td>70</td>\n",
              "      <td>62</td>\n",
              "      <td>30</td>\n",
              "      <td>75</td>\n",
              "    </tr>\n",
              "    <tr>\n",
              "      <th>8</th>\n",
              "      <td>63</td>\n",
              "      <td>52</td>\n",
              "      <td>77</td>\n",
              "      <td>40</td>\n",
              "    </tr>\n",
              "    <tr>\n",
              "      <th>9</th>\n",
              "      <td>46</td>\n",
              "      <td>11</td>\n",
              "      <td>79</td>\n",
              "      <td>66</td>\n",
              "    </tr>\n",
              "  </tbody>\n",
              "</table>\n",
              "</div>"
            ],
            "text/plain": [
              "    0   1   2   3\n",
              "0  70  45  77  34\n",
              "1  45  40  71  79\n",
              "2  98  80  84  17\n",
              "3  23  21  82  40\n",
              "4   6  35  17  12\n",
              "5  67   4  37  66\n",
              "6  54  10  34  35\n",
              "7  70  62  30  75\n",
              "8  63  52  77  40\n",
              "9  46  11  79  66"
            ]
          },
          "execution_count": 702,
          "metadata": {},
          "output_type": "execute_result"
        }
      ]
    },
    {
      "cell_type": "code",
      "metadata": {
        "id": "H9S-xBaNOjL-",
        "outputId": "8a218a8a-964d-4253-9c70-8fdd53fbb53a"
      },
      "source": [
        "df.idxmax(axis=1).value_counts().index[0]"
      ],
      "execution_count": null,
      "outputs": [
        {
          "data": {
            "text/plain": [
              "2"
            ]
          },
          "execution_count": 709,
          "metadata": {},
          "output_type": "execute_result"
        }
      ]
    },
    {
      "cell_type": "markdown",
      "metadata": {
        "id": "o9lTntraOjL-"
      },
      "source": [
        "## 45. How to create a new column that contains the row number of nearest column by euclidean distance?\n",
        "Create a new column such that, each row contains the row number of nearest row-record by euclidean distance.\n",
        "\n",
        "Difficulty Level: L3"
      ]
    },
    {
      "cell_type": "code",
      "metadata": {
        "tags": [],
        "id": "9DNlPv3hOjL-",
        "outputId": "c9568dd0-ff83-483c-8af7-36f62444568d"
      },
      "source": [
        "df = pd.DataFrame(np.random.randint(1,100, 40).reshape(10, -1), columns=list('pqrs'), index=list('abcdefghij'))\n",
        "df"
      ],
      "execution_count": null,
      "outputs": [
        {
          "data": {
            "text/html": [
              "<div>\n",
              "<style scoped>\n",
              "    .dataframe tbody tr th:only-of-type {\n",
              "        vertical-align: middle;\n",
              "    }\n",
              "\n",
              "    .dataframe tbody tr th {\n",
              "        vertical-align: top;\n",
              "    }\n",
              "\n",
              "    .dataframe thead th {\n",
              "        text-align: right;\n",
              "    }\n",
              "</style>\n",
              "<table border=\"1\" class=\"dataframe\">\n",
              "  <thead>\n",
              "    <tr style=\"text-align: right;\">\n",
              "      <th></th>\n",
              "      <th>p</th>\n",
              "      <th>q</th>\n",
              "      <th>r</th>\n",
              "      <th>s</th>\n",
              "    </tr>\n",
              "  </thead>\n",
              "  <tbody>\n",
              "    <tr>\n",
              "      <th>a</th>\n",
              "      <td>53</td>\n",
              "      <td>65</td>\n",
              "      <td>45</td>\n",
              "      <td>70</td>\n",
              "    </tr>\n",
              "    <tr>\n",
              "      <th>b</th>\n",
              "      <td>78</td>\n",
              "      <td>57</td>\n",
              "      <td>96</td>\n",
              "      <td>33</td>\n",
              "    </tr>\n",
              "    <tr>\n",
              "      <th>c</th>\n",
              "      <td>46</td>\n",
              "      <td>43</td>\n",
              "      <td>90</td>\n",
              "      <td>55</td>\n",
              "    </tr>\n",
              "    <tr>\n",
              "      <th>d</th>\n",
              "      <td>16</td>\n",
              "      <td>9</td>\n",
              "      <td>78</td>\n",
              "      <td>66</td>\n",
              "    </tr>\n",
              "    <tr>\n",
              "      <th>e</th>\n",
              "      <td>56</td>\n",
              "      <td>40</td>\n",
              "      <td>20</td>\n",
              "      <td>19</td>\n",
              "    </tr>\n",
              "    <tr>\n",
              "      <th>f</th>\n",
              "      <td>69</td>\n",
              "      <td>93</td>\n",
              "      <td>29</td>\n",
              "      <td>60</td>\n",
              "    </tr>\n",
              "    <tr>\n",
              "      <th>g</th>\n",
              "      <td>55</td>\n",
              "      <td>17</td>\n",
              "      <td>56</td>\n",
              "      <td>78</td>\n",
              "    </tr>\n",
              "    <tr>\n",
              "      <th>h</th>\n",
              "      <td>94</td>\n",
              "      <td>18</td>\n",
              "      <td>19</td>\n",
              "      <td>10</td>\n",
              "    </tr>\n",
              "    <tr>\n",
              "      <th>i</th>\n",
              "      <td>71</td>\n",
              "      <td>53</td>\n",
              "      <td>67</td>\n",
              "      <td>40</td>\n",
              "    </tr>\n",
              "    <tr>\n",
              "      <th>j</th>\n",
              "      <td>32</td>\n",
              "      <td>57</td>\n",
              "      <td>95</td>\n",
              "      <td>7</td>\n",
              "    </tr>\n",
              "  </tbody>\n",
              "</table>\n",
              "</div>"
            ],
            "text/plain": [
              "    p   q   r   s\n",
              "a  53  65  45  70\n",
              "b  78  57  96  33\n",
              "c  46  43  90  55\n",
              "d  16   9  78  66\n",
              "e  56  40  20  19\n",
              "f  69  93  29  60\n",
              "g  55  17  56  78\n",
              "h  94  18  19  10\n",
              "i  71  53  67  40\n",
              "j  32  57  95   7"
            ]
          },
          "execution_count": 768,
          "metadata": {},
          "output_type": "execute_result"
        }
      ]
    },
    {
      "cell_type": "code",
      "metadata": {
        "id": "SJ5Qa3RMOjL_",
        "outputId": "39b53ece-ccc5-4136-dc54-71cd96a4e563"
      },
      "source": [
        "dists = np.zeros([10,10]) # considerada o numero de pontos (linhas). Cada ponto possui 4 dimensões no exemplo\n",
        "arr = np.array(df)\n",
        "for comb in combinations(range(len(df)),2): #combinação sem repetição entre os pontos. Esse loop irá gerar uma matriz triangular superior\n",
        "    dif = arr[comb[0]] - arr[comb[1]] # diferença entre pontos diferentes\n",
        "    dists[comb[0],comb[1]]= np.sqrt(dif@dif.T) # soma do quadrado das diferenças entre pontos. Atribuição a matriz triangular superior\n",
        "    \n",
        "\n",
        "dists= dists  + dists.T # espelha a matriz e cria uma matriz simétrica\n",
        "dists[np.diag_indices(10)]= np.nan # atribui NaN a diagonal principal que é nula para evitar que a função min sempre considere a diagonal como resposta\n",
        "dists_df = pd.DataFrame(dists)\n",
        "dists_df.columns = df.index\n",
        "dists_df.index = df.index\n",
        "dists_df"
      ],
      "execution_count": null,
      "outputs": [
        {
          "data": {
            "text/html": [
              "<div>\n",
              "<style scoped>\n",
              "    .dataframe tbody tr th:only-of-type {\n",
              "        vertical-align: middle;\n",
              "    }\n",
              "\n",
              "    .dataframe tbody tr th {\n",
              "        vertical-align: top;\n",
              "    }\n",
              "\n",
              "    .dataframe thead th {\n",
              "        text-align: right;\n",
              "    }\n",
              "</style>\n",
              "<table border=\"1\" class=\"dataframe\">\n",
              "  <thead>\n",
              "    <tr style=\"text-align: right;\">\n",
              "      <th></th>\n",
              "      <th>a</th>\n",
              "      <th>b</th>\n",
              "      <th>c</th>\n",
              "      <th>d</th>\n",
              "      <th>e</th>\n",
              "      <th>f</th>\n",
              "      <th>g</th>\n",
              "      <th>h</th>\n",
              "      <th>i</th>\n",
              "      <th>j</th>\n",
              "    </tr>\n",
              "  </thead>\n",
              "  <tbody>\n",
              "    <tr>\n",
              "      <th>a</th>\n",
              "      <td>NaN</td>\n",
              "      <td>68.256868</td>\n",
              "      <td>52.754147</td>\n",
              "      <td>74.899933</td>\n",
              "      <td>62.128898</td>\n",
              "      <td>37.363083</td>\n",
              "      <td>49.929951</td>\n",
              "      <td>90.365923</td>\n",
              "      <td>43.034870</td>\n",
              "      <td>83.510478</td>\n",
              "    </tr>\n",
              "    <tr>\n",
              "      <th>b</th>\n",
              "      <td>68.256868</td>\n",
              "      <td>NaN</td>\n",
              "      <td>41.713307</td>\n",
              "      <td>86.954011</td>\n",
              "      <td>82.127949</td>\n",
              "      <td>81.209605</td>\n",
              "      <td>75.855125</td>\n",
              "      <td>90.746901</td>\n",
              "      <td>30.903074</td>\n",
              "      <td>52.848841</td>\n",
              "    </tr>\n",
              "    <tr>\n",
              "      <th>c</th>\n",
              "      <td>52.754147</td>\n",
              "      <td>74.899933</td>\n",
              "      <td>NaN</td>\n",
              "      <td>48.176758</td>\n",
              "      <td>79.404030</td>\n",
              "      <td>82.310388</td>\n",
              "      <td>49.416596</td>\n",
              "      <td>99.974997</td>\n",
              "      <td>38.457769</td>\n",
              "      <td>52.163205</td>\n",
              "    </tr>\n",
              "    <tr>\n",
              "      <th>d</th>\n",
              "      <td>62.128898</td>\n",
              "      <td>37.363083</td>\n",
              "      <td>49.929951</td>\n",
              "      <td>NaN</td>\n",
              "      <td>90.188691</td>\n",
              "      <td>110.914381</td>\n",
              "      <td>47.042534</td>\n",
              "      <td>113.057507</td>\n",
              "      <td>75.881487</td>\n",
              "      <td>79.561297</td>\n",
              "    </tr>\n",
              "    <tr>\n",
              "      <th>e</th>\n",
              "      <td>90.365923</td>\n",
              "      <td>43.034870</td>\n",
              "      <td>83.510478</td>\n",
              "      <td>41.713307</td>\n",
              "      <td>NaN</td>\n",
              "      <td>68.847658</td>\n",
              "      <td>72.849159</td>\n",
              "      <td>44.833024</td>\n",
              "      <td>55.172457</td>\n",
              "      <td>81.449371</td>\n",
              "    </tr>\n",
              "    <tr>\n",
              "      <th>f</th>\n",
              "      <td>86.954011</td>\n",
              "      <td>82.127949</td>\n",
              "      <td>81.209605</td>\n",
              "      <td>75.855125</td>\n",
              "      <td>90.746901</td>\n",
              "      <td>NaN</td>\n",
              "      <td>83.815273</td>\n",
              "      <td>94.074439</td>\n",
              "      <td>58.719673</td>\n",
              "      <td>99.146356</td>\n",
              "    </tr>\n",
              "    <tr>\n",
              "      <th>g</th>\n",
              "      <td>30.903074</td>\n",
              "      <td>52.848841</td>\n",
              "      <td>48.176758</td>\n",
              "      <td>79.404030</td>\n",
              "      <td>82.310388</td>\n",
              "      <td>49.416596</td>\n",
              "      <td>NaN</td>\n",
              "      <td>86.689100</td>\n",
              "      <td>55.830099</td>\n",
              "      <td>93.225533</td>\n",
              "    </tr>\n",
              "    <tr>\n",
              "      <th>h</th>\n",
              "      <td>99.974997</td>\n",
              "      <td>38.457769</td>\n",
              "      <td>52.163205</td>\n",
              "      <td>90.188691</td>\n",
              "      <td>110.914381</td>\n",
              "      <td>47.042534</td>\n",
              "      <td>113.057507</td>\n",
              "      <td>NaN</td>\n",
              "      <td>70.413067</td>\n",
              "      <td>105.593560</td>\n",
              "    </tr>\n",
              "    <tr>\n",
              "      <th>i</th>\n",
              "      <td>75.881487</td>\n",
              "      <td>79.561297</td>\n",
              "      <td>68.847658</td>\n",
              "      <td>72.849159</td>\n",
              "      <td>44.833024</td>\n",
              "      <td>55.172457</td>\n",
              "      <td>81.449371</td>\n",
              "      <td>83.815273</td>\n",
              "      <td>NaN</td>\n",
              "      <td>58.395205</td>\n",
              "    </tr>\n",
              "    <tr>\n",
              "      <th>j</th>\n",
              "      <td>94.074439</td>\n",
              "      <td>58.719673</td>\n",
              "      <td>99.146356</td>\n",
              "      <td>86.689100</td>\n",
              "      <td>55.830099</td>\n",
              "      <td>93.225533</td>\n",
              "      <td>70.413067</td>\n",
              "      <td>105.593560</td>\n",
              "      <td>58.395205</td>\n",
              "      <td>NaN</td>\n",
              "    </tr>\n",
              "  </tbody>\n",
              "</table>\n",
              "</div>"
            ],
            "text/plain": [
              "           a          b          c          d           e           f  \\\n",
              "a        NaN  68.256868  52.754147  74.899933   62.128898   37.363083   \n",
              "b  68.256868        NaN  41.713307  86.954011   82.127949   81.209605   \n",
              "c  52.754147  74.899933        NaN  48.176758   79.404030   82.310388   \n",
              "d  62.128898  37.363083  49.929951        NaN   90.188691  110.914381   \n",
              "e  90.365923  43.034870  83.510478  41.713307         NaN   68.847658   \n",
              "f  86.954011  82.127949  81.209605  75.855125   90.746901         NaN   \n",
              "g  30.903074  52.848841  48.176758  79.404030   82.310388   49.416596   \n",
              "h  99.974997  38.457769  52.163205  90.188691  110.914381   47.042534   \n",
              "i  75.881487  79.561297  68.847658  72.849159   44.833024   55.172457   \n",
              "j  94.074439  58.719673  99.146356  86.689100   55.830099   93.225533   \n",
              "\n",
              "            g           h          i           j  \n",
              "a   49.929951   90.365923  43.034870   83.510478  \n",
              "b   75.855125   90.746901  30.903074   52.848841  \n",
              "c   49.416596   99.974997  38.457769   52.163205  \n",
              "d   47.042534  113.057507  75.881487   79.561297  \n",
              "e   72.849159   44.833024  55.172457   81.449371  \n",
              "f   83.815273   94.074439  58.719673   99.146356  \n",
              "g         NaN   86.689100  55.830099   93.225533  \n",
              "h  113.057507         NaN  70.413067  105.593560  \n",
              "i   81.449371   83.815273        NaN   58.395205  \n",
              "j   70.413067  105.593560  58.395205         NaN  "
            ]
          },
          "execution_count": 769,
          "metadata": {},
          "output_type": "execute_result"
        }
      ]
    },
    {
      "cell_type": "code",
      "metadata": {
        "id": "iE-VUcZuOjL_",
        "outputId": "1d220203-6df6-49df-c5e2-317067584ca5"
      },
      "source": [
        "df['min_dist']=dists_df.idxmin(axis=1).values # min across columns\n",
        "df"
      ],
      "execution_count": null,
      "outputs": [
        {
          "data": {
            "text/html": [
              "<div>\n",
              "<style scoped>\n",
              "    .dataframe tbody tr th:only-of-type {\n",
              "        vertical-align: middle;\n",
              "    }\n",
              "\n",
              "    .dataframe tbody tr th {\n",
              "        vertical-align: top;\n",
              "    }\n",
              "\n",
              "    .dataframe thead th {\n",
              "        text-align: right;\n",
              "    }\n",
              "</style>\n",
              "<table border=\"1\" class=\"dataframe\">\n",
              "  <thead>\n",
              "    <tr style=\"text-align: right;\">\n",
              "      <th></th>\n",
              "      <th>p</th>\n",
              "      <th>q</th>\n",
              "      <th>r</th>\n",
              "      <th>s</th>\n",
              "      <th>min_dist</th>\n",
              "    </tr>\n",
              "  </thead>\n",
              "  <tbody>\n",
              "    <tr>\n",
              "      <th>a</th>\n",
              "      <td>78</td>\n",
              "      <td>86</td>\n",
              "      <td>40</td>\n",
              "      <td>17</td>\n",
              "      <td>h</td>\n",
              "    </tr>\n",
              "    <tr>\n",
              "      <th>b</th>\n",
              "      <td>44</td>\n",
              "      <td>3</td>\n",
              "      <td>2</td>\n",
              "      <td>86</td>\n",
              "      <td>e</td>\n",
              "    </tr>\n",
              "    <tr>\n",
              "      <th>c</th>\n",
              "      <td>69</td>\n",
              "      <td>5</td>\n",
              "      <td>55</td>\n",
              "      <td>6</td>\n",
              "      <td>i</td>\n",
              "    </tr>\n",
              "    <tr>\n",
              "      <th>d</th>\n",
              "      <td>24</td>\n",
              "      <td>29</td>\n",
              "      <td>91</td>\n",
              "      <td>44</td>\n",
              "      <td>c</td>\n",
              "    </tr>\n",
              "    <tr>\n",
              "      <th>e</th>\n",
              "      <td>64</td>\n",
              "      <td>67</td>\n",
              "      <td>22</td>\n",
              "      <td>94</td>\n",
              "      <td>f</td>\n",
              "    </tr>\n",
              "    <tr>\n",
              "      <th>f</th>\n",
              "      <td>98</td>\n",
              "      <td>95</td>\n",
              "      <td>21</td>\n",
              "      <td>73</td>\n",
              "      <td>b</td>\n",
              "    </tr>\n",
              "    <tr>\n",
              "      <th>g</th>\n",
              "      <td>28</td>\n",
              "      <td>89</td>\n",
              "      <td>23</td>\n",
              "      <td>36</td>\n",
              "      <td>c</td>\n",
              "    </tr>\n",
              "    <tr>\n",
              "      <th>h</th>\n",
              "      <td>98</td>\n",
              "      <td>41</td>\n",
              "      <td>27</td>\n",
              "      <td>5</td>\n",
              "      <td>b</td>\n",
              "    </tr>\n",
              "    <tr>\n",
              "      <th>i</th>\n",
              "      <td>62</td>\n",
              "      <td>6</td>\n",
              "      <td>36</td>\n",
              "      <td>5</td>\n",
              "      <td>c</td>\n",
              "    </tr>\n",
              "    <tr>\n",
              "      <th>j</th>\n",
              "      <td>62</td>\n",
              "      <td>54</td>\n",
              "      <td>82</td>\n",
              "      <td>88</td>\n",
              "      <td>g</td>\n",
              "    </tr>\n",
              "  </tbody>\n",
              "</table>\n",
              "</div>"
            ],
            "text/plain": [
              "    p   q   r   s min_dist\n",
              "a  78  86  40  17        h\n",
              "b  44   3   2  86        e\n",
              "c  69   5  55   6        i\n",
              "d  24  29  91  44        c\n",
              "e  64  67  22  94        f\n",
              "f  98  95  21  73        b\n",
              "g  28  89  23  36        c\n",
              "h  98  41  27   5        b\n",
              "i  62   6  36   5        c\n",
              "j  62  54  82  88        g"
            ]
          },
          "execution_count": 764,
          "metadata": {},
          "output_type": "execute_result"
        }
      ]
    },
    {
      "cell_type": "markdown",
      "metadata": {
        "id": "oVAKNPLVOjL_"
      },
      "source": [
        "## 46. How to create a column containing the minimum by maximum of each row?\n",
        "Difficulty Level: L2\n",
        "\n",
        "Compute the minimum-by-maximum for every row of df."
      ]
    },
    {
      "cell_type": "code",
      "metadata": {
        "collapsed": true,
        "jupyter": {
          "outputs_hidden": true
        },
        "tags": [],
        "id": "ZB3CPsiKOjMA",
        "outputId": "fad0a2c2-f7e9-46b4-b719-fd9d40320459"
      },
      "source": [
        "df = pd.DataFrame(np.random.randint(1,100, 80).reshape(8, -1))\n",
        "df"
      ],
      "execution_count": null,
      "outputs": [
        {
          "data": {
            "text/html": [
              "<div>\n",
              "<style scoped>\n",
              "    .dataframe tbody tr th:only-of-type {\n",
              "        vertical-align: middle;\n",
              "    }\n",
              "\n",
              "    .dataframe tbody tr th {\n",
              "        vertical-align: top;\n",
              "    }\n",
              "\n",
              "    .dataframe thead th {\n",
              "        text-align: right;\n",
              "    }\n",
              "</style>\n",
              "<table border=\"1\" class=\"dataframe\">\n",
              "  <thead>\n",
              "    <tr style=\"text-align: right;\">\n",
              "      <th></th>\n",
              "      <th>0</th>\n",
              "      <th>1</th>\n",
              "      <th>2</th>\n",
              "      <th>3</th>\n",
              "      <th>4</th>\n",
              "      <th>5</th>\n",
              "      <th>6</th>\n",
              "      <th>7</th>\n",
              "      <th>8</th>\n",
              "      <th>9</th>\n",
              "    </tr>\n",
              "  </thead>\n",
              "  <tbody>\n",
              "    <tr>\n",
              "      <th>0</th>\n",
              "      <td>26</td>\n",
              "      <td>59</td>\n",
              "      <td>87</td>\n",
              "      <td>95</td>\n",
              "      <td>16</td>\n",
              "      <td>76</td>\n",
              "      <td>50</td>\n",
              "      <td>33</td>\n",
              "      <td>51</td>\n",
              "      <td>82</td>\n",
              "    </tr>\n",
              "    <tr>\n",
              "      <th>1</th>\n",
              "      <td>64</td>\n",
              "      <td>5</td>\n",
              "      <td>16</td>\n",
              "      <td>68</td>\n",
              "      <td>81</td>\n",
              "      <td>47</td>\n",
              "      <td>57</td>\n",
              "      <td>75</td>\n",
              "      <td>38</td>\n",
              "      <td>63</td>\n",
              "    </tr>\n",
              "    <tr>\n",
              "      <th>2</th>\n",
              "      <td>43</td>\n",
              "      <td>10</td>\n",
              "      <td>72</td>\n",
              "      <td>39</td>\n",
              "      <td>35</td>\n",
              "      <td>93</td>\n",
              "      <td>39</td>\n",
              "      <td>23</td>\n",
              "      <td>23</td>\n",
              "      <td>39</td>\n",
              "    </tr>\n",
              "    <tr>\n",
              "      <th>3</th>\n",
              "      <td>40</td>\n",
              "      <td>64</td>\n",
              "      <td>19</td>\n",
              "      <td>5</td>\n",
              "      <td>72</td>\n",
              "      <td>16</td>\n",
              "      <td>56</td>\n",
              "      <td>62</td>\n",
              "      <td>28</td>\n",
              "      <td>3</td>\n",
              "    </tr>\n",
              "    <tr>\n",
              "      <th>4</th>\n",
              "      <td>55</td>\n",
              "      <td>4</td>\n",
              "      <td>66</td>\n",
              "      <td>51</td>\n",
              "      <td>25</td>\n",
              "      <td>65</td>\n",
              "      <td>72</td>\n",
              "      <td>27</td>\n",
              "      <td>77</td>\n",
              "      <td>90</td>\n",
              "    </tr>\n",
              "    <tr>\n",
              "      <th>5</th>\n",
              "      <td>65</td>\n",
              "      <td>36</td>\n",
              "      <td>42</td>\n",
              "      <td>49</td>\n",
              "      <td>86</td>\n",
              "      <td>25</td>\n",
              "      <td>97</td>\n",
              "      <td>80</td>\n",
              "      <td>62</td>\n",
              "      <td>74</td>\n",
              "    </tr>\n",
              "    <tr>\n",
              "      <th>6</th>\n",
              "      <td>67</td>\n",
              "      <td>5</td>\n",
              "      <td>75</td>\n",
              "      <td>82</td>\n",
              "      <td>39</td>\n",
              "      <td>15</td>\n",
              "      <td>64</td>\n",
              "      <td>69</td>\n",
              "      <td>59</td>\n",
              "      <td>56</td>\n",
              "    </tr>\n",
              "    <tr>\n",
              "      <th>7</th>\n",
              "      <td>34</td>\n",
              "      <td>43</td>\n",
              "      <td>62</td>\n",
              "      <td>37</td>\n",
              "      <td>37</td>\n",
              "      <td>19</td>\n",
              "      <td>55</td>\n",
              "      <td>71</td>\n",
              "      <td>84</td>\n",
              "      <td>46</td>\n",
              "    </tr>\n",
              "  </tbody>\n",
              "</table>\n",
              "</div>"
            ],
            "text/plain": [
              "    0   1   2   3   4   5   6   7   8   9\n",
              "0  26  59  87  95  16  76  50  33  51  82\n",
              "1  64   5  16  68  81  47  57  75  38  63\n",
              "2  43  10  72  39  35  93  39  23  23  39\n",
              "3  40  64  19   5  72  16  56  62  28   3\n",
              "4  55   4  66  51  25  65  72  27  77  90\n",
              "5  65  36  42  49  86  25  97  80  62  74\n",
              "6  67   5  75  82  39  15  64  69  59  56\n",
              "7  34  43  62  37  37  19  55  71  84  46"
            ]
          },
          "execution_count": 452,
          "metadata": {},
          "output_type": "execute_result"
        }
      ]
    },
    {
      "cell_type": "code",
      "metadata": {
        "collapsed": true,
        "jupyter": {
          "outputs_hidden": true
        },
        "tags": [],
        "id": "1e6zOt9VOjMA",
        "outputId": "69ba6af0-6c32-4bd0-f669-77d3d03e1576"
      },
      "source": [
        "df['min/max'] = df.min(axis=1)/df.max(axis=1)\n",
        "df"
      ],
      "execution_count": null,
      "outputs": [
        {
          "data": {
            "text/html": [
              "<div>\n",
              "<style scoped>\n",
              "    .dataframe tbody tr th:only-of-type {\n",
              "        vertical-align: middle;\n",
              "    }\n",
              "\n",
              "    .dataframe tbody tr th {\n",
              "        vertical-align: top;\n",
              "    }\n",
              "\n",
              "    .dataframe thead th {\n",
              "        text-align: right;\n",
              "    }\n",
              "</style>\n",
              "<table border=\"1\" class=\"dataframe\">\n",
              "  <thead>\n",
              "    <tr style=\"text-align: right;\">\n",
              "      <th></th>\n",
              "      <th>0</th>\n",
              "      <th>1</th>\n",
              "      <th>2</th>\n",
              "      <th>3</th>\n",
              "      <th>4</th>\n",
              "      <th>5</th>\n",
              "      <th>6</th>\n",
              "      <th>7</th>\n",
              "      <th>8</th>\n",
              "      <th>9</th>\n",
              "      <th>min/max</th>\n",
              "    </tr>\n",
              "  </thead>\n",
              "  <tbody>\n",
              "    <tr>\n",
              "      <th>0</th>\n",
              "      <td>26</td>\n",
              "      <td>59</td>\n",
              "      <td>87</td>\n",
              "      <td>95</td>\n",
              "      <td>16</td>\n",
              "      <td>76</td>\n",
              "      <td>50</td>\n",
              "      <td>33</td>\n",
              "      <td>51</td>\n",
              "      <td>82</td>\n",
              "      <td>0.168421</td>\n",
              "    </tr>\n",
              "    <tr>\n",
              "      <th>1</th>\n",
              "      <td>64</td>\n",
              "      <td>5</td>\n",
              "      <td>16</td>\n",
              "      <td>68</td>\n",
              "      <td>81</td>\n",
              "      <td>47</td>\n",
              "      <td>57</td>\n",
              "      <td>75</td>\n",
              "      <td>38</td>\n",
              "      <td>63</td>\n",
              "      <td>0.061728</td>\n",
              "    </tr>\n",
              "    <tr>\n",
              "      <th>2</th>\n",
              "      <td>43</td>\n",
              "      <td>10</td>\n",
              "      <td>72</td>\n",
              "      <td>39</td>\n",
              "      <td>35</td>\n",
              "      <td>93</td>\n",
              "      <td>39</td>\n",
              "      <td>23</td>\n",
              "      <td>23</td>\n",
              "      <td>39</td>\n",
              "      <td>0.107527</td>\n",
              "    </tr>\n",
              "    <tr>\n",
              "      <th>3</th>\n",
              "      <td>40</td>\n",
              "      <td>64</td>\n",
              "      <td>19</td>\n",
              "      <td>5</td>\n",
              "      <td>72</td>\n",
              "      <td>16</td>\n",
              "      <td>56</td>\n",
              "      <td>62</td>\n",
              "      <td>28</td>\n",
              "      <td>3</td>\n",
              "      <td>0.041667</td>\n",
              "    </tr>\n",
              "    <tr>\n",
              "      <th>4</th>\n",
              "      <td>55</td>\n",
              "      <td>4</td>\n",
              "      <td>66</td>\n",
              "      <td>51</td>\n",
              "      <td>25</td>\n",
              "      <td>65</td>\n",
              "      <td>72</td>\n",
              "      <td>27</td>\n",
              "      <td>77</td>\n",
              "      <td>90</td>\n",
              "      <td>0.044444</td>\n",
              "    </tr>\n",
              "    <tr>\n",
              "      <th>5</th>\n",
              "      <td>65</td>\n",
              "      <td>36</td>\n",
              "      <td>42</td>\n",
              "      <td>49</td>\n",
              "      <td>86</td>\n",
              "      <td>25</td>\n",
              "      <td>97</td>\n",
              "      <td>80</td>\n",
              "      <td>62</td>\n",
              "      <td>74</td>\n",
              "      <td>0.257732</td>\n",
              "    </tr>\n",
              "    <tr>\n",
              "      <th>6</th>\n",
              "      <td>67</td>\n",
              "      <td>5</td>\n",
              "      <td>75</td>\n",
              "      <td>82</td>\n",
              "      <td>39</td>\n",
              "      <td>15</td>\n",
              "      <td>64</td>\n",
              "      <td>69</td>\n",
              "      <td>59</td>\n",
              "      <td>56</td>\n",
              "      <td>0.060976</td>\n",
              "    </tr>\n",
              "    <tr>\n",
              "      <th>7</th>\n",
              "      <td>34</td>\n",
              "      <td>43</td>\n",
              "      <td>62</td>\n",
              "      <td>37</td>\n",
              "      <td>37</td>\n",
              "      <td>19</td>\n",
              "      <td>55</td>\n",
              "      <td>71</td>\n",
              "      <td>84</td>\n",
              "      <td>46</td>\n",
              "      <td>0.226190</td>\n",
              "    </tr>\n",
              "  </tbody>\n",
              "</table>\n",
              "</div>"
            ],
            "text/plain": [
              "    0   1   2   3   4   5   6   7   8   9   min/max\n",
              "0  26  59  87  95  16  76  50  33  51  82  0.168421\n",
              "1  64   5  16  68  81  47  57  75  38  63  0.061728\n",
              "2  43  10  72  39  35  93  39  23  23  39  0.107527\n",
              "3  40  64  19   5  72  16  56  62  28   3  0.041667\n",
              "4  55   4  66  51  25  65  72  27  77  90  0.044444\n",
              "5  65  36  42  49  86  25  97  80  62  74  0.257732\n",
              "6  67   5  75  82  39  15  64  69  59  56  0.060976\n",
              "7  34  43  62  37  37  19  55  71  84  46  0.226190"
            ]
          },
          "execution_count": 453,
          "metadata": {},
          "output_type": "execute_result"
        }
      ]
    },
    {
      "cell_type": "markdown",
      "metadata": {
        "id": "93a6eHdyOjMA"
      },
      "source": [
        "## 47. How to create a column that contains the penultimate value in each row?\n",
        "Difficulty Level: L2\n",
        "\n",
        "Create a new column 'penultimate' which has the second largest value of each row of df."
      ]
    },
    {
      "cell_type": "code",
      "metadata": {
        "tags": [],
        "id": "Rq2TSXeROjMA",
        "outputId": "eafa4352-4d47-4704-b875-e885fac31a07"
      },
      "source": [
        "df = pd.DataFrame(np.random.randint(1,100, 80).reshape(8, -1))\n",
        "df"
      ],
      "execution_count": null,
      "outputs": [
        {
          "data": {
            "text/html": [
              "<div>\n",
              "<style scoped>\n",
              "    .dataframe tbody tr th:only-of-type {\n",
              "        vertical-align: middle;\n",
              "    }\n",
              "\n",
              "    .dataframe tbody tr th {\n",
              "        vertical-align: top;\n",
              "    }\n",
              "\n",
              "    .dataframe thead th {\n",
              "        text-align: right;\n",
              "    }\n",
              "</style>\n",
              "<table border=\"1\" class=\"dataframe\">\n",
              "  <thead>\n",
              "    <tr style=\"text-align: right;\">\n",
              "      <th></th>\n",
              "      <th>0</th>\n",
              "      <th>1</th>\n",
              "      <th>2</th>\n",
              "      <th>3</th>\n",
              "      <th>4</th>\n",
              "      <th>5</th>\n",
              "      <th>6</th>\n",
              "      <th>7</th>\n",
              "      <th>8</th>\n",
              "      <th>9</th>\n",
              "    </tr>\n",
              "  </thead>\n",
              "  <tbody>\n",
              "    <tr>\n",
              "      <th>0</th>\n",
              "      <td>79</td>\n",
              "      <td>39</td>\n",
              "      <td>69</td>\n",
              "      <td>50</td>\n",
              "      <td>4</td>\n",
              "      <td>18</td>\n",
              "      <td>70</td>\n",
              "      <td>5</td>\n",
              "      <td>40</td>\n",
              "      <td>26</td>\n",
              "    </tr>\n",
              "    <tr>\n",
              "      <th>1</th>\n",
              "      <td>47</td>\n",
              "      <td>51</td>\n",
              "      <td>14</td>\n",
              "      <td>12</td>\n",
              "      <td>11</td>\n",
              "      <td>12</td>\n",
              "      <td>41</td>\n",
              "      <td>50</td>\n",
              "      <td>62</td>\n",
              "      <td>50</td>\n",
              "    </tr>\n",
              "    <tr>\n",
              "      <th>2</th>\n",
              "      <td>9</td>\n",
              "      <td>96</td>\n",
              "      <td>51</td>\n",
              "      <td>20</td>\n",
              "      <td>17</td>\n",
              "      <td>22</td>\n",
              "      <td>64</td>\n",
              "      <td>10</td>\n",
              "      <td>93</td>\n",
              "      <td>71</td>\n",
              "    </tr>\n",
              "    <tr>\n",
              "      <th>3</th>\n",
              "      <td>21</td>\n",
              "      <td>16</td>\n",
              "      <td>79</td>\n",
              "      <td>43</td>\n",
              "      <td>14</td>\n",
              "      <td>30</td>\n",
              "      <td>37</td>\n",
              "      <td>50</td>\n",
              "      <td>19</td>\n",
              "      <td>35</td>\n",
              "    </tr>\n",
              "    <tr>\n",
              "      <th>4</th>\n",
              "      <td>66</td>\n",
              "      <td>62</td>\n",
              "      <td>98</td>\n",
              "      <td>63</td>\n",
              "      <td>32</td>\n",
              "      <td>39</td>\n",
              "      <td>48</td>\n",
              "      <td>91</td>\n",
              "      <td>50</td>\n",
              "      <td>64</td>\n",
              "    </tr>\n",
              "    <tr>\n",
              "      <th>5</th>\n",
              "      <td>62</td>\n",
              "      <td>27</td>\n",
              "      <td>7</td>\n",
              "      <td>86</td>\n",
              "      <td>6</td>\n",
              "      <td>3</td>\n",
              "      <td>14</td>\n",
              "      <td>85</td>\n",
              "      <td>93</td>\n",
              "      <td>65</td>\n",
              "    </tr>\n",
              "    <tr>\n",
              "      <th>6</th>\n",
              "      <td>50</td>\n",
              "      <td>97</td>\n",
              "      <td>33</td>\n",
              "      <td>46</td>\n",
              "      <td>14</td>\n",
              "      <td>96</td>\n",
              "      <td>76</td>\n",
              "      <td>18</td>\n",
              "      <td>27</td>\n",
              "      <td>89</td>\n",
              "    </tr>\n",
              "    <tr>\n",
              "      <th>7</th>\n",
              "      <td>28</td>\n",
              "      <td>92</td>\n",
              "      <td>15</td>\n",
              "      <td>8</td>\n",
              "      <td>99</td>\n",
              "      <td>15</td>\n",
              "      <td>19</td>\n",
              "      <td>31</td>\n",
              "      <td>43</td>\n",
              "      <td>85</td>\n",
              "    </tr>\n",
              "  </tbody>\n",
              "</table>\n",
              "</div>"
            ],
            "text/plain": [
              "    0   1   2   3   4   5   6   7   8   9\n",
              "0  79  39  69  50   4  18  70   5  40  26\n",
              "1  47  51  14  12  11  12  41  50  62  50\n",
              "2   9  96  51  20  17  22  64  10  93  71\n",
              "3  21  16  79  43  14  30  37  50  19  35\n",
              "4  66  62  98  63  32  39  48  91  50  64\n",
              "5  62  27   7  86   6   3  14  85  93  65\n",
              "6  50  97  33  46  14  96  76  18  27  89\n",
              "7  28  92  15   8  99  15  19  31  43  85"
            ]
          },
          "execution_count": 776,
          "metadata": {},
          "output_type": "execute_result"
        }
      ]
    },
    {
      "cell_type": "code",
      "metadata": {
        "tags": [],
        "id": "Ezv4hbC8OjMB",
        "outputId": "f2a38296-4352-4d19-891d-40f08c14c745"
      },
      "source": [
        "l = []\n",
        "for idx, row in df.iterrows():\n",
        "    l.append(np.sort(row.values)[-2])\n",
        "df['sec_max']= l\n",
        "df"
      ],
      "execution_count": null,
      "outputs": [
        {
          "data": {
            "text/html": [
              "<div>\n",
              "<style scoped>\n",
              "    .dataframe tbody tr th:only-of-type {\n",
              "        vertical-align: middle;\n",
              "    }\n",
              "\n",
              "    .dataframe tbody tr th {\n",
              "        vertical-align: top;\n",
              "    }\n",
              "\n",
              "    .dataframe thead th {\n",
              "        text-align: right;\n",
              "    }\n",
              "</style>\n",
              "<table border=\"1\" class=\"dataframe\">\n",
              "  <thead>\n",
              "    <tr style=\"text-align: right;\">\n",
              "      <th></th>\n",
              "      <th>0</th>\n",
              "      <th>1</th>\n",
              "      <th>2</th>\n",
              "      <th>3</th>\n",
              "      <th>4</th>\n",
              "      <th>5</th>\n",
              "      <th>6</th>\n",
              "      <th>7</th>\n",
              "      <th>8</th>\n",
              "      <th>9</th>\n",
              "      <th>sec_max</th>\n",
              "    </tr>\n",
              "  </thead>\n",
              "  <tbody>\n",
              "    <tr>\n",
              "      <th>0</th>\n",
              "      <td>79</td>\n",
              "      <td>39</td>\n",
              "      <td>69</td>\n",
              "      <td>50</td>\n",
              "      <td>4</td>\n",
              "      <td>18</td>\n",
              "      <td>70</td>\n",
              "      <td>5</td>\n",
              "      <td>40</td>\n",
              "      <td>26</td>\n",
              "      <td>70</td>\n",
              "    </tr>\n",
              "    <tr>\n",
              "      <th>1</th>\n",
              "      <td>47</td>\n",
              "      <td>51</td>\n",
              "      <td>14</td>\n",
              "      <td>12</td>\n",
              "      <td>11</td>\n",
              "      <td>12</td>\n",
              "      <td>41</td>\n",
              "      <td>50</td>\n",
              "      <td>62</td>\n",
              "      <td>50</td>\n",
              "      <td>51</td>\n",
              "    </tr>\n",
              "    <tr>\n",
              "      <th>2</th>\n",
              "      <td>9</td>\n",
              "      <td>96</td>\n",
              "      <td>51</td>\n",
              "      <td>20</td>\n",
              "      <td>17</td>\n",
              "      <td>22</td>\n",
              "      <td>64</td>\n",
              "      <td>10</td>\n",
              "      <td>93</td>\n",
              "      <td>71</td>\n",
              "      <td>93</td>\n",
              "    </tr>\n",
              "    <tr>\n",
              "      <th>3</th>\n",
              "      <td>21</td>\n",
              "      <td>16</td>\n",
              "      <td>79</td>\n",
              "      <td>43</td>\n",
              "      <td>14</td>\n",
              "      <td>30</td>\n",
              "      <td>37</td>\n",
              "      <td>50</td>\n",
              "      <td>19</td>\n",
              "      <td>35</td>\n",
              "      <td>50</td>\n",
              "    </tr>\n",
              "    <tr>\n",
              "      <th>4</th>\n",
              "      <td>66</td>\n",
              "      <td>62</td>\n",
              "      <td>98</td>\n",
              "      <td>63</td>\n",
              "      <td>32</td>\n",
              "      <td>39</td>\n",
              "      <td>48</td>\n",
              "      <td>91</td>\n",
              "      <td>50</td>\n",
              "      <td>64</td>\n",
              "      <td>91</td>\n",
              "    </tr>\n",
              "    <tr>\n",
              "      <th>5</th>\n",
              "      <td>62</td>\n",
              "      <td>27</td>\n",
              "      <td>7</td>\n",
              "      <td>86</td>\n",
              "      <td>6</td>\n",
              "      <td>3</td>\n",
              "      <td>14</td>\n",
              "      <td>85</td>\n",
              "      <td>93</td>\n",
              "      <td>65</td>\n",
              "      <td>86</td>\n",
              "    </tr>\n",
              "    <tr>\n",
              "      <th>6</th>\n",
              "      <td>50</td>\n",
              "      <td>97</td>\n",
              "      <td>33</td>\n",
              "      <td>46</td>\n",
              "      <td>14</td>\n",
              "      <td>96</td>\n",
              "      <td>76</td>\n",
              "      <td>18</td>\n",
              "      <td>27</td>\n",
              "      <td>89</td>\n",
              "      <td>96</td>\n",
              "    </tr>\n",
              "    <tr>\n",
              "      <th>7</th>\n",
              "      <td>28</td>\n",
              "      <td>92</td>\n",
              "      <td>15</td>\n",
              "      <td>8</td>\n",
              "      <td>99</td>\n",
              "      <td>15</td>\n",
              "      <td>19</td>\n",
              "      <td>31</td>\n",
              "      <td>43</td>\n",
              "      <td>85</td>\n",
              "      <td>92</td>\n",
              "    </tr>\n",
              "  </tbody>\n",
              "</table>\n",
              "</div>"
            ],
            "text/plain": [
              "    0   1   2   3   4   5   6   7   8   9  sec_max\n",
              "0  79  39  69  50   4  18  70   5  40  26       70\n",
              "1  47  51  14  12  11  12  41  50  62  50       51\n",
              "2   9  96  51  20  17  22  64  10  93  71       93\n",
              "3  21  16  79  43  14  30  37  50  19  35       50\n",
              "4  66  62  98  63  32  39  48  91  50  64       91\n",
              "5  62  27   7  86   6   3  14  85  93  65       86\n",
              "6  50  97  33  46  14  96  76  18  27  89       96\n",
              "7  28  92  15   8  99  15  19  31  43  85       92"
            ]
          },
          "execution_count": 778,
          "metadata": {},
          "output_type": "execute_result"
        }
      ]
    },
    {
      "cell_type": "code",
      "metadata": {
        "id": "DBKUU3SQSeEn"
      },
      "source": [
        "def sec_max(x):\n",
        "  return x.sort_values().iloc[-2]"
      ],
      "execution_count": null,
      "outputs": []
    },
    {
      "cell_type": "code",
      "metadata": {
        "id": "0nxXst6QSsPs"
      },
      "source": [
        "df['sec_max'] = df.apply(sec_max, axis=1)"
      ],
      "execution_count": null,
      "outputs": []
    },
    {
      "cell_type": "markdown",
      "metadata": {
        "id": "Kuy0v3JROjMB"
      },
      "source": [
        "## 48. How to normalize all columns in a dataframe?\n",
        "Difficulty Level: L2\n",
        "\n",
        "Normalize all columns of df by subtracting the column mean and divide by standard deviation.\n",
        "Range all columns of df such that the minimum value in each column is 0 and max is 1.\n",
        "Don’t use external packages like sklearn."
      ]
    },
    {
      "cell_type": "code",
      "metadata": {
        "tags": [],
        "id": "Ww3KXNOmOjMB",
        "outputId": "fb90c017-6c9e-4b3d-da31-14fb8c795909"
      },
      "source": [
        "df = pd.DataFrame(np.random.randint(1,100, 80).reshape(8, -1))\n",
        "df"
      ],
      "execution_count": null,
      "outputs": [
        {
          "data": {
            "text/html": [
              "<div>\n",
              "<style scoped>\n",
              "    .dataframe tbody tr th:only-of-type {\n",
              "        vertical-align: middle;\n",
              "    }\n",
              "\n",
              "    .dataframe tbody tr th {\n",
              "        vertical-align: top;\n",
              "    }\n",
              "\n",
              "    .dataframe thead th {\n",
              "        text-align: right;\n",
              "    }\n",
              "</style>\n",
              "<table border=\"1\" class=\"dataframe\">\n",
              "  <thead>\n",
              "    <tr style=\"text-align: right;\">\n",
              "      <th></th>\n",
              "      <th>0</th>\n",
              "      <th>1</th>\n",
              "      <th>2</th>\n",
              "      <th>3</th>\n",
              "      <th>4</th>\n",
              "      <th>5</th>\n",
              "      <th>6</th>\n",
              "      <th>7</th>\n",
              "      <th>8</th>\n",
              "      <th>9</th>\n",
              "    </tr>\n",
              "  </thead>\n",
              "  <tbody>\n",
              "    <tr>\n",
              "      <th>0</th>\n",
              "      <td>96</td>\n",
              "      <td>73</td>\n",
              "      <td>3</td>\n",
              "      <td>28</td>\n",
              "      <td>44</td>\n",
              "      <td>28</td>\n",
              "      <td>37</td>\n",
              "      <td>20</td>\n",
              "      <td>27</td>\n",
              "      <td>58</td>\n",
              "    </tr>\n",
              "    <tr>\n",
              "      <th>1</th>\n",
              "      <td>58</td>\n",
              "      <td>75</td>\n",
              "      <td>34</td>\n",
              "      <td>44</td>\n",
              "      <td>37</td>\n",
              "      <td>11</td>\n",
              "      <td>59</td>\n",
              "      <td>19</td>\n",
              "      <td>75</td>\n",
              "      <td>55</td>\n",
              "    </tr>\n",
              "    <tr>\n",
              "      <th>2</th>\n",
              "      <td>8</td>\n",
              "      <td>40</td>\n",
              "      <td>84</td>\n",
              "      <td>62</td>\n",
              "      <td>14</td>\n",
              "      <td>27</td>\n",
              "      <td>20</td>\n",
              "      <td>20</td>\n",
              "      <td>89</td>\n",
              "      <td>18</td>\n",
              "    </tr>\n",
              "    <tr>\n",
              "      <th>3</th>\n",
              "      <td>29</td>\n",
              "      <td>71</td>\n",
              "      <td>40</td>\n",
              "      <td>35</td>\n",
              "      <td>58</td>\n",
              "      <td>30</td>\n",
              "      <td>67</td>\n",
              "      <td>72</td>\n",
              "      <td>88</td>\n",
              "      <td>81</td>\n",
              "    </tr>\n",
              "    <tr>\n",
              "      <th>4</th>\n",
              "      <td>75</td>\n",
              "      <td>89</td>\n",
              "      <td>67</td>\n",
              "      <td>84</td>\n",
              "      <td>7</td>\n",
              "      <td>52</td>\n",
              "      <td>34</td>\n",
              "      <td>11</td>\n",
              "      <td>9</td>\n",
              "      <td>34</td>\n",
              "    </tr>\n",
              "    <tr>\n",
              "      <th>5</th>\n",
              "      <td>65</td>\n",
              "      <td>26</td>\n",
              "      <td>65</td>\n",
              "      <td>92</td>\n",
              "      <td>42</td>\n",
              "      <td>3</td>\n",
              "      <td>62</td>\n",
              "      <td>33</td>\n",
              "      <td>59</td>\n",
              "      <td>30</td>\n",
              "    </tr>\n",
              "    <tr>\n",
              "      <th>6</th>\n",
              "      <td>91</td>\n",
              "      <td>35</td>\n",
              "      <td>19</td>\n",
              "      <td>53</td>\n",
              "      <td>22</td>\n",
              "      <td>92</td>\n",
              "      <td>4</td>\n",
              "      <td>78</td>\n",
              "      <td>21</td>\n",
              "      <td>8</td>\n",
              "    </tr>\n",
              "    <tr>\n",
              "      <th>7</th>\n",
              "      <td>21</td>\n",
              "      <td>83</td>\n",
              "      <td>53</td>\n",
              "      <td>82</td>\n",
              "      <td>24</td>\n",
              "      <td>21</td>\n",
              "      <td>5</td>\n",
              "      <td>50</td>\n",
              "      <td>24</td>\n",
              "      <td>37</td>\n",
              "    </tr>\n",
              "  </tbody>\n",
              "</table>\n",
              "</div>"
            ],
            "text/plain": [
              "    0   1   2   3   4   5   6   7   8   9\n",
              "0  96  73   3  28  44  28  37  20  27  58\n",
              "1  58  75  34  44  37  11  59  19  75  55\n",
              "2   8  40  84  62  14  27  20  20  89  18\n",
              "3  29  71  40  35  58  30  67  72  88  81\n",
              "4  75  89  67  84   7  52  34  11   9  34\n",
              "5  65  26  65  92  42   3  62  33  59  30\n",
              "6  91  35  19  53  22  92   4  78  21   8\n",
              "7  21  83  53  82  24  21   5  50  24  37"
            ]
          },
          "execution_count": 779,
          "metadata": {},
          "output_type": "execute_result"
        }
      ]
    },
    {
      "cell_type": "code",
      "metadata": {
        "id": "2c28wkDFOjMC"
      },
      "source": [
        "vals_means =df.mean(axis=0)\n",
        "vals_dev =df.std(axis=0)"
      ],
      "execution_count": null,
      "outputs": []
    },
    {
      "cell_type": "code",
      "metadata": {
        "id": "GWWfmBnkOjMC",
        "outputId": "a75cb870-5b6f-4d8b-9902-938a8bbb9695"
      },
      "source": [
        "vals_means"
      ],
      "execution_count": null,
      "outputs": [
        {
          "data": {
            "text/plain": [
              "0    55.375\n",
              "1    61.500\n",
              "2    45.625\n",
              "3    60.000\n",
              "4    31.000\n",
              "5    33.000\n",
              "6    36.000\n",
              "7    37.875\n",
              "8    49.000\n",
              "9    40.125\n",
              "dtype: float64"
            ]
          },
          "execution_count": 781,
          "metadata": {},
          "output_type": "execute_result"
        }
      ]
    },
    {
      "cell_type": "code",
      "metadata": {
        "tags": [],
        "id": "LXzrPK5YOjMC",
        "outputId": "1dbbafb2-6701-45d3-ddfc-491e8bb1da06"
      },
      "source": [
        "df_1=df.subtract(vals_means,axis=1)\n",
        "df_1"
      ],
      "execution_count": null,
      "outputs": [
        {
          "data": {
            "text/html": [
              "<div>\n",
              "<style scoped>\n",
              "    .dataframe tbody tr th:only-of-type {\n",
              "        vertical-align: middle;\n",
              "    }\n",
              "\n",
              "    .dataframe tbody tr th {\n",
              "        vertical-align: top;\n",
              "    }\n",
              "\n",
              "    .dataframe thead th {\n",
              "        text-align: right;\n",
              "    }\n",
              "</style>\n",
              "<table border=\"1\" class=\"dataframe\">\n",
              "  <thead>\n",
              "    <tr style=\"text-align: right;\">\n",
              "      <th></th>\n",
              "      <th>0</th>\n",
              "      <th>1</th>\n",
              "      <th>2</th>\n",
              "      <th>3</th>\n",
              "      <th>4</th>\n",
              "      <th>5</th>\n",
              "      <th>6</th>\n",
              "      <th>7</th>\n",
              "      <th>8</th>\n",
              "      <th>9</th>\n",
              "    </tr>\n",
              "  </thead>\n",
              "  <tbody>\n",
              "    <tr>\n",
              "      <th>0</th>\n",
              "      <td>40.625</td>\n",
              "      <td>11.5</td>\n",
              "      <td>-42.625</td>\n",
              "      <td>-32.0</td>\n",
              "      <td>13.0</td>\n",
              "      <td>-5.0</td>\n",
              "      <td>1.0</td>\n",
              "      <td>-17.875</td>\n",
              "      <td>-22.0</td>\n",
              "      <td>17.875</td>\n",
              "    </tr>\n",
              "    <tr>\n",
              "      <th>1</th>\n",
              "      <td>2.625</td>\n",
              "      <td>13.5</td>\n",
              "      <td>-11.625</td>\n",
              "      <td>-16.0</td>\n",
              "      <td>6.0</td>\n",
              "      <td>-22.0</td>\n",
              "      <td>23.0</td>\n",
              "      <td>-18.875</td>\n",
              "      <td>26.0</td>\n",
              "      <td>14.875</td>\n",
              "    </tr>\n",
              "    <tr>\n",
              "      <th>2</th>\n",
              "      <td>-47.375</td>\n",
              "      <td>-21.5</td>\n",
              "      <td>38.375</td>\n",
              "      <td>2.0</td>\n",
              "      <td>-17.0</td>\n",
              "      <td>-6.0</td>\n",
              "      <td>-16.0</td>\n",
              "      <td>-17.875</td>\n",
              "      <td>40.0</td>\n",
              "      <td>-22.125</td>\n",
              "    </tr>\n",
              "    <tr>\n",
              "      <th>3</th>\n",
              "      <td>-26.375</td>\n",
              "      <td>9.5</td>\n",
              "      <td>-5.625</td>\n",
              "      <td>-25.0</td>\n",
              "      <td>27.0</td>\n",
              "      <td>-3.0</td>\n",
              "      <td>31.0</td>\n",
              "      <td>34.125</td>\n",
              "      <td>39.0</td>\n",
              "      <td>40.875</td>\n",
              "    </tr>\n",
              "    <tr>\n",
              "      <th>4</th>\n",
              "      <td>19.625</td>\n",
              "      <td>27.5</td>\n",
              "      <td>21.375</td>\n",
              "      <td>24.0</td>\n",
              "      <td>-24.0</td>\n",
              "      <td>19.0</td>\n",
              "      <td>-2.0</td>\n",
              "      <td>-26.875</td>\n",
              "      <td>-40.0</td>\n",
              "      <td>-6.125</td>\n",
              "    </tr>\n",
              "    <tr>\n",
              "      <th>5</th>\n",
              "      <td>9.625</td>\n",
              "      <td>-35.5</td>\n",
              "      <td>19.375</td>\n",
              "      <td>32.0</td>\n",
              "      <td>11.0</td>\n",
              "      <td>-30.0</td>\n",
              "      <td>26.0</td>\n",
              "      <td>-4.875</td>\n",
              "      <td>10.0</td>\n",
              "      <td>-10.125</td>\n",
              "    </tr>\n",
              "    <tr>\n",
              "      <th>6</th>\n",
              "      <td>35.625</td>\n",
              "      <td>-26.5</td>\n",
              "      <td>-26.625</td>\n",
              "      <td>-7.0</td>\n",
              "      <td>-9.0</td>\n",
              "      <td>59.0</td>\n",
              "      <td>-32.0</td>\n",
              "      <td>40.125</td>\n",
              "      <td>-28.0</td>\n",
              "      <td>-32.125</td>\n",
              "    </tr>\n",
              "    <tr>\n",
              "      <th>7</th>\n",
              "      <td>-34.375</td>\n",
              "      <td>21.5</td>\n",
              "      <td>7.375</td>\n",
              "      <td>22.0</td>\n",
              "      <td>-7.0</td>\n",
              "      <td>-12.0</td>\n",
              "      <td>-31.0</td>\n",
              "      <td>12.125</td>\n",
              "      <td>-25.0</td>\n",
              "      <td>-3.125</td>\n",
              "    </tr>\n",
              "  </tbody>\n",
              "</table>\n",
              "</div>"
            ],
            "text/plain": [
              "        0     1       2     3     4     5     6       7     8       9\n",
              "0  40.625  11.5 -42.625 -32.0  13.0  -5.0   1.0 -17.875 -22.0  17.875\n",
              "1   2.625  13.5 -11.625 -16.0   6.0 -22.0  23.0 -18.875  26.0  14.875\n",
              "2 -47.375 -21.5  38.375   2.0 -17.0  -6.0 -16.0 -17.875  40.0 -22.125\n",
              "3 -26.375   9.5  -5.625 -25.0  27.0  -3.0  31.0  34.125  39.0  40.875\n",
              "4  19.625  27.5  21.375  24.0 -24.0  19.0  -2.0 -26.875 -40.0  -6.125\n",
              "5   9.625 -35.5  19.375  32.0  11.0 -30.0  26.0  -4.875  10.0 -10.125\n",
              "6  35.625 -26.5 -26.625  -7.0  -9.0  59.0 -32.0  40.125 -28.0 -32.125\n",
              "7 -34.375  21.5   7.375  22.0  -7.0 -12.0 -31.0  12.125 -25.0  -3.125"
            ]
          },
          "execution_count": 782,
          "metadata": {},
          "output_type": "execute_result"
        }
      ]
    },
    {
      "cell_type": "code",
      "metadata": {
        "collapsed": true,
        "jupyter": {
          "outputs_hidden": true
        },
        "tags": [],
        "id": "reRZg6L0OjMD",
        "outputId": "c6e3dc9a-2ca0-4156-8a5f-ccd42087ac26"
      },
      "source": [
        "df_2 = df_1.divide(vals_dev,axis=1)\n",
        "df_2"
      ],
      "execution_count": null,
      "outputs": [
        {
          "data": {
            "text/html": [
              "<div>\n",
              "<style scoped>\n",
              "    .dataframe tbody tr th:only-of-type {\n",
              "        vertical-align: middle;\n",
              "    }\n",
              "\n",
              "    .dataframe tbody tr th {\n",
              "        vertical-align: top;\n",
              "    }\n",
              "\n",
              "    .dataframe thead th {\n",
              "        text-align: right;\n",
              "    }\n",
              "</style>\n",
              "<table border=\"1\" class=\"dataframe\">\n",
              "  <thead>\n",
              "    <tr style=\"text-align: right;\">\n",
              "      <th></th>\n",
              "      <th>0</th>\n",
              "      <th>1</th>\n",
              "      <th>2</th>\n",
              "      <th>3</th>\n",
              "      <th>4</th>\n",
              "      <th>5</th>\n",
              "      <th>6</th>\n",
              "      <th>7</th>\n",
              "      <th>8</th>\n",
              "      <th>9</th>\n",
              "    </tr>\n",
              "  </thead>\n",
              "  <tbody>\n",
              "    <tr>\n",
              "      <th>0</th>\n",
              "      <td>0.665777</td>\n",
              "      <td>-0.573848</td>\n",
              "      <td>0.304156</td>\n",
              "      <td>-0.996144</td>\n",
              "      <td>-0.885103</td>\n",
              "      <td>-0.796342</td>\n",
              "      <td>0.882014</td>\n",
              "      <td>-1.479349</td>\n",
              "      <td>0.581486</td>\n",
              "      <td>-1.854631</td>\n",
              "    </tr>\n",
              "    <tr>\n",
              "      <th>1</th>\n",
              "      <td>-0.384463</td>\n",
              "      <td>-0.967343</td>\n",
              "      <td>-0.811083</td>\n",
              "      <td>1.280756</td>\n",
              "      <td>-0.636029</td>\n",
              "      <td>1.093283</td>\n",
              "      <td>1.000108</td>\n",
              "      <td>1.400450</td>\n",
              "      <td>0.672108</td>\n",
              "      <td>-0.439654</td>\n",
              "    </tr>\n",
              "    <tr>\n",
              "      <th>2</th>\n",
              "      <td>-0.947092</td>\n",
              "      <td>0.705013</td>\n",
              "      <td>-0.659005</td>\n",
              "      <td>0.108822</td>\n",
              "      <td>-0.066716</td>\n",
              "      <td>0.499401</td>\n",
              "      <td>-1.538912</td>\n",
              "      <td>1.242653</td>\n",
              "      <td>1.095007</td>\n",
              "      <td>1.379603</td>\n",
              "    </tr>\n",
              "    <tr>\n",
              "      <th>3</th>\n",
              "      <td>-1.172143</td>\n",
              "      <td>-1.098508</td>\n",
              "      <td>1.216625</td>\n",
              "      <td>0.979402</td>\n",
              "      <td>-0.671611</td>\n",
              "      <td>0.121476</td>\n",
              "      <td>-0.564637</td>\n",
              "      <td>-0.848160</td>\n",
              "      <td>-0.354933</td>\n",
              "      <td>-0.722649</td>\n",
              "    </tr>\n",
              "    <tr>\n",
              "      <th>4</th>\n",
              "      <td>-0.684532</td>\n",
              "      <td>-0.737804</td>\n",
              "      <td>1.470088</td>\n",
              "      <td>-1.264014</td>\n",
              "      <td>-1.098595</td>\n",
              "      <td>1.363230</td>\n",
              "      <td>1.000108</td>\n",
              "      <td>0.256420</td>\n",
              "      <td>-1.170525</td>\n",
              "      <td>0.368905</td>\n",
              "    </tr>\n",
              "    <tr>\n",
              "      <th>5</th>\n",
              "      <td>0.140657</td>\n",
              "      <td>1.459212</td>\n",
              "      <td>-0.912469</td>\n",
              "      <td>0.510628</td>\n",
              "      <td>0.609342</td>\n",
              "      <td>-0.796342</td>\n",
              "      <td>0.675350</td>\n",
              "      <td>-0.650913</td>\n",
              "      <td>-1.684045</td>\n",
              "      <td>0.005053</td>\n",
              "    </tr>\n",
              "    <tr>\n",
              "      <th>6</th>\n",
              "      <td>0.553252</td>\n",
              "      <td>1.164091</td>\n",
              "      <td>0.456234</td>\n",
              "      <td>-1.130079</td>\n",
              "      <td>1.392147</td>\n",
              "      <td>0.067487</td>\n",
              "      <td>-0.830348</td>\n",
              "      <td>-0.177522</td>\n",
              "      <td>0.823143</td>\n",
              "      <td>0.571044</td>\n",
              "    </tr>\n",
              "    <tr>\n",
              "      <th>7</th>\n",
              "      <td>1.828543</td>\n",
              "      <td>0.049187</td>\n",
              "      <td>-1.064547</td>\n",
              "      <td>0.510628</td>\n",
              "      <td>1.356565</td>\n",
              "      <td>-1.552192</td>\n",
              "      <td>-0.623684</td>\n",
              "      <td>0.256420</td>\n",
              "      <td>0.037759</td>\n",
              "      <td>0.692328</td>\n",
              "    </tr>\n",
              "  </tbody>\n",
              "</table>\n",
              "</div>"
            ],
            "text/plain": [
              "          0         1         2         3         4         5         6  \\\n",
              "0  0.665777 -0.573848  0.304156 -0.996144 -0.885103 -0.796342  0.882014   \n",
              "1 -0.384463 -0.967343 -0.811083  1.280756 -0.636029  1.093283  1.000108   \n",
              "2 -0.947092  0.705013 -0.659005  0.108822 -0.066716  0.499401 -1.538912   \n",
              "3 -1.172143 -1.098508  1.216625  0.979402 -0.671611  0.121476 -0.564637   \n",
              "4 -0.684532 -0.737804  1.470088 -1.264014 -1.098595  1.363230  1.000108   \n",
              "5  0.140657  1.459212 -0.912469  0.510628  0.609342 -0.796342  0.675350   \n",
              "6  0.553252  1.164091  0.456234 -1.130079  1.392147  0.067487 -0.830348   \n",
              "7  1.828543  0.049187 -1.064547  0.510628  1.356565 -1.552192 -0.623684   \n",
              "\n",
              "          7         8         9  \n",
              "0 -1.479349  0.581486 -1.854631  \n",
              "1  1.400450  0.672108 -0.439654  \n",
              "2  1.242653  1.095007  1.379603  \n",
              "3 -0.848160 -0.354933 -0.722649  \n",
              "4  0.256420 -1.170525  0.368905  \n",
              "5 -0.650913 -1.684045  0.005053  \n",
              "6 -0.177522  0.823143  0.571044  \n",
              "7  0.256420  0.037759  0.692328  "
            ]
          },
          "execution_count": 527,
          "metadata": {},
          "output_type": "execute_result"
        }
      ]
    },
    {
      "cell_type": "markdown",
      "metadata": {
        "id": "TT_obCzkOjMD"
      },
      "source": [
        "## 49. How to compute the correlation of each row with the suceeding row?\n",
        "Difficulty Level: L2\n",
        "\n",
        "Compute the correlation of each row of df with its succeeding row."
      ]
    },
    {
      "cell_type": "code",
      "metadata": {
        "collapsed": true,
        "jupyter": {
          "outputs_hidden": true
        },
        "tags": [],
        "id": "0butMennOjME",
        "outputId": "6d57c969-f88c-4211-b85c-040626e47244",
        "colab": {
          "base_uri": "https://localhost:8080/",
          "height": 297
        }
      },
      "source": [
        "df = pd.DataFrame(np.random.randint(1,100, 80).reshape(8, -1))\n",
        "df"
      ],
      "execution_count": 8,
      "outputs": [
        {
          "output_type": "execute_result",
          "data": {
            "text/html": [
              "<div>\n",
              "<style scoped>\n",
              "    .dataframe tbody tr th:only-of-type {\n",
              "        vertical-align: middle;\n",
              "    }\n",
              "\n",
              "    .dataframe tbody tr th {\n",
              "        vertical-align: top;\n",
              "    }\n",
              "\n",
              "    .dataframe thead th {\n",
              "        text-align: right;\n",
              "    }\n",
              "</style>\n",
              "<table border=\"1\" class=\"dataframe\">\n",
              "  <thead>\n",
              "    <tr style=\"text-align: right;\">\n",
              "      <th></th>\n",
              "      <th>0</th>\n",
              "      <th>1</th>\n",
              "      <th>2</th>\n",
              "      <th>3</th>\n",
              "      <th>4</th>\n",
              "      <th>5</th>\n",
              "      <th>6</th>\n",
              "      <th>7</th>\n",
              "      <th>8</th>\n",
              "      <th>9</th>\n",
              "    </tr>\n",
              "  </thead>\n",
              "  <tbody>\n",
              "    <tr>\n",
              "      <th>0</th>\n",
              "      <td>62</td>\n",
              "      <td>14</td>\n",
              "      <td>29</td>\n",
              "      <td>67</td>\n",
              "      <td>16</td>\n",
              "      <td>75</td>\n",
              "      <td>4</td>\n",
              "      <td>49</td>\n",
              "      <td>27</td>\n",
              "      <td>44</td>\n",
              "    </tr>\n",
              "    <tr>\n",
              "      <th>1</th>\n",
              "      <td>46</td>\n",
              "      <td>21</td>\n",
              "      <td>48</td>\n",
              "      <td>8</td>\n",
              "      <td>68</td>\n",
              "      <td>65</td>\n",
              "      <td>30</td>\n",
              "      <td>86</td>\n",
              "      <td>39</td>\n",
              "      <td>22</td>\n",
              "    </tr>\n",
              "    <tr>\n",
              "      <th>2</th>\n",
              "      <td>40</td>\n",
              "      <td>84</td>\n",
              "      <td>29</td>\n",
              "      <td>88</td>\n",
              "      <td>17</td>\n",
              "      <td>9</td>\n",
              "      <td>94</td>\n",
              "      <td>2</td>\n",
              "      <td>26</td>\n",
              "      <td>93</td>\n",
              "    </tr>\n",
              "    <tr>\n",
              "      <th>3</th>\n",
              "      <td>39</td>\n",
              "      <td>5</td>\n",
              "      <td>69</td>\n",
              "      <td>80</td>\n",
              "      <td>96</td>\n",
              "      <td>75</td>\n",
              "      <td>6</td>\n",
              "      <td>96</td>\n",
              "      <td>39</td>\n",
              "      <td>17</td>\n",
              "    </tr>\n",
              "    <tr>\n",
              "      <th>4</th>\n",
              "      <td>64</td>\n",
              "      <td>44</td>\n",
              "      <td>27</td>\n",
              "      <td>22</td>\n",
              "      <td>57</td>\n",
              "      <td>76</td>\n",
              "      <td>9</td>\n",
              "      <td>50</td>\n",
              "      <td>57</td>\n",
              "      <td>50</td>\n",
              "    </tr>\n",
              "    <tr>\n",
              "      <th>5</th>\n",
              "      <td>4</td>\n",
              "      <td>13</td>\n",
              "      <td>88</td>\n",
              "      <td>21</td>\n",
              "      <td>78</td>\n",
              "      <td>32</td>\n",
              "      <td>48</td>\n",
              "      <td>80</td>\n",
              "      <td>48</td>\n",
              "      <td>98</td>\n",
              "    </tr>\n",
              "    <tr>\n",
              "      <th>6</th>\n",
              "      <td>26</td>\n",
              "      <td>99</td>\n",
              "      <td>48</td>\n",
              "      <td>98</td>\n",
              "      <td>72</td>\n",
              "      <td>3</td>\n",
              "      <td>21</td>\n",
              "      <td>79</td>\n",
              "      <td>56</td>\n",
              "      <td>34</td>\n",
              "    </tr>\n",
              "    <tr>\n",
              "      <th>7</th>\n",
              "      <td>50</td>\n",
              "      <td>99</td>\n",
              "      <td>13</td>\n",
              "      <td>33</td>\n",
              "      <td>83</td>\n",
              "      <td>57</td>\n",
              "      <td>33</td>\n",
              "      <td>14</td>\n",
              "      <td>18</td>\n",
              "      <td>8</td>\n",
              "    </tr>\n",
              "  </tbody>\n",
              "</table>\n",
              "</div>"
            ],
            "text/plain": [
              "    0   1   2   3   4   5   6   7   8   9\n",
              "0  62  14  29  67  16  75   4  49  27  44\n",
              "1  46  21  48   8  68  65  30  86  39  22\n",
              "2  40  84  29  88  17   9  94   2  26  93\n",
              "3  39   5  69  80  96  75   6  96  39  17\n",
              "4  64  44  27  22  57  76   9  50  57  50\n",
              "5   4  13  88  21  78  32  48  80  48  98\n",
              "6  26  99  48  98  72   3  21  79  56  34\n",
              "7  50  99  13  33  83  57  33  14  18   8"
            ]
          },
          "metadata": {},
          "execution_count": 8
        }
      ]
    },
    {
      "cell_type": "code",
      "metadata": {
        "collapsed": true,
        "jupyter": {
          "outputs_hidden": true
        },
        "tags": [],
        "id": "hrEpUOl4OjME",
        "outputId": "bf399948-3fb8-4f99-a347-59697d2ed5ba",
        "colab": {
          "base_uri": "https://localhost:8080/",
          "height": 297
        }
      },
      "source": [
        "df.T.corr()"
      ],
      "execution_count": 9,
      "outputs": [
        {
          "output_type": "execute_result",
          "data": {
            "text/html": [
              "<div>\n",
              "<style scoped>\n",
              "    .dataframe tbody tr th:only-of-type {\n",
              "        vertical-align: middle;\n",
              "    }\n",
              "\n",
              "    .dataframe tbody tr th {\n",
              "        vertical-align: top;\n",
              "    }\n",
              "\n",
              "    .dataframe thead th {\n",
              "        text-align: right;\n",
              "    }\n",
              "</style>\n",
              "<table border=\"1\" class=\"dataframe\">\n",
              "  <thead>\n",
              "    <tr style=\"text-align: right;\">\n",
              "      <th></th>\n",
              "      <th>0</th>\n",
              "      <th>1</th>\n",
              "      <th>2</th>\n",
              "      <th>3</th>\n",
              "      <th>4</th>\n",
              "      <th>5</th>\n",
              "      <th>6</th>\n",
              "      <th>7</th>\n",
              "    </tr>\n",
              "  </thead>\n",
              "  <tbody>\n",
              "    <tr>\n",
              "      <th>0</th>\n",
              "      <td>1.000000</td>\n",
              "      <td>0.118871</td>\n",
              "      <td>-0.249542</td>\n",
              "      <td>0.427849</td>\n",
              "      <td>0.449765</td>\n",
              "      <td>-0.269470</td>\n",
              "      <td>-0.199524</td>\n",
              "      <td>-0.213092</td>\n",
              "    </tr>\n",
              "    <tr>\n",
              "      <th>1</th>\n",
              "      <td>0.118871</td>\n",
              "      <td>1.000000</td>\n",
              "      <td>-0.902608</td>\n",
              "      <td>0.640493</td>\n",
              "      <td>0.511751</td>\n",
              "      <td>0.340924</td>\n",
              "      <td>-0.193394</td>\n",
              "      <td>0.003169</td>\n",
              "    </tr>\n",
              "    <tr>\n",
              "      <th>2</th>\n",
              "      <td>-0.249542</td>\n",
              "      <td>-0.902608</td>\n",
              "      <td>1.000000</td>\n",
              "      <td>-0.710455</td>\n",
              "      <td>-0.618422</td>\n",
              "      <td>-0.202943</td>\n",
              "      <td>0.138542</td>\n",
              "      <td>0.018871</td>\n",
              "    </tr>\n",
              "    <tr>\n",
              "      <th>3</th>\n",
              "      <td>0.427849</td>\n",
              "      <td>0.640493</td>\n",
              "      <td>-0.710455</td>\n",
              "      <td>1.000000</td>\n",
              "      <td>0.248592</td>\n",
              "      <td>0.256503</td>\n",
              "      <td>0.216850</td>\n",
              "      <td>-0.069569</td>\n",
              "    </tr>\n",
              "    <tr>\n",
              "      <th>4</th>\n",
              "      <td>0.449765</td>\n",
              "      <td>0.511751</td>\n",
              "      <td>-0.618422</td>\n",
              "      <td>0.248592</td>\n",
              "      <td>1.000000</td>\n",
              "      <td>-0.103968</td>\n",
              "      <td>-0.262749</td>\n",
              "      <td>0.262771</td>\n",
              "    </tr>\n",
              "    <tr>\n",
              "      <th>5</th>\n",
              "      <td>-0.269470</td>\n",
              "      <td>0.340924</td>\n",
              "      <td>-0.202943</td>\n",
              "      <td>0.256503</td>\n",
              "      <td>-0.103968</td>\n",
              "      <td>1.000000</td>\n",
              "      <td>-0.060601</td>\n",
              "      <td>-0.515500</td>\n",
              "    </tr>\n",
              "    <tr>\n",
              "      <th>6</th>\n",
              "      <td>-0.199524</td>\n",
              "      <td>-0.193394</td>\n",
              "      <td>0.138542</td>\n",
              "      <td>0.216850</td>\n",
              "      <td>-0.262749</td>\n",
              "      <td>-0.060601</td>\n",
              "      <td>1.000000</td>\n",
              "      <td>0.250218</td>\n",
              "    </tr>\n",
              "    <tr>\n",
              "      <th>7</th>\n",
              "      <td>-0.213092</td>\n",
              "      <td>0.003169</td>\n",
              "      <td>0.018871</td>\n",
              "      <td>-0.069569</td>\n",
              "      <td>0.262771</td>\n",
              "      <td>-0.515500</td>\n",
              "      <td>0.250218</td>\n",
              "      <td>1.000000</td>\n",
              "    </tr>\n",
              "  </tbody>\n",
              "</table>\n",
              "</div>"
            ],
            "text/plain": [
              "          0         1         2  ...         5         6         7\n",
              "0  1.000000  0.118871 -0.249542  ... -0.269470 -0.199524 -0.213092\n",
              "1  0.118871  1.000000 -0.902608  ...  0.340924 -0.193394  0.003169\n",
              "2 -0.249542 -0.902608  1.000000  ... -0.202943  0.138542  0.018871\n",
              "3  0.427849  0.640493 -0.710455  ...  0.256503  0.216850 -0.069569\n",
              "4  0.449765  0.511751 -0.618422  ... -0.103968 -0.262749  0.262771\n",
              "5 -0.269470  0.340924 -0.202943  ...  1.000000 -0.060601 -0.515500\n",
              "6 -0.199524 -0.193394  0.138542  ... -0.060601  1.000000  0.250218\n",
              "7 -0.213092  0.003169  0.018871  ... -0.515500  0.250218  1.000000\n",
              "\n",
              "[8 rows x 8 columns]"
            ]
          },
          "metadata": {},
          "execution_count": 9
        }
      ]
    },
    {
      "cell_type": "markdown",
      "metadata": {
        "id": "2oN6Ntd1OjME"
      },
      "source": [
        "## 50. How to replace both the diagonals of dataframe with 0?\n",
        "Difficulty Level: L2\n",
        "\n",
        "Replace both values in both diagonals of df with 0."
      ]
    },
    {
      "cell_type": "code",
      "metadata": {
        "tags": [],
        "id": "yFHMdkUOOjMF",
        "outputId": "bf0f9a11-dac4-4292-e2b5-6958a6142214"
      },
      "source": [
        "df = pd.DataFrame(np.random.randint(1,100, 100).reshape(10, -1))\n",
        "df"
      ],
      "execution_count": null,
      "outputs": [
        {
          "data": {
            "text/html": [
              "<div>\n",
              "<style scoped>\n",
              "    .dataframe tbody tr th:only-of-type {\n",
              "        vertical-align: middle;\n",
              "    }\n",
              "\n",
              "    .dataframe tbody tr th {\n",
              "        vertical-align: top;\n",
              "    }\n",
              "\n",
              "    .dataframe thead th {\n",
              "        text-align: right;\n",
              "    }\n",
              "</style>\n",
              "<table border=\"1\" class=\"dataframe\">\n",
              "  <thead>\n",
              "    <tr style=\"text-align: right;\">\n",
              "      <th></th>\n",
              "      <th>0</th>\n",
              "      <th>1</th>\n",
              "      <th>2</th>\n",
              "      <th>3</th>\n",
              "      <th>4</th>\n",
              "      <th>5</th>\n",
              "      <th>6</th>\n",
              "      <th>7</th>\n",
              "      <th>8</th>\n",
              "      <th>9</th>\n",
              "    </tr>\n",
              "  </thead>\n",
              "  <tbody>\n",
              "    <tr>\n",
              "      <th>0</th>\n",
              "      <td>22</td>\n",
              "      <td>90</td>\n",
              "      <td>45</td>\n",
              "      <td>79</td>\n",
              "      <td>63</td>\n",
              "      <td>24</td>\n",
              "      <td>43</td>\n",
              "      <td>46</td>\n",
              "      <td>76</td>\n",
              "      <td>45</td>\n",
              "    </tr>\n",
              "    <tr>\n",
              "      <th>1</th>\n",
              "      <td>92</td>\n",
              "      <td>70</td>\n",
              "      <td>40</td>\n",
              "      <td>10</td>\n",
              "      <td>60</td>\n",
              "      <td>32</td>\n",
              "      <td>90</td>\n",
              "      <td>52</td>\n",
              "      <td>46</td>\n",
              "      <td>22</td>\n",
              "    </tr>\n",
              "    <tr>\n",
              "      <th>2</th>\n",
              "      <td>12</td>\n",
              "      <td>25</td>\n",
              "      <td>50</td>\n",
              "      <td>38</td>\n",
              "      <td>46</td>\n",
              "      <td>98</td>\n",
              "      <td>85</td>\n",
              "      <td>49</td>\n",
              "      <td>83</td>\n",
              "      <td>18</td>\n",
              "    </tr>\n",
              "    <tr>\n",
              "      <th>3</th>\n",
              "      <td>50</td>\n",
              "      <td>88</td>\n",
              "      <td>51</td>\n",
              "      <td>91</td>\n",
              "      <td>9</td>\n",
              "      <td>46</td>\n",
              "      <td>73</td>\n",
              "      <td>92</td>\n",
              "      <td>64</td>\n",
              "      <td>68</td>\n",
              "    </tr>\n",
              "    <tr>\n",
              "      <th>4</th>\n",
              "      <td>96</td>\n",
              "      <td>97</td>\n",
              "      <td>23</td>\n",
              "      <td>36</td>\n",
              "      <td>81</td>\n",
              "      <td>53</td>\n",
              "      <td>88</td>\n",
              "      <td>22</td>\n",
              "      <td>84</td>\n",
              "      <td>9</td>\n",
              "    </tr>\n",
              "    <tr>\n",
              "      <th>5</th>\n",
              "      <td>40</td>\n",
              "      <td>9</td>\n",
              "      <td>57</td>\n",
              "      <td>38</td>\n",
              "      <td>61</td>\n",
              "      <td>51</td>\n",
              "      <td>28</td>\n",
              "      <td>83</td>\n",
              "      <td>53</td>\n",
              "      <td>58</td>\n",
              "    </tr>\n",
              "    <tr>\n",
              "      <th>6</th>\n",
              "      <td>79</td>\n",
              "      <td>94</td>\n",
              "      <td>39</td>\n",
              "      <td>23</td>\n",
              "      <td>97</td>\n",
              "      <td>69</td>\n",
              "      <td>49</td>\n",
              "      <td>4</td>\n",
              "      <td>51</td>\n",
              "      <td>64</td>\n",
              "    </tr>\n",
              "    <tr>\n",
              "      <th>7</th>\n",
              "      <td>13</td>\n",
              "      <td>20</td>\n",
              "      <td>97</td>\n",
              "      <td>38</td>\n",
              "      <td>81</td>\n",
              "      <td>34</td>\n",
              "      <td>96</td>\n",
              "      <td>87</td>\n",
              "      <td>30</td>\n",
              "      <td>16</td>\n",
              "    </tr>\n",
              "    <tr>\n",
              "      <th>8</th>\n",
              "      <td>61</td>\n",
              "      <td>52</td>\n",
              "      <td>57</td>\n",
              "      <td>9</td>\n",
              "      <td>10</td>\n",
              "      <td>72</td>\n",
              "      <td>34</td>\n",
              "      <td>11</td>\n",
              "      <td>18</td>\n",
              "      <td>95</td>\n",
              "    </tr>\n",
              "    <tr>\n",
              "      <th>9</th>\n",
              "      <td>18</td>\n",
              "      <td>28</td>\n",
              "      <td>25</td>\n",
              "      <td>74</td>\n",
              "      <td>83</td>\n",
              "      <td>57</td>\n",
              "      <td>85</td>\n",
              "      <td>87</td>\n",
              "      <td>36</td>\n",
              "      <td>98</td>\n",
              "    </tr>\n",
              "  </tbody>\n",
              "</table>\n",
              "</div>"
            ],
            "text/plain": [
              "    0   1   2   3   4   5   6   7   8   9\n",
              "0  22  90  45  79  63  24  43  46  76  45\n",
              "1  92  70  40  10  60  32  90  52  46  22\n",
              "2  12  25  50  38  46  98  85  49  83  18\n",
              "3  50  88  51  91   9  46  73  92  64  68\n",
              "4  96  97  23  36  81  53  88  22  84   9\n",
              "5  40   9  57  38  61  51  28  83  53  58\n",
              "6  79  94  39  23  97  69  49   4  51  64\n",
              "7  13  20  97  38  81  34  96  87  30  16\n",
              "8  61  52  57   9  10  72  34  11  18  95\n",
              "9  18  28  25  74  83  57  85  87  36  98"
            ]
          },
          "execution_count": 784,
          "metadata": {},
          "output_type": "execute_result"
        }
      ]
    },
    {
      "cell_type": "code",
      "metadata": {
        "tags": [],
        "id": "dJA3tv-9OjMF",
        "outputId": "6b558fa0-548e-4f8b-8502-dd55ee88e655"
      },
      "source": [
        "arr = np.array(df)\n",
        "arr[np.diag_indices(10)]=0\n",
        "arr"
      ],
      "execution_count": null,
      "outputs": [
        {
          "data": {
            "text/plain": [
              "array([[ 0, 90, 45, 79, 63, 24, 43, 46, 76, 45],\n",
              "       [92,  0, 40, 10, 60, 32, 90, 52, 46, 22],\n",
              "       [12, 25,  0, 38, 46, 98, 85, 49, 83, 18],\n",
              "       [50, 88, 51,  0,  9, 46, 73, 92, 64, 68],\n",
              "       [96, 97, 23, 36,  0, 53, 88, 22, 84,  9],\n",
              "       [40,  9, 57, 38, 61,  0, 28, 83, 53, 58],\n",
              "       [79, 94, 39, 23, 97, 69,  0,  4, 51, 64],\n",
              "       [13, 20, 97, 38, 81, 34, 96,  0, 30, 16],\n",
              "       [61, 52, 57,  9, 10, 72, 34, 11,  0, 95],\n",
              "       [18, 28, 25, 74, 83, 57, 85, 87, 36,  0]])"
            ]
          },
          "execution_count": 785,
          "metadata": {},
          "output_type": "execute_result"
        }
      ]
    },
    {
      "cell_type": "code",
      "metadata": {
        "collapsed": true,
        "jupyter": {
          "outputs_hidden": true
        },
        "tags": [],
        "id": "HrXqKs0tOjMF",
        "outputId": "926fcd1a-d9f7-4d34-f7f8-a3852a4be3e8"
      },
      "source": [
        "np.flip(arr,axis=1)[np.diag_indices(10)]=0\n",
        "arr"
      ],
      "execution_count": null,
      "outputs": [
        {
          "data": {
            "text/plain": [
              "array([[ 0, 16, 46, 20, 95, 87, 55, 28, 12,  0],\n",
              "       [25,  0, 97,  9, 25, 60, 62, 47,  0, 21],\n",
              "       [60, 86,  0, 78, 29, 24, 96,  0, 42, 41],\n",
              "       [15,  5,  4,  0, 81, 69,  0, 55, 25, 11],\n",
              "       [ 9, 52, 99, 31,  0,  0, 13, 22, 87, 45],\n",
              "       [ 2, 22, 33, 91,  0,  0, 30, 40, 65, 46],\n",
              "       [79, 69, 55,  0,  3, 26,  0, 99, 14, 82],\n",
              "       [60, 24,  0, 44, 67, 43, 76,  0, 34, 71],\n",
              "       [20,  0, 96, 34, 62,  4, 47, 77,  0,  6],\n",
              "       [ 0,  6, 83, 56, 11, 78, 67, 73, 90,  0]])"
            ]
          },
          "execution_count": 556,
          "metadata": {},
          "output_type": "execute_result"
        }
      ]
    },
    {
      "cell_type": "markdown",
      "metadata": {
        "id": "zEL5EyqFOjMG"
      },
      "source": [
        "## 51. How to get the particular group of a groupby dataframe by key?\n",
        "Difficulty Level: L2\n",
        "\n",
        "This is a question related to understanding of grouped dataframe. From df_grouped, get the group belonging to 'apple' as a dataframe."
      ]
    },
    {
      "cell_type": "code",
      "metadata": {
        "tags": [],
        "id": "jEIt5gpCOjMG",
        "outputId": "9720c29f-5cf6-403d-bb67-58ae70500acd"
      },
      "source": [
        "df = pd.DataFrame({'col1': ['apple', 'banana', 'orange'] * 3,\n",
        "                   'col2': np.random.rand(9),\n",
        "                   'col3': np.random.randint(0, 15, 9)})\n",
        "df"
      ],
      "execution_count": null,
      "outputs": [
        {
          "data": {
            "text/html": [
              "<div>\n",
              "<style scoped>\n",
              "    .dataframe tbody tr th:only-of-type {\n",
              "        vertical-align: middle;\n",
              "    }\n",
              "\n",
              "    .dataframe tbody tr th {\n",
              "        vertical-align: top;\n",
              "    }\n",
              "\n",
              "    .dataframe thead th {\n",
              "        text-align: right;\n",
              "    }\n",
              "</style>\n",
              "<table border=\"1\" class=\"dataframe\">\n",
              "  <thead>\n",
              "    <tr style=\"text-align: right;\">\n",
              "      <th></th>\n",
              "      <th>col1</th>\n",
              "      <th>col2</th>\n",
              "      <th>col3</th>\n",
              "    </tr>\n",
              "  </thead>\n",
              "  <tbody>\n",
              "    <tr>\n",
              "      <th>0</th>\n",
              "      <td>apple</td>\n",
              "      <td>0.313024</td>\n",
              "      <td>11</td>\n",
              "    </tr>\n",
              "    <tr>\n",
              "      <th>1</th>\n",
              "      <td>banana</td>\n",
              "      <td>0.680368</td>\n",
              "      <td>14</td>\n",
              "    </tr>\n",
              "    <tr>\n",
              "      <th>2</th>\n",
              "      <td>orange</td>\n",
              "      <td>0.382467</td>\n",
              "      <td>7</td>\n",
              "    </tr>\n",
              "    <tr>\n",
              "      <th>3</th>\n",
              "      <td>apple</td>\n",
              "      <td>0.714061</td>\n",
              "      <td>2</td>\n",
              "    </tr>\n",
              "    <tr>\n",
              "      <th>4</th>\n",
              "      <td>banana</td>\n",
              "      <td>0.322428</td>\n",
              "      <td>2</td>\n",
              "    </tr>\n",
              "    <tr>\n",
              "      <th>5</th>\n",
              "      <td>orange</td>\n",
              "      <td>0.076888</td>\n",
              "      <td>5</td>\n",
              "    </tr>\n",
              "    <tr>\n",
              "      <th>6</th>\n",
              "      <td>apple</td>\n",
              "      <td>0.577388</td>\n",
              "      <td>1</td>\n",
              "    </tr>\n",
              "    <tr>\n",
              "      <th>7</th>\n",
              "      <td>banana</td>\n",
              "      <td>0.285348</td>\n",
              "      <td>11</td>\n",
              "    </tr>\n",
              "    <tr>\n",
              "      <th>8</th>\n",
              "      <td>orange</td>\n",
              "      <td>0.035530</td>\n",
              "      <td>7</td>\n",
              "    </tr>\n",
              "  </tbody>\n",
              "</table>\n",
              "</div>"
            ],
            "text/plain": [
              "     col1      col2  col3\n",
              "0   apple  0.313024    11\n",
              "1  banana  0.680368    14\n",
              "2  orange  0.382467     7\n",
              "3   apple  0.714061     2\n",
              "4  banana  0.322428     2\n",
              "5  orange  0.076888     5\n",
              "6   apple  0.577388     1\n",
              "7  banana  0.285348    11\n",
              "8  orange  0.035530     7"
            ]
          },
          "execution_count": 786,
          "metadata": {},
          "output_type": "execute_result"
        }
      ]
    },
    {
      "cell_type": "code",
      "metadata": {
        "id": "J3D7SMeeOjMG",
        "outputId": "46f0d84d-ed3f-413c-d3df-0ea1f4908fbd"
      },
      "source": [
        "df.groupby('col1').groups"
      ],
      "execution_count": null,
      "outputs": [
        {
          "data": {
            "text/plain": [
              "{'apple': [0, 3, 6], 'banana': [1, 4, 7], 'orange': [2, 5, 8]}"
            ]
          },
          "execution_count": 792,
          "metadata": {},
          "output_type": "execute_result"
        }
      ]
    },
    {
      "cell_type": "code",
      "metadata": {
        "tags": [],
        "id": "Xw_VN-NMOjMH",
        "outputId": "fe2fdc66-f4b9-43c4-fd08-20e63a79d034"
      },
      "source": [
        "df.iloc[df.groupby('col1').groups['apple'].values,:]"
      ],
      "execution_count": null,
      "outputs": [
        {
          "data": {
            "text/html": [
              "<div>\n",
              "<style scoped>\n",
              "    .dataframe tbody tr th:only-of-type {\n",
              "        vertical-align: middle;\n",
              "    }\n",
              "\n",
              "    .dataframe tbody tr th {\n",
              "        vertical-align: top;\n",
              "    }\n",
              "\n",
              "    .dataframe thead th {\n",
              "        text-align: right;\n",
              "    }\n",
              "</style>\n",
              "<table border=\"1\" class=\"dataframe\">\n",
              "  <thead>\n",
              "    <tr style=\"text-align: right;\">\n",
              "      <th></th>\n",
              "      <th>col1</th>\n",
              "      <th>col2</th>\n",
              "      <th>col3</th>\n",
              "    </tr>\n",
              "  </thead>\n",
              "  <tbody>\n",
              "    <tr>\n",
              "      <th>0</th>\n",
              "      <td>apple</td>\n",
              "      <td>0.313024</td>\n",
              "      <td>11</td>\n",
              "    </tr>\n",
              "    <tr>\n",
              "      <th>3</th>\n",
              "      <td>apple</td>\n",
              "      <td>0.714061</td>\n",
              "      <td>2</td>\n",
              "    </tr>\n",
              "    <tr>\n",
              "      <th>6</th>\n",
              "      <td>apple</td>\n",
              "      <td>0.577388</td>\n",
              "      <td>1</td>\n",
              "    </tr>\n",
              "  </tbody>\n",
              "</table>\n",
              "</div>"
            ],
            "text/plain": [
              "    col1      col2  col3\n",
              "0  apple  0.313024    11\n",
              "3  apple  0.714061     2\n",
              "6  apple  0.577388     1"
            ]
          },
          "execution_count": 787,
          "metadata": {},
          "output_type": "execute_result"
        }
      ]
    },
    {
      "cell_type": "markdown",
      "metadata": {
        "id": "t6f1PWFfOjMI"
      },
      "source": [
        "## 52. How to get the n’th largest value of a column when grouped by another column?\n",
        "Difficulty Level: L2\n",
        "\n",
        "In df, find the second largest value of 'taste' for 'banana'"
      ]
    },
    {
      "cell_type": "code",
      "metadata": {
        "tags": [],
        "id": "TCLopKiXOjMK",
        "outputId": "70b3184f-a4bb-4408-deb1-1e1262bfa8b4"
      },
      "source": [
        "df = pd.DataFrame({'fruit': ['apple', 'banana', 'orange'] * 3,\n",
        "                   'taste': np.random.rand(9),\n",
        "                   'price': np.random.randint(0, 15, 9)})\n",
        "df"
      ],
      "execution_count": null,
      "outputs": [
        {
          "data": {
            "text/html": [
              "<div>\n",
              "<style scoped>\n",
              "    .dataframe tbody tr th:only-of-type {\n",
              "        vertical-align: middle;\n",
              "    }\n",
              "\n",
              "    .dataframe tbody tr th {\n",
              "        vertical-align: top;\n",
              "    }\n",
              "\n",
              "    .dataframe thead th {\n",
              "        text-align: right;\n",
              "    }\n",
              "</style>\n",
              "<table border=\"1\" class=\"dataframe\">\n",
              "  <thead>\n",
              "    <tr style=\"text-align: right;\">\n",
              "      <th></th>\n",
              "      <th>fruit</th>\n",
              "      <th>taste</th>\n",
              "      <th>price</th>\n",
              "    </tr>\n",
              "  </thead>\n",
              "  <tbody>\n",
              "    <tr>\n",
              "      <th>0</th>\n",
              "      <td>apple</td>\n",
              "      <td>0.783949</td>\n",
              "      <td>8</td>\n",
              "    </tr>\n",
              "    <tr>\n",
              "      <th>1</th>\n",
              "      <td>banana</td>\n",
              "      <td>0.205537</td>\n",
              "      <td>14</td>\n",
              "    </tr>\n",
              "    <tr>\n",
              "      <th>2</th>\n",
              "      <td>orange</td>\n",
              "      <td>0.000508</td>\n",
              "      <td>2</td>\n",
              "    </tr>\n",
              "    <tr>\n",
              "      <th>3</th>\n",
              "      <td>apple</td>\n",
              "      <td>0.681912</td>\n",
              "      <td>13</td>\n",
              "    </tr>\n",
              "    <tr>\n",
              "      <th>4</th>\n",
              "      <td>banana</td>\n",
              "      <td>0.927990</td>\n",
              "      <td>4</td>\n",
              "    </tr>\n",
              "    <tr>\n",
              "      <th>5</th>\n",
              "      <td>orange</td>\n",
              "      <td>0.626632</td>\n",
              "      <td>0</td>\n",
              "    </tr>\n",
              "    <tr>\n",
              "      <th>6</th>\n",
              "      <td>apple</td>\n",
              "      <td>0.152168</td>\n",
              "      <td>2</td>\n",
              "    </tr>\n",
              "    <tr>\n",
              "      <th>7</th>\n",
              "      <td>banana</td>\n",
              "      <td>0.261110</td>\n",
              "      <td>1</td>\n",
              "    </tr>\n",
              "    <tr>\n",
              "      <th>8</th>\n",
              "      <td>orange</td>\n",
              "      <td>0.195421</td>\n",
              "      <td>8</td>\n",
              "    </tr>\n",
              "  </tbody>\n",
              "</table>\n",
              "</div>"
            ],
            "text/plain": [
              "    fruit     taste  price\n",
              "0   apple  0.783949      8\n",
              "1  banana  0.205537     14\n",
              "2  orange  0.000508      2\n",
              "3   apple  0.681912     13\n",
              "4  banana  0.927990      4\n",
              "5  orange  0.626632      0\n",
              "6   apple  0.152168      2\n",
              "7  banana  0.261110      1\n",
              "8  orange  0.195421      8"
            ]
          },
          "execution_count": 793,
          "metadata": {},
          "output_type": "execute_result"
        }
      ]
    },
    {
      "cell_type": "code",
      "metadata": {
        "collapsed": true,
        "jupyter": {
          "outputs_hidden": true
        },
        "tags": [],
        "id": "-6syooFKOjML",
        "outputId": "c7142310-858b-4f84-c84a-ff5fe5a03cf1"
      },
      "source": [
        "df_banana = df.iloc[df.groupby('fruit').groups['banana'].values,:]\n",
        "df_banana"
      ],
      "execution_count": null,
      "outputs": [
        {
          "data": {
            "text/html": [
              "<div>\n",
              "<style scoped>\n",
              "    .dataframe tbody tr th:only-of-type {\n",
              "        vertical-align: middle;\n",
              "    }\n",
              "\n",
              "    .dataframe tbody tr th {\n",
              "        vertical-align: top;\n",
              "    }\n",
              "\n",
              "    .dataframe thead th {\n",
              "        text-align: right;\n",
              "    }\n",
              "</style>\n",
              "<table border=\"1\" class=\"dataframe\">\n",
              "  <thead>\n",
              "    <tr style=\"text-align: right;\">\n",
              "      <th></th>\n",
              "      <th>fruit</th>\n",
              "      <th>taste</th>\n",
              "      <th>price</th>\n",
              "    </tr>\n",
              "  </thead>\n",
              "  <tbody>\n",
              "    <tr>\n",
              "      <th>1</th>\n",
              "      <td>banana</td>\n",
              "      <td>0.546862</td>\n",
              "      <td>1</td>\n",
              "    </tr>\n",
              "    <tr>\n",
              "      <th>4</th>\n",
              "      <td>banana</td>\n",
              "      <td>0.786539</td>\n",
              "      <td>4</td>\n",
              "    </tr>\n",
              "    <tr>\n",
              "      <th>7</th>\n",
              "      <td>banana</td>\n",
              "      <td>0.920929</td>\n",
              "      <td>11</td>\n",
              "    </tr>\n",
              "  </tbody>\n",
              "</table>\n",
              "</div>"
            ],
            "text/plain": [
              "    fruit     taste  price\n",
              "1  banana  0.546862      1\n",
              "4  banana  0.786539      4\n",
              "7  banana  0.920929     11"
            ]
          },
          "execution_count": 572,
          "metadata": {},
          "output_type": "execute_result"
        }
      ]
    },
    {
      "cell_type": "code",
      "metadata": {
        "id": "hJjzzFFrOjML",
        "outputId": "2051dd4e-8a7a-49d8-8aa7-fd69b4b0664d"
      },
      "source": [
        "df_banana['taste'].sort_values()[1]"
      ],
      "execution_count": null,
      "outputs": [
        {
          "data": {
            "text/plain": [
              "0.5468624791849618"
            ]
          },
          "execution_count": 574,
          "metadata": {},
          "output_type": "execute_result"
        }
      ]
    },
    {
      "cell_type": "markdown",
      "metadata": {
        "id": "Z0nMBwP1OjML"
      },
      "source": [
        "## 53. How to compute grouped mean on pandas dataframe and keep the grouped column as another column (not index)?\n",
        "Difficulty Level: L1\n",
        "\n",
        "In df, Compute the mean price of every fruit, while keeping the fruit as another column instead of an index."
      ]
    },
    {
      "cell_type": "code",
      "metadata": {
        "collapsed": true,
        "jupyter": {
          "outputs_hidden": true
        },
        "tags": [],
        "id": "njB6MJ2VOjMM",
        "outputId": "d6fae9b0-0475-4328-bfe6-8a049d4a539c"
      },
      "source": [
        "df = pd.DataFrame({'fruit': ['apple', 'banana', 'orange'] * 3,\n",
        "                   'rating': np.random.rand(9),\n",
        "                   'price': np.random.randint(0, 15, 9)})\n",
        "df"
      ],
      "execution_count": null,
      "outputs": [
        {
          "data": {
            "text/html": [
              "<div>\n",
              "<style scoped>\n",
              "    .dataframe tbody tr th:only-of-type {\n",
              "        vertical-align: middle;\n",
              "    }\n",
              "\n",
              "    .dataframe tbody tr th {\n",
              "        vertical-align: top;\n",
              "    }\n",
              "\n",
              "    .dataframe thead th {\n",
              "        text-align: right;\n",
              "    }\n",
              "</style>\n",
              "<table border=\"1\" class=\"dataframe\">\n",
              "  <thead>\n",
              "    <tr style=\"text-align: right;\">\n",
              "      <th></th>\n",
              "      <th>fruit</th>\n",
              "      <th>rating</th>\n",
              "      <th>price</th>\n",
              "    </tr>\n",
              "  </thead>\n",
              "  <tbody>\n",
              "    <tr>\n",
              "      <th>0</th>\n",
              "      <td>apple</td>\n",
              "      <td>0.754992</td>\n",
              "      <td>2</td>\n",
              "    </tr>\n",
              "    <tr>\n",
              "      <th>1</th>\n",
              "      <td>banana</td>\n",
              "      <td>0.693931</td>\n",
              "      <td>13</td>\n",
              "    </tr>\n",
              "    <tr>\n",
              "      <th>2</th>\n",
              "      <td>orange</td>\n",
              "      <td>0.594358</td>\n",
              "      <td>8</td>\n",
              "    </tr>\n",
              "    <tr>\n",
              "      <th>3</th>\n",
              "      <td>apple</td>\n",
              "      <td>0.914538</td>\n",
              "      <td>14</td>\n",
              "    </tr>\n",
              "    <tr>\n",
              "      <th>4</th>\n",
              "      <td>banana</td>\n",
              "      <td>0.745988</td>\n",
              "      <td>5</td>\n",
              "    </tr>\n",
              "    <tr>\n",
              "      <th>5</th>\n",
              "      <td>orange</td>\n",
              "      <td>0.757525</td>\n",
              "      <td>5</td>\n",
              "    </tr>\n",
              "    <tr>\n",
              "      <th>6</th>\n",
              "      <td>apple</td>\n",
              "      <td>0.128086</td>\n",
              "      <td>11</td>\n",
              "    </tr>\n",
              "    <tr>\n",
              "      <th>7</th>\n",
              "      <td>banana</td>\n",
              "      <td>0.289520</td>\n",
              "      <td>14</td>\n",
              "    </tr>\n",
              "    <tr>\n",
              "      <th>8</th>\n",
              "      <td>orange</td>\n",
              "      <td>0.817181</td>\n",
              "      <td>13</td>\n",
              "    </tr>\n",
              "  </tbody>\n",
              "</table>\n",
              "</div>"
            ],
            "text/plain": [
              "    fruit    rating  price\n",
              "0   apple  0.754992      2\n",
              "1  banana  0.693931     13\n",
              "2  orange  0.594358      8\n",
              "3   apple  0.914538     14\n",
              "4  banana  0.745988      5\n",
              "5  orange  0.757525      5\n",
              "6   apple  0.128086     11\n",
              "7  banana  0.289520     14\n",
              "8  orange  0.817181     13"
            ]
          },
          "execution_count": 1158,
          "metadata": {},
          "output_type": "execute_result"
        }
      ]
    },
    {
      "cell_type": "code",
      "metadata": {
        "collapsed": true,
        "jupyter": {
          "outputs_hidden": true
        },
        "tags": [],
        "id": "xs3-GJkHOjMN",
        "outputId": "c4a7fa8a-e509-4b17-b229-557840b43be7"
      },
      "source": [
        "df.groupby('fruit')['price'].mean()"
      ],
      "execution_count": null,
      "outputs": [
        {
          "data": {
            "text/plain": [
              "fruit\n",
              "apple     7.666667\n",
              "banana    5.333333\n",
              "orange    3.666667\n",
              "Name: price, dtype: float64"
            ]
          },
          "execution_count": 575,
          "metadata": {},
          "output_type": "execute_result"
        }
      ]
    },
    {
      "cell_type": "markdown",
      "metadata": {
        "id": "6w6wUQdUOjMO"
      },
      "source": [
        "## 54. How to join two dataframes by 2 columns so they have only the common rows?\n",
        "Difficulty Level: L2\n",
        "\n",
        "Join dataframes df1 and df2 by ‘fruit-pazham’ and ‘weight-kilo’."
      ]
    },
    {
      "cell_type": "code",
      "metadata": {
        "collapsed": true,
        "jupyter": {
          "outputs_hidden": true
        },
        "tags": [],
        "id": "6XJe1X0ROjMP",
        "outputId": "634e8830-c112-45cc-cdb9-e7c7e97c6e96"
      },
      "source": [
        "df1 = pd.DataFrame({'fruit': ['apple', 'banana', 'orange'] * 3,\n",
        "                    'weight': ['high', 'medium', 'low'] * 3,\n",
        "                    'price': np.random.randint(0, 15, 9)})\n",
        "df1"
      ],
      "execution_count": null,
      "outputs": [
        {
          "data": {
            "text/html": [
              "<div>\n",
              "<style scoped>\n",
              "    .dataframe tbody tr th:only-of-type {\n",
              "        vertical-align: middle;\n",
              "    }\n",
              "\n",
              "    .dataframe tbody tr th {\n",
              "        vertical-align: top;\n",
              "    }\n",
              "\n",
              "    .dataframe thead th {\n",
              "        text-align: right;\n",
              "    }\n",
              "</style>\n",
              "<table border=\"1\" class=\"dataframe\">\n",
              "  <thead>\n",
              "    <tr style=\"text-align: right;\">\n",
              "      <th></th>\n",
              "      <th>fruit</th>\n",
              "      <th>weight</th>\n",
              "      <th>price</th>\n",
              "    </tr>\n",
              "  </thead>\n",
              "  <tbody>\n",
              "    <tr>\n",
              "      <th>0</th>\n",
              "      <td>apple</td>\n",
              "      <td>high</td>\n",
              "      <td>12</td>\n",
              "    </tr>\n",
              "    <tr>\n",
              "      <th>1</th>\n",
              "      <td>banana</td>\n",
              "      <td>medium</td>\n",
              "      <td>13</td>\n",
              "    </tr>\n",
              "    <tr>\n",
              "      <th>2</th>\n",
              "      <td>orange</td>\n",
              "      <td>low</td>\n",
              "      <td>6</td>\n",
              "    </tr>\n",
              "    <tr>\n",
              "      <th>3</th>\n",
              "      <td>apple</td>\n",
              "      <td>high</td>\n",
              "      <td>2</td>\n",
              "    </tr>\n",
              "    <tr>\n",
              "      <th>4</th>\n",
              "      <td>banana</td>\n",
              "      <td>medium</td>\n",
              "      <td>13</td>\n",
              "    </tr>\n",
              "    <tr>\n",
              "      <th>5</th>\n",
              "      <td>orange</td>\n",
              "      <td>low</td>\n",
              "      <td>12</td>\n",
              "    </tr>\n",
              "    <tr>\n",
              "      <th>6</th>\n",
              "      <td>apple</td>\n",
              "      <td>high</td>\n",
              "      <td>10</td>\n",
              "    </tr>\n",
              "    <tr>\n",
              "      <th>7</th>\n",
              "      <td>banana</td>\n",
              "      <td>medium</td>\n",
              "      <td>1</td>\n",
              "    </tr>\n",
              "    <tr>\n",
              "      <th>8</th>\n",
              "      <td>orange</td>\n",
              "      <td>low</td>\n",
              "      <td>6</td>\n",
              "    </tr>\n",
              "  </tbody>\n",
              "</table>\n",
              "</div>"
            ],
            "text/plain": [
              "    fruit  weight  price\n",
              "0   apple    high     12\n",
              "1  banana  medium     13\n",
              "2  orange     low      6\n",
              "3   apple    high      2\n",
              "4  banana  medium     13\n",
              "5  orange     low     12\n",
              "6   apple    high     10\n",
              "7  banana  medium      1\n",
              "8  orange     low      6"
            ]
          },
          "execution_count": 576,
          "metadata": {},
          "output_type": "execute_result"
        }
      ]
    },
    {
      "cell_type": "code",
      "metadata": {
        "collapsed": true,
        "jupyter": {
          "outputs_hidden": true
        },
        "tags": [],
        "id": "sDFZPLduOjMP",
        "outputId": "20795700-c257-4a1b-9c8c-0832a2436638"
      },
      "source": [
        "df2 = pd.DataFrame({'pazham': ['apple', 'orange', 'pine'] * 2,\n",
        "                    'kilo': ['high', 'low'] * 3,\n",
        "                    'price': np.random.randint(0, 15, 6)})\n",
        "df2"
      ],
      "execution_count": null,
      "outputs": [
        {
          "data": {
            "text/html": [
              "<div>\n",
              "<style scoped>\n",
              "    .dataframe tbody tr th:only-of-type {\n",
              "        vertical-align: middle;\n",
              "    }\n",
              "\n",
              "    .dataframe tbody tr th {\n",
              "        vertical-align: top;\n",
              "    }\n",
              "\n",
              "    .dataframe thead th {\n",
              "        text-align: right;\n",
              "    }\n",
              "</style>\n",
              "<table border=\"1\" class=\"dataframe\">\n",
              "  <thead>\n",
              "    <tr style=\"text-align: right;\">\n",
              "      <th></th>\n",
              "      <th>pazham</th>\n",
              "      <th>kilo</th>\n",
              "      <th>price</th>\n",
              "    </tr>\n",
              "  </thead>\n",
              "  <tbody>\n",
              "    <tr>\n",
              "      <th>0</th>\n",
              "      <td>apple</td>\n",
              "      <td>high</td>\n",
              "      <td>8</td>\n",
              "    </tr>\n",
              "    <tr>\n",
              "      <th>1</th>\n",
              "      <td>orange</td>\n",
              "      <td>low</td>\n",
              "      <td>13</td>\n",
              "    </tr>\n",
              "    <tr>\n",
              "      <th>2</th>\n",
              "      <td>pine</td>\n",
              "      <td>high</td>\n",
              "      <td>13</td>\n",
              "    </tr>\n",
              "    <tr>\n",
              "      <th>3</th>\n",
              "      <td>apple</td>\n",
              "      <td>low</td>\n",
              "      <td>13</td>\n",
              "    </tr>\n",
              "    <tr>\n",
              "      <th>4</th>\n",
              "      <td>orange</td>\n",
              "      <td>high</td>\n",
              "      <td>8</td>\n",
              "    </tr>\n",
              "    <tr>\n",
              "      <th>5</th>\n",
              "      <td>pine</td>\n",
              "      <td>low</td>\n",
              "      <td>4</td>\n",
              "    </tr>\n",
              "  </tbody>\n",
              "</table>\n",
              "</div>"
            ],
            "text/plain": [
              "   pazham  kilo  price\n",
              "0   apple  high      8\n",
              "1  orange   low     13\n",
              "2    pine  high     13\n",
              "3   apple   low     13\n",
              "4  orange  high      8\n",
              "5    pine   low      4"
            ]
          },
          "execution_count": 582,
          "metadata": {},
          "output_type": "execute_result"
        }
      ]
    },
    {
      "cell_type": "code",
      "metadata": {
        "collapsed": true,
        "jupyter": {
          "outputs_hidden": true
        },
        "tags": [],
        "id": "SliMaRyMOjMP",
        "outputId": "b0fa2709-6fe5-479b-a7cc-ea8e2193c292"
      },
      "source": [
        "pd.merge(df1,df2, how='inner', left_on=['fruit','weight'],right_on=['pazham','kilo'])"
      ],
      "execution_count": null,
      "outputs": [
        {
          "data": {
            "text/html": [
              "<div>\n",
              "<style scoped>\n",
              "    .dataframe tbody tr th:only-of-type {\n",
              "        vertical-align: middle;\n",
              "    }\n",
              "\n",
              "    .dataframe tbody tr th {\n",
              "        vertical-align: top;\n",
              "    }\n",
              "\n",
              "    .dataframe thead th {\n",
              "        text-align: right;\n",
              "    }\n",
              "</style>\n",
              "<table border=\"1\" class=\"dataframe\">\n",
              "  <thead>\n",
              "    <tr style=\"text-align: right;\">\n",
              "      <th></th>\n",
              "      <th>fruit</th>\n",
              "      <th>weight</th>\n",
              "      <th>price_x</th>\n",
              "      <th>pazham</th>\n",
              "      <th>kilo</th>\n",
              "      <th>price_y</th>\n",
              "    </tr>\n",
              "  </thead>\n",
              "  <tbody>\n",
              "    <tr>\n",
              "      <th>0</th>\n",
              "      <td>apple</td>\n",
              "      <td>high</td>\n",
              "      <td>10</td>\n",
              "      <td>apple</td>\n",
              "      <td>high</td>\n",
              "      <td>8</td>\n",
              "    </tr>\n",
              "    <tr>\n",
              "      <th>1</th>\n",
              "      <td>apple</td>\n",
              "      <td>high</td>\n",
              "      <td>13</td>\n",
              "      <td>apple</td>\n",
              "      <td>high</td>\n",
              "      <td>8</td>\n",
              "    </tr>\n",
              "    <tr>\n",
              "      <th>2</th>\n",
              "      <td>apple</td>\n",
              "      <td>high</td>\n",
              "      <td>7</td>\n",
              "      <td>apple</td>\n",
              "      <td>high</td>\n",
              "      <td>8</td>\n",
              "    </tr>\n",
              "    <tr>\n",
              "      <th>3</th>\n",
              "      <td>orange</td>\n",
              "      <td>low</td>\n",
              "      <td>14</td>\n",
              "      <td>orange</td>\n",
              "      <td>low</td>\n",
              "      <td>13</td>\n",
              "    </tr>\n",
              "    <tr>\n",
              "      <th>4</th>\n",
              "      <td>orange</td>\n",
              "      <td>low</td>\n",
              "      <td>0</td>\n",
              "      <td>orange</td>\n",
              "      <td>low</td>\n",
              "      <td>13</td>\n",
              "    </tr>\n",
              "    <tr>\n",
              "      <th>5</th>\n",
              "      <td>orange</td>\n",
              "      <td>low</td>\n",
              "      <td>5</td>\n",
              "      <td>orange</td>\n",
              "      <td>low</td>\n",
              "      <td>13</td>\n",
              "    </tr>\n",
              "  </tbody>\n",
              "</table>\n",
              "</div>"
            ],
            "text/plain": [
              "    fruit weight  price_x  pazham  kilo  price_y\n",
              "0   apple   high       10   apple  high        8\n",
              "1   apple   high       13   apple  high        8\n",
              "2   apple   high        7   apple  high        8\n",
              "3  orange    low       14  orange   low       13\n",
              "4  orange    low        0  orange   low       13\n",
              "5  orange    low        5  orange   low       13"
            ]
          },
          "execution_count": 585,
          "metadata": {},
          "output_type": "execute_result"
        }
      ]
    },
    {
      "cell_type": "markdown",
      "metadata": {
        "id": "dVWu0USjOjMQ"
      },
      "source": [
        "## 55. How to get the positions where values of two columns match?\n",
        "Difficulty Level: L2"
      ]
    },
    {
      "cell_type": "code",
      "metadata": {
        "tags": [],
        "id": "UDjHzY7KOjMQ",
        "outputId": "d9fdb05a-367c-4808-e8bd-24e41f2909f4"
      },
      "source": [
        "df1 = pd.DataFrame({'fruit': ['apple', 'banana', 'orange'] * 3,\n",
        "                    'kilo': ['high', 'medium', 'low'] * 3,})\n",
        "df1"
      ],
      "execution_count": null,
      "outputs": [
        {
          "data": {
            "text/html": [
              "<div>\n",
              "<style scoped>\n",
              "    .dataframe tbody tr th:only-of-type {\n",
              "        vertical-align: middle;\n",
              "    }\n",
              "\n",
              "    .dataframe tbody tr th {\n",
              "        vertical-align: top;\n",
              "    }\n",
              "\n",
              "    .dataframe thead th {\n",
              "        text-align: right;\n",
              "    }\n",
              "</style>\n",
              "<table border=\"1\" class=\"dataframe\">\n",
              "  <thead>\n",
              "    <tr style=\"text-align: right;\">\n",
              "      <th></th>\n",
              "      <th>fruit</th>\n",
              "      <th>kilo</th>\n",
              "    </tr>\n",
              "  </thead>\n",
              "  <tbody>\n",
              "    <tr>\n",
              "      <th>0</th>\n",
              "      <td>apple</td>\n",
              "      <td>high</td>\n",
              "    </tr>\n",
              "    <tr>\n",
              "      <th>1</th>\n",
              "      <td>banana</td>\n",
              "      <td>medium</td>\n",
              "    </tr>\n",
              "    <tr>\n",
              "      <th>2</th>\n",
              "      <td>orange</td>\n",
              "      <td>low</td>\n",
              "    </tr>\n",
              "    <tr>\n",
              "      <th>3</th>\n",
              "      <td>apple</td>\n",
              "      <td>high</td>\n",
              "    </tr>\n",
              "    <tr>\n",
              "      <th>4</th>\n",
              "      <td>banana</td>\n",
              "      <td>medium</td>\n",
              "    </tr>\n",
              "    <tr>\n",
              "      <th>5</th>\n",
              "      <td>orange</td>\n",
              "      <td>low</td>\n",
              "    </tr>\n",
              "    <tr>\n",
              "      <th>6</th>\n",
              "      <td>apple</td>\n",
              "      <td>high</td>\n",
              "    </tr>\n",
              "    <tr>\n",
              "      <th>7</th>\n",
              "      <td>banana</td>\n",
              "      <td>medium</td>\n",
              "    </tr>\n",
              "    <tr>\n",
              "      <th>8</th>\n",
              "      <td>orange</td>\n",
              "      <td>low</td>\n",
              "    </tr>\n",
              "  </tbody>\n",
              "</table>\n",
              "</div>"
            ],
            "text/plain": [
              "    fruit    kilo\n",
              "0   apple    high\n",
              "1  banana  medium\n",
              "2  orange     low\n",
              "3   apple    high\n",
              "4  banana  medium\n",
              "5  orange     low\n",
              "6   apple    high\n",
              "7  banana  medium\n",
              "8  orange     low"
            ]
          },
          "execution_count": 794,
          "metadata": {},
          "output_type": "execute_result"
        }
      ]
    },
    {
      "cell_type": "code",
      "metadata": {
        "tags": [],
        "id": "6-aNAxtjOjMQ",
        "outputId": "deb079e6-abef-4438-e1dc-cb05af9db828"
      },
      "source": [
        "df2 = pd.DataFrame({'fruit': ['apple', 'orange', 'pine'] * 2,\n",
        "                    'kilo': ['high', 'low'] * 3,})\n",
        "df2"
      ],
      "execution_count": null,
      "outputs": [
        {
          "data": {
            "text/html": [
              "<div>\n",
              "<style scoped>\n",
              "    .dataframe tbody tr th:only-of-type {\n",
              "        vertical-align: middle;\n",
              "    }\n",
              "\n",
              "    .dataframe tbody tr th {\n",
              "        vertical-align: top;\n",
              "    }\n",
              "\n",
              "    .dataframe thead th {\n",
              "        text-align: right;\n",
              "    }\n",
              "</style>\n",
              "<table border=\"1\" class=\"dataframe\">\n",
              "  <thead>\n",
              "    <tr style=\"text-align: right;\">\n",
              "      <th></th>\n",
              "      <th>fruit</th>\n",
              "      <th>kilo</th>\n",
              "    </tr>\n",
              "  </thead>\n",
              "  <tbody>\n",
              "    <tr>\n",
              "      <th>0</th>\n",
              "      <td>apple</td>\n",
              "      <td>high</td>\n",
              "    </tr>\n",
              "    <tr>\n",
              "      <th>1</th>\n",
              "      <td>orange</td>\n",
              "      <td>low</td>\n",
              "    </tr>\n",
              "    <tr>\n",
              "      <th>2</th>\n",
              "      <td>pine</td>\n",
              "      <td>high</td>\n",
              "    </tr>\n",
              "    <tr>\n",
              "      <th>3</th>\n",
              "      <td>apple</td>\n",
              "      <td>low</td>\n",
              "    </tr>\n",
              "    <tr>\n",
              "      <th>4</th>\n",
              "      <td>orange</td>\n",
              "      <td>high</td>\n",
              "    </tr>\n",
              "    <tr>\n",
              "      <th>5</th>\n",
              "      <td>pine</td>\n",
              "      <td>low</td>\n",
              "    </tr>\n",
              "  </tbody>\n",
              "</table>\n",
              "</div>"
            ],
            "text/plain": [
              "    fruit  kilo\n",
              "0   apple  high\n",
              "1  orange   low\n",
              "2    pine  high\n",
              "3   apple   low\n",
              "4  orange  high\n",
              "5    pine   low"
            ]
          },
          "execution_count": 795,
          "metadata": {},
          "output_type": "execute_result"
        }
      ]
    },
    {
      "cell_type": "code",
      "metadata": {
        "id": "JazcOsyUOjMR",
        "outputId": "21f98ca9-c881-43e1-cafc-f47859f35457"
      },
      "source": [
        "df1.isin(df2).all(1)"
      ],
      "execution_count": null,
      "outputs": [
        {
          "data": {
            "text/plain": [
              "0     True\n",
              "1    False\n",
              "2    False\n",
              "3    False\n",
              "4    False\n",
              "5    False\n",
              "6    False\n",
              "7    False\n",
              "8    False\n",
              "dtype: bool"
            ]
          },
          "execution_count": 796,
          "metadata": {},
          "output_type": "execute_result"
        }
      ]
    },
    {
      "cell_type": "code",
      "metadata": {
        "id": "PndHa1f0OjMR",
        "outputId": "e5d550ce-5ff9-478e-9a3d-2309a73ee59d"
      },
      "source": [
        "df1[df1.isin(df2).all(1)].index.values"
      ],
      "execution_count": null,
      "outputs": [
        {
          "data": {
            "text/plain": [
              "array([0])"
            ]
          },
          "execution_count": 604,
          "metadata": {},
          "output_type": "execute_result"
        }
      ]
    },
    {
      "cell_type": "code",
      "metadata": {
        "id": "ImjnqnWDOjMR"
      },
      "source": [
        ""
      ],
      "execution_count": null,
      "outputs": []
    },
    {
      "cell_type": "markdown",
      "metadata": {
        "id": "QsbeSxy4OjMS"
      },
      "source": [
        "## 56. How to create lags and leads of a column in a dataframe?\n",
        "Difficulty Level: L2\n",
        "\n",
        "Create two new columns in df, one of which is a lag1 (shift column a down by 1 row) of column ‘a’ and the other is a lead1 (shift column b up by 1 row)."
      ]
    },
    {
      "cell_type": "code",
      "metadata": {
        "collapsed": true,
        "jupyter": {
          "outputs_hidden": true
        },
        "tags": [],
        "id": "9iesrojuOjMS",
        "outputId": "8e559a0a-831b-47ae-f2f7-b14749e4cb62"
      },
      "source": [
        "df = pd.DataFrame(np.random.randint(1, 100, 20).reshape(-1, 4), columns = list('abcd'))\n",
        "df"
      ],
      "execution_count": null,
      "outputs": [
        {
          "data": {
            "text/html": [
              "<div>\n",
              "<style scoped>\n",
              "    .dataframe tbody tr th:only-of-type {\n",
              "        vertical-align: middle;\n",
              "    }\n",
              "\n",
              "    .dataframe tbody tr th {\n",
              "        vertical-align: top;\n",
              "    }\n",
              "\n",
              "    .dataframe thead th {\n",
              "        text-align: right;\n",
              "    }\n",
              "</style>\n",
              "<table border=\"1\" class=\"dataframe\">\n",
              "  <thead>\n",
              "    <tr style=\"text-align: right;\">\n",
              "      <th></th>\n",
              "      <th>a</th>\n",
              "      <th>b</th>\n",
              "      <th>c</th>\n",
              "      <th>d</th>\n",
              "    </tr>\n",
              "  </thead>\n",
              "  <tbody>\n",
              "    <tr>\n",
              "      <th>0</th>\n",
              "      <td>80</td>\n",
              "      <td>88</td>\n",
              "      <td>25</td>\n",
              "      <td>66</td>\n",
              "    </tr>\n",
              "    <tr>\n",
              "      <th>1</th>\n",
              "      <td>60</td>\n",
              "      <td>43</td>\n",
              "      <td>85</td>\n",
              "      <td>16</td>\n",
              "    </tr>\n",
              "    <tr>\n",
              "      <th>2</th>\n",
              "      <td>24</td>\n",
              "      <td>31</td>\n",
              "      <td>89</td>\n",
              "      <td>49</td>\n",
              "    </tr>\n",
              "    <tr>\n",
              "      <th>3</th>\n",
              "      <td>3</td>\n",
              "      <td>98</td>\n",
              "      <td>48</td>\n",
              "      <td>77</td>\n",
              "    </tr>\n",
              "    <tr>\n",
              "      <th>4</th>\n",
              "      <td>99</td>\n",
              "      <td>48</td>\n",
              "      <td>81</td>\n",
              "      <td>67</td>\n",
              "    </tr>\n",
              "  </tbody>\n",
              "</table>\n",
              "</div>"
            ],
            "text/plain": [
              "    a   b   c   d\n",
              "0  80  88  25  66\n",
              "1  60  43  85  16\n",
              "2  24  31  89  49\n",
              "3   3  98  48  77\n",
              "4  99  48  81  67"
            ]
          },
          "execution_count": 609,
          "metadata": {},
          "output_type": "execute_result"
        }
      ]
    },
    {
      "cell_type": "code",
      "metadata": {
        "collapsed": true,
        "jupyter": {
          "outputs_hidden": true
        },
        "tags": [],
        "id": "TZWdo-35OjMU",
        "outputId": "8b9c84e4-7c67-4408-bb1c-9ccad0af9ae5"
      },
      "source": [
        "df['a']=df['a'].shift(1,axis=0).convert_dtypes('int')\n",
        "df"
      ],
      "execution_count": null,
      "outputs": [
        {
          "data": {
            "text/html": [
              "<div>\n",
              "<style scoped>\n",
              "    .dataframe tbody tr th:only-of-type {\n",
              "        vertical-align: middle;\n",
              "    }\n",
              "\n",
              "    .dataframe tbody tr th {\n",
              "        vertical-align: top;\n",
              "    }\n",
              "\n",
              "    .dataframe thead th {\n",
              "        text-align: right;\n",
              "    }\n",
              "</style>\n",
              "<table border=\"1\" class=\"dataframe\">\n",
              "  <thead>\n",
              "    <tr style=\"text-align: right;\">\n",
              "      <th></th>\n",
              "      <th>a</th>\n",
              "      <th>b</th>\n",
              "      <th>c</th>\n",
              "      <th>d</th>\n",
              "    </tr>\n",
              "  </thead>\n",
              "  <tbody>\n",
              "    <tr>\n",
              "      <th>0</th>\n",
              "      <td>&lt;NA&gt;</td>\n",
              "      <td>88</td>\n",
              "      <td>25</td>\n",
              "      <td>66</td>\n",
              "    </tr>\n",
              "    <tr>\n",
              "      <th>1</th>\n",
              "      <td>80</td>\n",
              "      <td>43</td>\n",
              "      <td>85</td>\n",
              "      <td>16</td>\n",
              "    </tr>\n",
              "    <tr>\n",
              "      <th>2</th>\n",
              "      <td>60</td>\n",
              "      <td>31</td>\n",
              "      <td>89</td>\n",
              "      <td>49</td>\n",
              "    </tr>\n",
              "    <tr>\n",
              "      <th>3</th>\n",
              "      <td>24</td>\n",
              "      <td>98</td>\n",
              "      <td>48</td>\n",
              "      <td>77</td>\n",
              "    </tr>\n",
              "    <tr>\n",
              "      <th>4</th>\n",
              "      <td>3</td>\n",
              "      <td>48</td>\n",
              "      <td>81</td>\n",
              "      <td>67</td>\n",
              "    </tr>\n",
              "  </tbody>\n",
              "</table>\n",
              "</div>"
            ],
            "text/plain": [
              "      a   b   c   d\n",
              "0  <NA>  88  25  66\n",
              "1    80  43  85  16\n",
              "2    60  31  89  49\n",
              "3    24  98  48  77\n",
              "4     3  48  81  67"
            ]
          },
          "execution_count": 611,
          "metadata": {},
          "output_type": "execute_result"
        }
      ]
    },
    {
      "cell_type": "code",
      "metadata": {
        "collapsed": true,
        "jupyter": {
          "outputs_hidden": true
        },
        "tags": [],
        "id": "INtQaTLVOjMU",
        "outputId": "3ab08baf-ea1a-4a22-920d-fa94324fdc8f"
      },
      "source": [
        "df['b']=df['b'].shift(-1,axis=0).convert_dtypes('int')\n",
        "df"
      ],
      "execution_count": null,
      "outputs": [
        {
          "data": {
            "text/html": [
              "<div>\n",
              "<style scoped>\n",
              "    .dataframe tbody tr th:only-of-type {\n",
              "        vertical-align: middle;\n",
              "    }\n",
              "\n",
              "    .dataframe tbody tr th {\n",
              "        vertical-align: top;\n",
              "    }\n",
              "\n",
              "    .dataframe thead th {\n",
              "        text-align: right;\n",
              "    }\n",
              "</style>\n",
              "<table border=\"1\" class=\"dataframe\">\n",
              "  <thead>\n",
              "    <tr style=\"text-align: right;\">\n",
              "      <th></th>\n",
              "      <th>a</th>\n",
              "      <th>b</th>\n",
              "      <th>c</th>\n",
              "      <th>d</th>\n",
              "    </tr>\n",
              "  </thead>\n",
              "  <tbody>\n",
              "    <tr>\n",
              "      <th>0</th>\n",
              "      <td>&lt;NA&gt;</td>\n",
              "      <td>43</td>\n",
              "      <td>25</td>\n",
              "      <td>66</td>\n",
              "    </tr>\n",
              "    <tr>\n",
              "      <th>1</th>\n",
              "      <td>80</td>\n",
              "      <td>31</td>\n",
              "      <td>85</td>\n",
              "      <td>16</td>\n",
              "    </tr>\n",
              "    <tr>\n",
              "      <th>2</th>\n",
              "      <td>60</td>\n",
              "      <td>98</td>\n",
              "      <td>89</td>\n",
              "      <td>49</td>\n",
              "    </tr>\n",
              "    <tr>\n",
              "      <th>3</th>\n",
              "      <td>24</td>\n",
              "      <td>48</td>\n",
              "      <td>48</td>\n",
              "      <td>77</td>\n",
              "    </tr>\n",
              "    <tr>\n",
              "      <th>4</th>\n",
              "      <td>3</td>\n",
              "      <td>&lt;NA&gt;</td>\n",
              "      <td>81</td>\n",
              "      <td>67</td>\n",
              "    </tr>\n",
              "  </tbody>\n",
              "</table>\n",
              "</div>"
            ],
            "text/plain": [
              "      a     b   c   d\n",
              "0  <NA>    43  25  66\n",
              "1    80    31  85  16\n",
              "2    60    98  89  49\n",
              "3    24    48  48  77\n",
              "4     3  <NA>  81  67"
            ]
          },
          "execution_count": 612,
          "metadata": {},
          "output_type": "execute_result"
        }
      ]
    },
    {
      "cell_type": "markdown",
      "metadata": {
        "id": "zamyT41kOjMU"
      },
      "source": [
        "## 57. How to get the frequency of unique values in the entire dataframe?\n",
        "Difficulty Level: L2\n",
        "\n",
        "Get the frequency of unique values in the entire dataframe df."
      ]
    },
    {
      "cell_type": "code",
      "metadata": {
        "collapsed": true,
        "jupyter": {
          "outputs_hidden": true
        },
        "tags": [],
        "id": "S6lOkcRYOjMV",
        "outputId": "e260c518-54b7-455d-c1a0-2a730e40c687"
      },
      "source": [
        "df = pd.DataFrame(np.random.randint(1, 10, 20).reshape(-1, 4), columns = list('abcd'))\n",
        "df"
      ],
      "execution_count": null,
      "outputs": [
        {
          "data": {
            "text/html": [
              "<div>\n",
              "<style scoped>\n",
              "    .dataframe tbody tr th:only-of-type {\n",
              "        vertical-align: middle;\n",
              "    }\n",
              "\n",
              "    .dataframe tbody tr th {\n",
              "        vertical-align: top;\n",
              "    }\n",
              "\n",
              "    .dataframe thead th {\n",
              "        text-align: right;\n",
              "    }\n",
              "</style>\n",
              "<table border=\"1\" class=\"dataframe\">\n",
              "  <thead>\n",
              "    <tr style=\"text-align: right;\">\n",
              "      <th></th>\n",
              "      <th>a</th>\n",
              "      <th>b</th>\n",
              "      <th>c</th>\n",
              "      <th>d</th>\n",
              "    </tr>\n",
              "  </thead>\n",
              "  <tbody>\n",
              "    <tr>\n",
              "      <th>0</th>\n",
              "      <td>6</td>\n",
              "      <td>3</td>\n",
              "      <td>8</td>\n",
              "      <td>5</td>\n",
              "    </tr>\n",
              "    <tr>\n",
              "      <th>1</th>\n",
              "      <td>7</td>\n",
              "      <td>4</td>\n",
              "      <td>2</td>\n",
              "      <td>3</td>\n",
              "    </tr>\n",
              "    <tr>\n",
              "      <th>2</th>\n",
              "      <td>9</td>\n",
              "      <td>9</td>\n",
              "      <td>6</td>\n",
              "      <td>6</td>\n",
              "    </tr>\n",
              "    <tr>\n",
              "      <th>3</th>\n",
              "      <td>4</td>\n",
              "      <td>4</td>\n",
              "      <td>3</td>\n",
              "      <td>9</td>\n",
              "    </tr>\n",
              "    <tr>\n",
              "      <th>4</th>\n",
              "      <td>2</td>\n",
              "      <td>4</td>\n",
              "      <td>3</td>\n",
              "      <td>1</td>\n",
              "    </tr>\n",
              "  </tbody>\n",
              "</table>\n",
              "</div>"
            ],
            "text/plain": [
              "   a  b  c  d\n",
              "0  6  3  8  5\n",
              "1  7  4  2  3\n",
              "2  9  9  6  6\n",
              "3  4  4  3  9\n",
              "4  2  4  3  1"
            ]
          },
          "execution_count": 613,
          "metadata": {},
          "output_type": "execute_result"
        }
      ]
    },
    {
      "cell_type": "code",
      "metadata": {
        "collapsed": true,
        "jupyter": {
          "outputs_hidden": true
        },
        "tags": [],
        "id": "5fzzdlBWOjMV",
        "outputId": "bbf040fd-ba78-4bc5-8e7c-df825ec40b34"
      },
      "source": [
        "df.melt()['value'].value_counts()"
      ],
      "execution_count": null,
      "outputs": [
        {
          "data": {
            "text/plain": [
              "3    4\n",
              "4    4\n",
              "6    3\n",
              "9    3\n",
              "2    2\n",
              "1    1\n",
              "5    1\n",
              "7    1\n",
              "8    1\n",
              "Name: value, dtype: int64"
            ]
          },
          "execution_count": 617,
          "metadata": {},
          "output_type": "execute_result"
        }
      ]
    },
    {
      "cell_type": "markdown",
      "metadata": {
        "id": "9NU-_s0cOjMV"
      },
      "source": [
        "## 58. How to split a text column into two separate columns?\n",
        "Difficulty Level: L2\n",
        "\n",
        "Split the string column in df to form a dataframe with 3 columns as shown."
      ]
    },
    {
      "cell_type": "code",
      "metadata": {
        "collapsed": true,
        "jupyter": {
          "outputs_hidden": true
        },
        "tags": [],
        "id": "9_5CC_0OOjMV",
        "outputId": "320e8767-6db9-41d8-a7b7-53ec36f31d91"
      },
      "source": [
        "df = pd.DataFrame([\"STD, City    State\",\n",
        "\"33, Kolkata    West Bengal\",\n",
        "\"44, Chennai    Tamil Nadu\",\n",
        "\"40, Hyderabad    Telengana\",\n",
        "\"80, Bangalore    Karnataka\"], columns=['row'])\n",
        "df"
      ],
      "execution_count": null,
      "outputs": [
        {
          "data": {
            "text/html": [
              "<div>\n",
              "<style scoped>\n",
              "    .dataframe tbody tr th:only-of-type {\n",
              "        vertical-align: middle;\n",
              "    }\n",
              "\n",
              "    .dataframe tbody tr th {\n",
              "        vertical-align: top;\n",
              "    }\n",
              "\n",
              "    .dataframe thead th {\n",
              "        text-align: right;\n",
              "    }\n",
              "</style>\n",
              "<table border=\"1\" class=\"dataframe\">\n",
              "  <thead>\n",
              "    <tr style=\"text-align: right;\">\n",
              "      <th></th>\n",
              "      <th>row</th>\n",
              "    </tr>\n",
              "  </thead>\n",
              "  <tbody>\n",
              "    <tr>\n",
              "      <th>0</th>\n",
              "      <td>STD, City    State</td>\n",
              "    </tr>\n",
              "    <tr>\n",
              "      <th>1</th>\n",
              "      <td>33, Kolkata    West Bengal</td>\n",
              "    </tr>\n",
              "    <tr>\n",
              "      <th>2</th>\n",
              "      <td>44, Chennai    Tamil Nadu</td>\n",
              "    </tr>\n",
              "    <tr>\n",
              "      <th>3</th>\n",
              "      <td>40, Hyderabad    Telengana</td>\n",
              "    </tr>\n",
              "    <tr>\n",
              "      <th>4</th>\n",
              "      <td>80, Bangalore    Karnataka</td>\n",
              "    </tr>\n",
              "  </tbody>\n",
              "</table>\n",
              "</div>"
            ],
            "text/plain": [
              "                          row\n",
              "0          STD, City    State\n",
              "1  33, Kolkata    West Bengal\n",
              "2   44, Chennai    Tamil Nadu\n",
              "3  40, Hyderabad    Telengana\n",
              "4  80, Bangalore    Karnataka"
            ]
          },
          "execution_count": 618,
          "metadata": {},
          "output_type": "execute_result"
        }
      ]
    },
    {
      "cell_type": "code",
      "metadata": {
        "collapsed": true,
        "jupyter": {
          "outputs_hidden": true
        },
        "tags": [],
        "id": "uRwZRmkaOjMW",
        "outputId": "d19be539-09aa-4862-c435-8211d80618c5"
      },
      "source": [
        "std_lines = df['row'].apply(lambda x: re.sub('([0-9]+), ([A-Za-z]+) +([A-Za-z]+.*)','\\g<1>-\\g<2>-\\g<3>',x))\n",
        "std_lines "
      ],
      "execution_count": null,
      "outputs": [
        {
          "data": {
            "text/plain": [
              "0        STD, City    State\n",
              "1    33-Kolkata-West Bengal\n",
              "2     44-Chennai-Tamil Nadu\n",
              "3    40-Hyderabad-Telengana\n",
              "4    80-Bangalore-Karnataka\n",
              "Name: row, dtype: object"
            ]
          },
          "execution_count": 642,
          "metadata": {},
          "output_type": "execute_result"
        }
      ]
    },
    {
      "cell_type": "code",
      "metadata": {
        "collapsed": true,
        "jupyter": {
          "outputs_hidden": true
        },
        "tags": [],
        "id": "CVslTNTmOjMW",
        "outputId": "c3febea8-077f-465d-b8ef-d6b6dd6be4e1"
      },
      "source": [
        "df.replace(r'([0-9]+), ([A-Za-z]+) +([A-Za-z]+.*)',r'\\1-\\2-\\3',regex=True)"
      ],
      "execution_count": null,
      "outputs": [
        {
          "data": {
            "text/html": [
              "<div>\n",
              "<style scoped>\n",
              "    .dataframe tbody tr th:only-of-type {\n",
              "        vertical-align: middle;\n",
              "    }\n",
              "\n",
              "    .dataframe tbody tr th {\n",
              "        vertical-align: top;\n",
              "    }\n",
              "\n",
              "    .dataframe thead th {\n",
              "        text-align: right;\n",
              "    }\n",
              "</style>\n",
              "<table border=\"1\" class=\"dataframe\">\n",
              "  <thead>\n",
              "    <tr style=\"text-align: right;\">\n",
              "      <th></th>\n",
              "      <th>row</th>\n",
              "    </tr>\n",
              "  </thead>\n",
              "  <tbody>\n",
              "    <tr>\n",
              "      <th>0</th>\n",
              "      <td>STD, City    State</td>\n",
              "    </tr>\n",
              "    <tr>\n",
              "      <th>1</th>\n",
              "      <td>33-Kolkata-West Bengal</td>\n",
              "    </tr>\n",
              "    <tr>\n",
              "      <th>2</th>\n",
              "      <td>44-Chennai-Tamil Nadu</td>\n",
              "    </tr>\n",
              "    <tr>\n",
              "      <th>3</th>\n",
              "      <td>40-Hyderabad-Telengana</td>\n",
              "    </tr>\n",
              "    <tr>\n",
              "      <th>4</th>\n",
              "      <td>80-Bangalore-Karnataka</td>\n",
              "    </tr>\n",
              "  </tbody>\n",
              "</table>\n",
              "</div>"
            ],
            "text/plain": [
              "                      row\n",
              "0      STD, City    State\n",
              "1  33-Kolkata-West Bengal\n",
              "2   44-Chennai-Tamil Nadu\n",
              "3  40-Hyderabad-Telengana\n",
              "4  80-Bangalore-Karnataka"
            ]
          },
          "execution_count": 662,
          "metadata": {},
          "output_type": "execute_result"
        }
      ]
    },
    {
      "cell_type": "code",
      "metadata": {
        "collapsed": true,
        "jupyter": {
          "outputs_hidden": true
        },
        "tags": [],
        "id": "fF5BnD0vOjMW",
        "outputId": "82ed9056-06c3-481f-9290-1f5d228d3ae3"
      },
      "source": [
        "l =[]\n",
        "for x in std_lines[1:].values:\n",
        "    x = x.split('-')\n",
        "    l.append({'STD': x[0], 'City': x[1], 'State':x[2]})\n",
        "pd.DataFrame(l)"
      ],
      "execution_count": null,
      "outputs": [
        {
          "data": {
            "text/html": [
              "<div>\n",
              "<style scoped>\n",
              "    .dataframe tbody tr th:only-of-type {\n",
              "        vertical-align: middle;\n",
              "    }\n",
              "\n",
              "    .dataframe tbody tr th {\n",
              "        vertical-align: top;\n",
              "    }\n",
              "\n",
              "    .dataframe thead th {\n",
              "        text-align: right;\n",
              "    }\n",
              "</style>\n",
              "<table border=\"1\" class=\"dataframe\">\n",
              "  <thead>\n",
              "    <tr style=\"text-align: right;\">\n",
              "      <th></th>\n",
              "      <th>STD</th>\n",
              "      <th>City</th>\n",
              "      <th>State</th>\n",
              "    </tr>\n",
              "  </thead>\n",
              "  <tbody>\n",
              "    <tr>\n",
              "      <th>0</th>\n",
              "      <td>33</td>\n",
              "      <td>Kolkata</td>\n",
              "      <td>West Bengal</td>\n",
              "    </tr>\n",
              "    <tr>\n",
              "      <th>1</th>\n",
              "      <td>44</td>\n",
              "      <td>Chennai</td>\n",
              "      <td>Tamil Nadu</td>\n",
              "    </tr>\n",
              "    <tr>\n",
              "      <th>2</th>\n",
              "      <td>40</td>\n",
              "      <td>Hyderabad</td>\n",
              "      <td>Telengana</td>\n",
              "    </tr>\n",
              "    <tr>\n",
              "      <th>3</th>\n",
              "      <td>80</td>\n",
              "      <td>Bangalore</td>\n",
              "      <td>Karnataka</td>\n",
              "    </tr>\n",
              "  </tbody>\n",
              "</table>\n",
              "</div>"
            ],
            "text/plain": [
              "  STD       City        State\n",
              "0  33    Kolkata  West Bengal\n",
              "1  44    Chennai   Tamil Nadu\n",
              "2  40  Hyderabad    Telengana\n",
              "3  80  Bangalore    Karnataka"
            ]
          },
          "execution_count": 655,
          "metadata": {},
          "output_type": "execute_result"
        }
      ]
    },
    {
      "cell_type": "code",
      "metadata": {
        "collapsed": true,
        "jupyter": {
          "outputs_hidden": true
        },
        "tags": [],
        "id": "CKKvWON0OjMW",
        "outputId": "fa48c894-fbf9-49e9-9bc9-561fc633e4fc"
      },
      "source": [
        "std_lines[1:].str.split('-',expand=True)"
      ],
      "execution_count": null,
      "outputs": [
        {
          "data": {
            "text/html": [
              "<div>\n",
              "<style scoped>\n",
              "    .dataframe tbody tr th:only-of-type {\n",
              "        vertical-align: middle;\n",
              "    }\n",
              "\n",
              "    .dataframe tbody tr th {\n",
              "        vertical-align: top;\n",
              "    }\n",
              "\n",
              "    .dataframe thead th {\n",
              "        text-align: right;\n",
              "    }\n",
              "</style>\n",
              "<table border=\"1\" class=\"dataframe\">\n",
              "  <thead>\n",
              "    <tr style=\"text-align: right;\">\n",
              "      <th></th>\n",
              "      <th>0</th>\n",
              "      <th>1</th>\n",
              "      <th>2</th>\n",
              "    </tr>\n",
              "  </thead>\n",
              "  <tbody>\n",
              "    <tr>\n",
              "      <th>1</th>\n",
              "      <td>33</td>\n",
              "      <td>Kolkata</td>\n",
              "      <td>West Bengal</td>\n",
              "    </tr>\n",
              "    <tr>\n",
              "      <th>2</th>\n",
              "      <td>44</td>\n",
              "      <td>Chennai</td>\n",
              "      <td>Tamil Nadu</td>\n",
              "    </tr>\n",
              "    <tr>\n",
              "      <th>3</th>\n",
              "      <td>40</td>\n",
              "      <td>Hyderabad</td>\n",
              "      <td>Telengana</td>\n",
              "    </tr>\n",
              "    <tr>\n",
              "      <th>4</th>\n",
              "      <td>80</td>\n",
              "      <td>Bangalore</td>\n",
              "      <td>Karnataka</td>\n",
              "    </tr>\n",
              "  </tbody>\n",
              "</table>\n",
              "</div>"
            ],
            "text/plain": [
              "    0          1            2\n",
              "1  33    Kolkata  West Bengal\n",
              "2  44    Chennai   Tamil Nadu\n",
              "3  40  Hyderabad    Telengana\n",
              "4  80  Bangalore    Karnataka"
            ]
          },
          "execution_count": 659,
          "metadata": {},
          "output_type": "execute_result"
        }
      ]
    }
  ]
}