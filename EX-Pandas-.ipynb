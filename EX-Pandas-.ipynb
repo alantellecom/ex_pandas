{
  "nbformat": 4,
  "nbformat_minor": 0,
  "metadata": {
    "kernelspec": {
      "display_name": "Python 3",
      "language": "python",
      "name": "python3"
    },
    "language_info": {
      "codemirror_mode": {
        "name": "ipython",
        "version": 3
      },
      "file_extension": ".py",
      "mimetype": "text/x-python",
      "name": "python",
      "nbconvert_exporter": "python",
      "pygments_lexer": "ipython3",
      "version": "3.7.10"
    },
    "colab": {
      "name": "EX-Pandas-.ipynb",
      "provenance": []
    }
  },
  "cells": [
    {
      "cell_type": "code",
      "metadata": {
        "id": "HhiQIyc6yt6g"
      },
      "source": [
        "import pandas as pd\n",
        "import numpy as np\n",
        "import re\n",
        "from dateutil.parser import parse\n",
        "from itertools import combinations"
      ],
      "execution_count": null,
      "outputs": []
    },
    {
      "cell_type": "markdown",
      "metadata": {
        "id": "LOA0x__lyt6j"
      },
      "source": [
        "## 1. How to create a series from a list, numpy array and dict?\n",
        "\n",
        "Difficulty Level: L1\n",
        "\n",
        "Create a pandas series from each of the items below: a list, numpy and a dictionary"
      ]
    },
    {
      "cell_type": "code",
      "metadata": {
        "id": "-MxBrMeuyt6p"
      },
      "source": [
        "mylist = list('abcedfghijklmnopqrstuvwxyz')\n",
        "myarr = np.arange(26)\n",
        "mydict = dict(zip(mylist, myarr))"
      ],
      "execution_count": null,
      "outputs": []
    },
    {
      "cell_type": "code",
      "metadata": {
        "tags": [],
        "id": "5pTp6ebpyt6q"
      },
      "source": [
        ""
      ],
      "execution_count": null,
      "outputs": []
    },
    {
      "cell_type": "markdown",
      "metadata": {
        "id": "L-9-M_HHyt6r"
      },
      "source": [
        "## 2. How to convert the index of a series into a column of a dataframe?\n",
        "Difficulty Level: L1\n",
        "\n",
        "Convert the series ser into a dataframe with its index as another column on the dataframe."
      ]
    },
    {
      "cell_type": "code",
      "metadata": {
        "tags": [],
        "id": "uIHY4q9Pyt6t"
      },
      "source": [
        ""
      ],
      "execution_count": null,
      "outputs": []
    },
    {
      "cell_type": "markdown",
      "metadata": {
        "id": "-unMNFHZyt6u"
      },
      "source": [
        "## 3. How to combine many series to form a dataframe?\n",
        "Difficulty Level: L1\n",
        "\n",
        "Combine ser1 and ser2 to form a dataframe."
      ]
    },
    {
      "cell_type": "code",
      "metadata": {
        "tags": [],
        "id": "OfqLIOBfyt6w"
      },
      "source": [
        ""
      ],
      "execution_count": null,
      "outputs": []
    },
    {
      "cell_type": "markdown",
      "metadata": {
        "id": "cbheBOuFyt6x"
      },
      "source": [
        "## 4. How to assign name to the series’ index?\n",
        "Difficulty Level: L1\n",
        "\n",
        "Give a name to the series ser calling it ‘alphabets’."
      ]
    },
    {
      "cell_type": "code",
      "metadata": {
        "tags": [],
        "id": "fXE8dVK6yt6z"
      },
      "source": [
        ""
      ],
      "execution_count": null,
      "outputs": []
    },
    {
      "cell_type": "markdown",
      "metadata": {
        "id": "XoEXyTwhyt60"
      },
      "source": [
        "## 5. How to get the items of series A not present in series B?\n",
        "Difficulty Level: L2\n",
        "\n",
        "From ser1 remove items present in ser2.\n",
        "\n"
      ]
    },
    {
      "cell_type": "code",
      "metadata": {
        "id": "cTpgCVM0yt60"
      },
      "source": [
        "ser1 = pd.Series([1, 2, 3, 4, 5])\n",
        "ser2 = pd.Series([4, 5, 6, 7, 8])"
      ],
      "execution_count": null,
      "outputs": []
    },
    {
      "cell_type": "code",
      "metadata": {
        "id": "uGZjZbHwyt62"
      },
      "source": [
        ""
      ],
      "execution_count": null,
      "outputs": []
    },
    {
      "cell_type": "markdown",
      "metadata": {
        "id": "pkQc_rStyt62"
      },
      "source": [
        "## 6. How to get the minimum, 25th percentile, median, 75th, and max of a numeric series?\n",
        "Difficuty Level: L2\n",
        "\n",
        "Compute the minimum, 25th percentile, median, 75th, and maximum of ser."
      ]
    },
    {
      "cell_type": "code",
      "metadata": {
        "id": "hvt_b-FLyt64"
      },
      "source": [
        ""
      ],
      "execution_count": null,
      "outputs": []
    },
    {
      "cell_type": "markdown",
      "metadata": {
        "id": "XlEAzz_Cyt64"
      },
      "source": [
        "## 7. How to get frequency counts of unique items of a series?\n",
        "Difficulty Level: L1\n",
        "\n",
        "Calculte the frequency counts of each unique value ser."
      ]
    },
    {
      "cell_type": "code",
      "metadata": {
        "tags": [],
        "id": "QWnWbiz_yt65"
      },
      "source": [
        "ser = pd.Series(np.take(list('abcdefgh'), np.random.randint(8, size=30)))\n",
        "ser"
      ],
      "execution_count": null,
      "outputs": []
    },
    {
      "cell_type": "code",
      "metadata": {
        "id": "3gMUxVgzyt66"
      },
      "source": [
        ""
      ],
      "execution_count": null,
      "outputs": []
    },
    {
      "cell_type": "markdown",
      "metadata": {
        "id": "SuPhKulByt66"
      },
      "source": [
        "## 8. How to keep only top 2 most frequent values as it is and replace everything else as ‘Other’?\n",
        "Difficulty Level: L2\n",
        "\n",
        "From ser, keep the top 2 most frequent items as it is and replace everything else as ‘Other’."
      ]
    },
    {
      "cell_type": "code",
      "metadata": {
        "tags": [],
        "id": "L8CO-E4eyt67"
      },
      "source": [
        ""
      ],
      "execution_count": null,
      "outputs": []
    },
    {
      "cell_type": "markdown",
      "metadata": {
        "id": "fJzxhNJ3yt67"
      },
      "source": [
        "## 9. How to convert a numpy array to a dataframe of given shape? (L1)\n",
        "Difficulty Level: L1\n",
        "\n",
        "Reshape the series ser into a dataframe with 7 rows and 5 columns"
      ]
    },
    {
      "cell_type": "code",
      "metadata": {
        "tags": [],
        "id": "TScFoaGJyt68"
      },
      "source": [
        "ser = pd.Series(np.random.randint(1, 10, 35))\n",
        "ser"
      ],
      "execution_count": null,
      "outputs": []
    },
    {
      "cell_type": "code",
      "metadata": {
        "id": "QFCaa1mUyt68"
      },
      "source": [
        ""
      ],
      "execution_count": null,
      "outputs": []
    },
    {
      "cell_type": "markdown",
      "metadata": {
        "id": "0SQ60TfIyt69"
      },
      "source": [
        "## 10. How to find the positions of numbers that are multiples of 3 from a series?\n",
        "Difficulty Level: L2\n",
        "\n",
        "Find the positions of numbers that are multiples of 3 from ser."
      ]
    },
    {
      "cell_type": "code",
      "metadata": {
        "id": "JB8aU0UIyt69"
      },
      "source": [
        "ser = pd.Series(np.random.randint(1, 10, 7))\n",
        "ser"
      ],
      "execution_count": null,
      "outputs": []
    },
    {
      "cell_type": "code",
      "metadata": {
        "tags": [],
        "id": "NWYJKT2Byt69"
      },
      "source": [
        ""
      ],
      "execution_count": null,
      "outputs": []
    },
    {
      "cell_type": "markdown",
      "metadata": {
        "id": "ORa1qbY5yt69"
      },
      "source": [
        "## 11. How to extract items at given positions from a series\n",
        "Difficulty Level: L1\n",
        "\n",
        "From ser, extract the items at positions in list pos."
      ]
    },
    {
      "cell_type": "code",
      "metadata": {
        "id": "ZRmIBi8dyt6-"
      },
      "source": [
        "ser = pd.Series(list('abcdefghijklmnopqrstuvwxyz'))\n",
        "pos = [0, 4, 8, 14, 20]"
      ],
      "execution_count": null,
      "outputs": []
    },
    {
      "cell_type": "code",
      "metadata": {
        "id": "-kJqXyy2yt6-"
      },
      "source": [
        ""
      ],
      "execution_count": null,
      "outputs": []
    },
    {
      "cell_type": "markdown",
      "metadata": {
        "id": "BTCyJWRXyt6-"
      },
      "source": [
        "## 12. How to stack two series vertically and horizontally ?\n",
        "Difficulty Level: L1\n",
        "\n",
        "Stack ser1 and ser2 vertically and horizontally (to form a dataframe)."
      ]
    },
    {
      "cell_type": "code",
      "metadata": {
        "id": "HNJpcAkxyt6_"
      },
      "source": [
        "ser1 = pd.Series(range(5))\n",
        "ser2 = pd.Series(list('abcde'))"
      ],
      "execution_count": null,
      "outputs": []
    },
    {
      "cell_type": "code",
      "metadata": {
        "id": "vUqsY4kDyt6_"
      },
      "source": [
        ""
      ],
      "execution_count": null,
      "outputs": []
    },
    {
      "cell_type": "markdown",
      "metadata": {
        "id": "57ZUfQ6Kyt6_"
      },
      "source": [
        "## 13. How to get the positions of items of series A in another series B?\n",
        "Difficulty Level: L2\n",
        "\n",
        "Get the positions of items of ser2 in ser1 as a list."
      ]
    },
    {
      "cell_type": "code",
      "metadata": {
        "id": "HI26Ml1gyt7A"
      },
      "source": [
        "ser1 = pd.Series([10, 9, 6, 5, 3, 1, 12, 8, 13])\n",
        "ser2 = pd.Series([1, 3, 10, 13])"
      ],
      "execution_count": null,
      "outputs": []
    },
    {
      "cell_type": "code",
      "metadata": {
        "id": "StDR_uyQyt7A"
      },
      "source": [
        ""
      ],
      "execution_count": null,
      "outputs": []
    },
    {
      "cell_type": "markdown",
      "metadata": {
        "id": "sbmFNrWeyt7A"
      },
      "source": [
        "## 14. How to convert the first character of each element in a series to uppercase?\n",
        "Difficulty Level: L2\n",
        "\n",
        "Change the first character of each word to upper case in each word of ser."
      ]
    },
    {
      "cell_type": "code",
      "metadata": {
        "id": "3BUAA4rUyt7B"
      },
      "source": [
        "ser = pd.Series(['how', 'to', 'kick', 'ass?'])"
      ],
      "execution_count": null,
      "outputs": []
    },
    {
      "cell_type": "code",
      "metadata": {
        "id": "kUmNTtYHyt7B"
      },
      "source": [
        ""
      ],
      "execution_count": null,
      "outputs": []
    },
    {
      "cell_type": "markdown",
      "metadata": {
        "id": "IcxAeo2Kyt7B"
      },
      "source": [
        "## 15. How to calculate the number of characters in each word in a series?\n",
        "Difficulty Level: L2"
      ]
    },
    {
      "cell_type": "code",
      "metadata": {
        "id": "ARyuD63Dyt7C"
      },
      "source": [
        ""
      ],
      "execution_count": null,
      "outputs": []
    },
    {
      "cell_type": "markdown",
      "metadata": {
        "id": "A9dWy2Iuyt7C"
      },
      "source": [
        "## 16. How to compute difference of differences between consequtive numbers of a series?\n",
        "Difficulty Level: L1\n",
        "\n",
        "Difference of differences between the consequtive numbers of ser."
      ]
    },
    {
      "cell_type": "code",
      "metadata": {
        "id": "Pv548Tk1yt7C"
      },
      "source": [
        "ser = pd.Series([1, 3, 6, 10, 15, 21, 27, 35])"
      ],
      "execution_count": null,
      "outputs": []
    },
    {
      "cell_type": "code",
      "metadata": {
        "id": "9Vkn3Xzzyt7D"
      },
      "source": [
        ""
      ],
      "execution_count": null,
      "outputs": []
    },
    {
      "cell_type": "markdown",
      "metadata": {
        "id": "Bb59jMIXyt7D"
      },
      "source": [
        "## 17. How to convert a series of date-strings to a timeseries?\n",
        "Difficiulty Level: L2"
      ]
    },
    {
      "cell_type": "code",
      "metadata": {
        "id": "vgbyGMHsyt7D"
      },
      "source": [
        "ser = pd.Series(['01 Jan 2010', '02-02-2011', '20120303', '2013/04/04', '2014-05-05', '2015-06-06T12:20'])"
      ],
      "execution_count": null,
      "outputs": []
    },
    {
      "cell_type": "code",
      "metadata": {
        "id": "LHo1QSyDyt7E"
      },
      "source": [
        ""
      ],
      "execution_count": null,
      "outputs": []
    },
    {
      "cell_type": "markdown",
      "metadata": {
        "id": "qbUuOrddyt7E"
      },
      "source": [
        "## 18. How to get the day of month, week number, day of year and day of week from a series of date strings?\n",
        "Difficiulty Level: L2\n",
        "\n",
        "Get the day of month, week number, day of year and day of week from ser."
      ]
    },
    {
      "cell_type": "code",
      "metadata": {
        "id": "yon74DYAyt7E"
      },
      "source": [
        "ser = pd.Series(['01 Jan 2010', '02-02-2011', '20120303', '2013/04/04', '2014-05-05', '2015-06-06T12:20'])"
      ],
      "execution_count": null,
      "outputs": []
    },
    {
      "cell_type": "code",
      "metadata": {
        "id": "RBVLq0YAyt7E"
      },
      "source": [
        ""
      ],
      "execution_count": null,
      "outputs": []
    },
    {
      "cell_type": "markdown",
      "metadata": {
        "id": "5JHpvE_8yt7F"
      },
      "source": [
        "## 19. How to convert year-month string to dates corresponding to the 4th day of the month?\n",
        "Difficiulty Level: L2\n",
        "\n",
        "Change ser to dates that start with 4th of the respective months."
      ]
    },
    {
      "cell_type": "code",
      "metadata": {
        "id": "LByJhsDlyt7F"
      },
      "source": [
        "ser = pd.Series(['Jan 2010', 'Feb 2011', 'Mar 2012'])"
      ],
      "execution_count": null,
      "outputs": []
    },
    {
      "cell_type": "code",
      "metadata": {
        "id": "VOpjN7W2yt7F"
      },
      "source": [
        ""
      ],
      "execution_count": null,
      "outputs": []
    },
    {
      "cell_type": "markdown",
      "metadata": {
        "id": "VY3JSpa0yt7F"
      },
      "source": [
        "## 20. How to filter words that contain atleast 2 vowels from a series?\n",
        "Difficiulty Level: L3\n",
        "\n",
        "From ser, extract words that contain atleast 2 vowels."
      ]
    },
    {
      "cell_type": "code",
      "metadata": {
        "id": "I2nX5oFuyt7F"
      },
      "source": [
        "ser = pd.Series(['Apple', 'Orange', 'Plan', 'Python', 'Money'])"
      ],
      "execution_count": null,
      "outputs": []
    },
    {
      "cell_type": "code",
      "metadata": {
        "id": "MXPradLmzc6V"
      },
      "source": [
        ""
      ],
      "execution_count": null,
      "outputs": []
    },
    {
      "cell_type": "markdown",
      "metadata": {
        "id": "LQ0Ah8E1yt7G"
      },
      "source": [
        "## 21. How to filter valid emails from a series?\n",
        "Difficiulty Level: L3\n",
        "\n",
        "Extract the valid emails from the series emails. The regex pattern for valid emails is provided as reference."
      ]
    },
    {
      "cell_type": "code",
      "metadata": {
        "id": "QnZvrVbJyt7G"
      },
      "source": [
        "emails = pd.Series(['buying books at amazom.com', 'rameses@egypt.com', 'matt@t.co', 'narendra@modi.com','rameses'])\n",
        "pattern= '[A-Za-z0-9._%+-]+@[A-Za-z0-9.-]+\\.[A-Za-z]{2,4}'"
      ],
      "execution_count": null,
      "outputs": []
    },
    {
      "cell_type": "code",
      "metadata": {
        "id": "hRcORXoZyt7H"
      },
      "source": [
        ""
      ],
      "execution_count": null,
      "outputs": []
    },
    {
      "cell_type": "markdown",
      "metadata": {
        "id": "Q20SGKKGyt7H"
      },
      "source": [
        "## 22. How to get the mean of a series grouped by another series?\n",
        "Difficiulty Level: L2\n",
        "\n",
        "Compute the mean of weights of each fruit."
      ]
    },
    {
      "cell_type": "code",
      "metadata": {
        "id": "_aJaptI2yt7H"
      },
      "source": [
        "fruit = pd.Series(np.random.choice(['apple', 'banana', 'carrot'], 10))\n",
        "weights = pd.Series(np.linspace(1, 10, 10))"
      ],
      "execution_count": null,
      "outputs": []
    },
    {
      "cell_type": "code",
      "metadata": {
        "id": "a8YLh5kqyt7H"
      },
      "source": [
        ""
      ],
      "execution_count": null,
      "outputs": []
    },
    {
      "cell_type": "markdown",
      "metadata": {
        "id": "uXD1nP05yt7H"
      },
      "source": [
        "## 23. How to compute the euclidean distance between two series?\n",
        "Difficiulty Level: L2\n",
        "\n",
        "Compute the euclidean distance between series (points) p and q, without using a packaged formula."
      ]
    },
    {
      "cell_type": "code",
      "metadata": {
        "id": "ZP6p17A8yt7I"
      },
      "source": [
        "p = pd.Series([1, 2, 3, 4, 5, 6, 7, 8, 9, 10])\n",
        "q = pd.Series([10, 9, 8, 7, 6, 5, 4, 3, 2, 1])"
      ],
      "execution_count": null,
      "outputs": []
    },
    {
      "cell_type": "code",
      "metadata": {
        "id": "Zey_Jczpyt7I"
      },
      "source": [
        ""
      ],
      "execution_count": null,
      "outputs": []
    },
    {
      "cell_type": "markdown",
      "metadata": {
        "id": "DCxvtqc4yt7I"
      },
      "source": [
        "## 24. How to replace missing spaces in a string with the least frequent character?\n",
        "Replace the spaces in my_str with the least frequent character.\n",
        "\n",
        "Difficiulty Level: L2"
      ]
    },
    {
      "cell_type": "code",
      "metadata": {
        "id": "rnZmY8ZYyt7I"
      },
      "source": [
        "my_str = 'dbc deb abed gade'"
      ],
      "execution_count": null,
      "outputs": []
    },
    {
      "cell_type": "code",
      "metadata": {
        "id": "AGG1kh0Ayt7J"
      },
      "source": [
        ""
      ],
      "execution_count": null,
      "outputs": []
    },
    {
      "cell_type": "markdown",
      "metadata": {
        "id": "FFnBKNbVyt7J"
      },
      "source": [
        "## 25. How to create a TimeSeries starting ‘2000-01-01’ and 10 weekends (saturdays) after that having random numbers as values?\n",
        "Difficiulty Level: L2"
      ]
    },
    {
      "cell_type": "code",
      "metadata": {
        "id": "bQmHhklOyt7J"
      },
      "source": [
        ""
      ],
      "execution_count": null,
      "outputs": []
    },
    {
      "cell_type": "markdown",
      "metadata": {
        "id": "6Okslbwvyt7J"
      },
      "source": [
        "## 26. How to fill an intermittent time series so all missing dates show up with values of previous non-missing date?\n",
        "Difficiulty Level: L2\n",
        "\n",
        "ser has missing dates and values. Make all missing dates appear and fill up with value from previous date."
      ]
    },
    {
      "cell_type": "code",
      "metadata": {
        "id": "TZCC5YrSyt7J"
      },
      "source": [
        "ser = pd.Series([1,10,3,np.nan], index=pd.to_datetime(['2000-01-01', '2000-01-03', '2000-01-06', '2000-01-08']))\n",
        "ser"
      ],
      "execution_count": null,
      "outputs": []
    },
    {
      "cell_type": "code",
      "metadata": {
        "id": "5lrAtHupyt7K"
      },
      "source": [
        ""
      ],
      "execution_count": null,
      "outputs": []
    },
    {
      "cell_type": "markdown",
      "metadata": {
        "id": "VrqS4QY4yt7K"
      },
      "source": [
        "## 27. How to compute the autocorrelations of a numeric series?\n",
        "Difficiulty Level: L3\n",
        "\n",
        "Compute autocorrelations for the first 10 lags of ser. Find out which lag has the largest correlation."
      ]
    },
    {
      "cell_type": "code",
      "metadata": {
        "id": "vg8x1Optyt7K"
      },
      "source": [
        "ser = pd.Series(np.arange(20) + np.random.normal(1, 10, 20))\n",
        "ser"
      ],
      "execution_count": null,
      "outputs": []
    },
    {
      "cell_type": "code",
      "metadata": {
        "id": "14URtEksyt7K"
      },
      "source": [
        ""
      ],
      "execution_count": null,
      "outputs": []
    },
    {
      "cell_type": "markdown",
      "metadata": {
        "id": "aFZM28Vxyt7K"
      },
      "source": [
        "## 28. How to get the nrows, ncolumns, datatype, summary stats of each column of a dataframe? Also get the array and list equivalent.\n",
        "Difficulty Level: L2\n",
        "\n",
        "Get the number of rows, columns, datatype and summary statistics of each column of the Cars93 dataset. Also get the numpy array and list equivalent of the dataframe."
      ]
    },
    {
      "cell_type": "code",
      "metadata": {
        "id": "nDl5aYDByt7L"
      },
      "source": [
        "df = pd.read_csv('https://raw.githubusercontent.com/selva86/datasets/master/Cars93_miss.csv')\n",
        "df.head(2)"
      ],
      "execution_count": null,
      "outputs": []
    },
    {
      "cell_type": "code",
      "metadata": {
        "id": "RhNK72HByt7L"
      },
      "source": [
        ""
      ],
      "execution_count": null,
      "outputs": []
    },
    {
      "cell_type": "markdown",
      "metadata": {
        "id": "Elnrz97Gyt7L"
      },
      "source": [
        "## 29. How to extract the row and column number of a particular cell with given criterion?\n",
        "Difficulty Level: L1\n",
        "\n",
        "Input\n",
        "\n",
        "df = pd.read_csv('https://raw.githubusercontent.com/selva86/datasets/master/Cars93_miss.csv')\n",
        "Which manufacturer, model and type has the highest Price? What is the row and column number of the cell with the highest Price value?"
      ]
    },
    {
      "cell_type": "code",
      "metadata": {
        "id": "5bksMBYlyt7L"
      },
      "source": [
        "df = pd.read_csv('https://raw.githubusercontent.com/selva86/datasets/master/Cars93_miss.csv')\n",
        "df.head(2)"
      ],
      "execution_count": null,
      "outputs": []
    },
    {
      "cell_type": "code",
      "metadata": {
        "id": "9P95v94wzaKt"
      },
      "source": [
        ""
      ],
      "execution_count": null,
      "outputs": []
    },
    {
      "cell_type": "markdown",
      "metadata": {
        "id": "hHPuNlozyt7M"
      },
      "source": [
        "## 30. How to rename a specific columns in a dataframe?\n",
        "Difficulty Level: L2\n",
        "\n",
        "Rename the column Type as CarType in df and replace the ‘.’ in column names with ‘_’."
      ]
    },
    {
      "cell_type": "code",
      "metadata": {
        "id": "qtSpnn4gyt7M"
      },
      "source": [
        "df = pd.read_csv('https://raw.githubusercontent.com/selva86/datasets/master/Cars93_miss.csv')\n",
        "df.head(2)"
      ],
      "execution_count": null,
      "outputs": []
    },
    {
      "cell_type": "code",
      "metadata": {
        "id": "bHJ6zC0Xyt7M"
      },
      "source": [
        ""
      ],
      "execution_count": null,
      "outputs": []
    },
    {
      "cell_type": "markdown",
      "metadata": {
        "id": "eb2swlHdyt7M"
      },
      "source": [
        "## 31. How to count the number of missing values in each column?\n",
        "Difficulty Level: L2\n",
        "\n",
        "Count the number of missing values in each column of df. Which column has the maximum number of missing values?"
      ]
    },
    {
      "cell_type": "code",
      "metadata": {
        "id": "-xy3MEbhyt7N"
      },
      "source": [
        "df = pd.read_csv('https://raw.githubusercontent.com/selva86/datasets/master/Cars93_miss.csv')\n",
        "df.head(2)"
      ],
      "execution_count": null,
      "outputs": []
    },
    {
      "cell_type": "code",
      "metadata": {
        "id": "Qv-q8H6JzZJR"
      },
      "source": [
        ""
      ],
      "execution_count": null,
      "outputs": []
    },
    {
      "cell_type": "markdown",
      "metadata": {
        "id": "nkhTmf9_yt7N"
      },
      "source": [
        "## 32. How to replace missing values of multiple numeric columns with the mean?\n",
        "Difficulty Level: L2\n",
        "\n",
        "Replace missing values in Min.Price and Max.Price columns with their respective mean."
      ]
    },
    {
      "cell_type": "code",
      "metadata": {
        "id": "hSOJP2i0yt7N"
      },
      "source": [
        "df = pd.read_csv('https://raw.githubusercontent.com/selva86/datasets/master/Cars93_miss.csv')\n",
        "df.head(2)"
      ],
      "execution_count": null,
      "outputs": []
    },
    {
      "cell_type": "code",
      "metadata": {
        "id": "SIDZxdDqzYd8"
      },
      "source": [
        ""
      ],
      "execution_count": null,
      "outputs": []
    },
    {
      "cell_type": "markdown",
      "metadata": {
        "id": "IK9KD-dkyt7O"
      },
      "source": [
        "## 33. How to select a specific column from a dataframe as a dataframe instead of a series?\n",
        "Difficulty Level: L2\n",
        "\n",
        "Get the first column (a) in df as a dataframe (rather than as a Series)."
      ]
    },
    {
      "cell_type": "code",
      "metadata": {
        "id": "uiPnKGQNyt7O"
      },
      "source": [
        "df = pd.DataFrame(np.arange(20).reshape(-1, 5), columns=list('abcde'))\n",
        "df"
      ],
      "execution_count": null,
      "outputs": []
    },
    {
      "cell_type": "code",
      "metadata": {
        "id": "aCq6pjZiyt7O"
      },
      "source": [
        ""
      ],
      "execution_count": null,
      "outputs": []
    },
    {
      "cell_type": "markdown",
      "metadata": {
        "id": "BNyVdw6Dyt7O"
      },
      "source": [
        "## 34. How to change the order of columns of a dataframe?\n",
        "Difficulty Level: L3\n",
        "\n",
        "Actually 3 questions.\n",
        "\n",
        "In df, interchange columns 'a' and 'c'.\n",
        "Create a generic function to interchange two columns, without hardcoding column names.\n",
        "\n",
        "Sort the columns in reverse alphabetical order, that is colume 'e' first through column 'a' last."
      ]
    },
    {
      "cell_type": "code",
      "metadata": {
        "id": "AdY31Qnxyt7P"
      },
      "source": [
        "df = pd.DataFrame(np.arange(20).reshape(-1, 5), columns=list('abcde'))\n",
        "df"
      ],
      "execution_count": null,
      "outputs": []
    },
    {
      "cell_type": "code",
      "metadata": {
        "id": "cD1eltWVyt7P"
      },
      "source": [
        ""
      ],
      "execution_count": null,
      "outputs": []
    },
    {
      "cell_type": "markdown",
      "metadata": {
        "id": "7ogM9CbKyt7P"
      },
      "source": [
        "## 35. How to format all the values in a dataframe as percentages?\n",
        "Difficulty Level: L2\n",
        "\n",
        "Format the values in column 'random' of df as percentages."
      ]
    },
    {
      "cell_type": "code",
      "metadata": {
        "id": "ctUfz7ocyt7P"
      },
      "source": [
        "df = pd.DataFrame(np.random.random(4), columns=['random'])\n",
        "df"
      ],
      "execution_count": null,
      "outputs": []
    },
    {
      "cell_type": "code",
      "metadata": {
        "id": "92kcnso8zXb6"
      },
      "source": [
        ""
      ],
      "execution_count": null,
      "outputs": []
    },
    {
      "cell_type": "markdown",
      "metadata": {
        "id": "DfdBZ3Etyt7P"
      },
      "source": [
        "## 36. How to create a primary key index by combining relevant columns?\n",
        "Difficulty Level: L2\n",
        "\n",
        "In df, Replace NaNs with ‘missing’ in columns 'Manufacturer', 'Model' and 'Type' and create a index as a combination of these three columns and check if the index is a primary key."
      ]
    },
    {
      "cell_type": "code",
      "metadata": {
        "id": "idBl4UPxyt7Q"
      },
      "source": [
        "df = pd.read_csv('https://raw.githubusercontent.com/selva86/datasets/master/Cars93_miss.csv', usecols=[0,1,2,3,5])\n",
        "\n",
        "missing = {'Manufacturer': 'missing', 'Model': 'missing', 'Type': 'missing'}"
      ],
      "execution_count": null,
      "outputs": []
    },
    {
      "cell_type": "code",
      "metadata": {
        "id": "cC_MMFnAyt7Q"
      },
      "source": [
        ""
      ],
      "execution_count": null,
      "outputs": []
    },
    {
      "cell_type": "markdown",
      "metadata": {
        "id": "zfQgb7MJyt7R"
      },
      "source": [
        "## 37. How to get the row number of the nth largest value in a column?\n",
        "Difficulty Level: L2\n",
        "\n",
        "Find the row position of the 5th largest value of column 'a' in df."
      ]
    },
    {
      "cell_type": "code",
      "metadata": {
        "id": "S0wkX4rAyt7R"
      },
      "source": [
        "df = pd.DataFrame(np.random.randint(1, 30, 30).reshape(10,3), columns=list('abc'))\n",
        "df"
      ],
      "execution_count": null,
      "outputs": []
    },
    {
      "cell_type": "code",
      "metadata": {
        "id": "t_hKd6b0yt7S"
      },
      "source": [
        ""
      ],
      "execution_count": null,
      "outputs": []
    },
    {
      "cell_type": "markdown",
      "metadata": {
        "id": "s1cpLxnRyt7S"
      },
      "source": [
        "## 38. How to find the position of the nth largest value greater than a given value?\n",
        "Difficulty Level: L2\n",
        "\n",
        "In ser, find the position of the 2nd largest value greater than the mean."
      ]
    },
    {
      "cell_type": "code",
      "metadata": {
        "id": "S9k6MuN-yt7S"
      },
      "source": [
        "ser = pd.Series([7, 77, 16, 86, 60, 38, 34, 36, 83, 27, 16, 52, 50, 52, 54] )\n"
      ],
      "execution_count": null,
      "outputs": []
    },
    {
      "cell_type": "code",
      "metadata": {
        "id": "PnU9b8mqyt7S"
      },
      "source": [
        ""
      ],
      "execution_count": null,
      "outputs": []
    },
    {
      "cell_type": "markdown",
      "metadata": {
        "id": "kPVK303lyt7S"
      },
      "source": [
        "## 39. How to get the last n rows of a dataframe with row sum > 100?\n",
        "Difficulty Level: L2\n",
        "\n",
        "Get the last two rows of df whose row sum is greater than 100.\n",
        "\n"
      ]
    },
    {
      "cell_type": "code",
      "metadata": {
        "id": "SR7v0hOoyt7T"
      },
      "source": [
        "df = pd.DataFrame(np.random.randint(10, 40, 60).reshape(-1, 4))\n",
        "df"
      ],
      "execution_count": null,
      "outputs": []
    },
    {
      "cell_type": "code",
      "metadata": {
        "id": "_i4shFtUyt7T"
      },
      "source": [
        ""
      ],
      "execution_count": null,
      "outputs": []
    },
    {
      "cell_type": "markdown",
      "metadata": {
        "id": "XWsyzdPRyt7T"
      },
      "source": [
        "## 40. How to find and cap outliers from a series or dataframe column?\n",
        "Difficulty Level: L2\n",
        "\n",
        "Replace all values of ser in the lower 5%ile and greater than 95%ile with respective 5th and 95th %ile value."
      ]
    },
    {
      "cell_type": "code",
      "metadata": {
        "id": "a8vTvMN7yt7T"
      },
      "source": [
        "ser = pd.Series(np.logspace(-2, 2, 30))"
      ],
      "execution_count": null,
      "outputs": []
    },
    {
      "cell_type": "code",
      "metadata": {
        "id": "6PldfN_8yt7U"
      },
      "source": [
        ""
      ],
      "execution_count": null,
      "outputs": []
    },
    {
      "cell_type": "markdown",
      "metadata": {
        "id": "x0epgxGWyt7U"
      },
      "source": [
        "## 41. How to reshape a dataframe to the largest possible square after removing the negative values?\n",
        "Difficulty Level: L3\n",
        "\n",
        "Reshape df to the largest possible square with negative values removed. Drop the smallest values if need be. The order of the positive numbers in the result should remain the same as the original."
      ]
    },
    {
      "cell_type": "code",
      "metadata": {
        "id": "d9u5DzF3yt7U"
      },
      "source": [
        "df = pd.DataFrame(np.random.randint(-20, 50, 100).reshape(10,-1))\n",
        "df"
      ],
      "execution_count": null,
      "outputs": []
    },
    {
      "cell_type": "code",
      "metadata": {
        "id": "H9ulMy-GzVvK"
      },
      "source": [
        ""
      ],
      "execution_count": null,
      "outputs": []
    },
    {
      "cell_type": "markdown",
      "metadata": {
        "id": "07eTpodRyt7U"
      },
      "source": [
        "## 42. How to swap two rows of a dataframe?\n",
        "Difficulty Level: L2\n",
        "\n",
        "Swap rows 1 and 2 in df."
      ]
    },
    {
      "cell_type": "code",
      "metadata": {
        "id": "0VPgsNxqyt7V"
      },
      "source": [
        "df = pd.DataFrame(np.arange(25).reshape(5, -1))\n",
        "df"
      ],
      "execution_count": null,
      "outputs": []
    },
    {
      "cell_type": "code",
      "metadata": {
        "id": "02k_2WbAyt7V"
      },
      "source": [
        ""
      ],
      "execution_count": null,
      "outputs": []
    },
    {
      "cell_type": "markdown",
      "metadata": {
        "id": "oK0u0Fbyyt7V"
      },
      "source": [
        "## 43. How to reverse the rows of a dataframe?\n",
        "Difficulty Level: L2\n",
        "\n",
        "Reverse all the rows of dataframe df."
      ]
    },
    {
      "cell_type": "code",
      "metadata": {
        "id": "665cHk4lyt7V"
      },
      "source": [
        "df = pd.DataFrame(np.arange(25).reshape(5, -1))\n",
        "df"
      ],
      "execution_count": null,
      "outputs": []
    },
    {
      "cell_type": "code",
      "metadata": {
        "id": "mMwnwIBUyt7V"
      },
      "source": [
        ""
      ],
      "execution_count": null,
      "outputs": []
    },
    {
      "cell_type": "markdown",
      "metadata": {
        "id": "YJsOaJWYyt7W"
      },
      "source": [
        "## 44. Which column contains the highest number of row-wise maximum values?\n",
        "Difficulty Level: L2\n",
        "\n",
        "Obtain the column name with the highest number of row-wise maximum’s in df."
      ]
    },
    {
      "cell_type": "code",
      "metadata": {
        "id": "nuK9x6Oayt7W"
      },
      "source": [
        "df = pd.DataFrame(np.random.randint(1,100, 40).reshape(10, -1))\n",
        "df"
      ],
      "execution_count": null,
      "outputs": []
    },
    {
      "cell_type": "code",
      "metadata": {
        "id": "_I_zt7MQzUfB"
      },
      "source": [
        ""
      ],
      "execution_count": null,
      "outputs": []
    },
    {
      "cell_type": "markdown",
      "metadata": {
        "id": "klC3UGp1yt7W"
      },
      "source": [
        "## 45. How to create a new column that contains the row number of nearest column by euclidean distance?\n",
        "Create a new column such that, each row contains the row number of nearest row-record by euclidean distance.\n",
        "\n",
        "Difficulty Level: L3"
      ]
    },
    {
      "cell_type": "code",
      "metadata": {
        "id": "FYqMKBQ4yt7W"
      },
      "source": [
        "df = pd.DataFrame(np.random.randint(1,100, 40).reshape(10, -1), columns=list('pqrs'), index=list('abcdefghij'))\n",
        "df"
      ],
      "execution_count": null,
      "outputs": []
    },
    {
      "cell_type": "code",
      "metadata": {
        "id": "sH1fZ9ayzTzU"
      },
      "source": [
        ""
      ],
      "execution_count": null,
      "outputs": []
    },
    {
      "cell_type": "markdown",
      "metadata": {
        "id": "ld85bxD2yt7W"
      },
      "source": [
        "## 46. How to create a column containing the minimum by maximum of each row?\n",
        "Difficulty Level: L2\n",
        "\n",
        "Compute the minimum-by-maximum for every row of df."
      ]
    },
    {
      "cell_type": "code",
      "metadata": {
        "id": "McYBRbDXyt7X"
      },
      "source": [
        "df = pd.DataFrame(np.random.randint(1,100, 80).reshape(8, -1))\n",
        "df"
      ],
      "execution_count": null,
      "outputs": []
    },
    {
      "cell_type": "code",
      "metadata": {
        "id": "EFlgkj1Ayt7X"
      },
      "source": [
        ""
      ],
      "execution_count": null,
      "outputs": []
    },
    {
      "cell_type": "markdown",
      "metadata": {
        "id": "FeQ-w-53yt7X"
      },
      "source": [
        "## 47. How to create a column that contains the penultimate value in each row?\n",
        "Difficulty Level: L2\n",
        "\n",
        "Create a new column 'penultimate' which has the second largest value of each row of df."
      ]
    },
    {
      "cell_type": "code",
      "metadata": {
        "id": "46-y7EE0yt7X"
      },
      "source": [
        "df = pd.DataFrame(np.random.randint(1,100, 80).reshape(8, -1))\n",
        "df"
      ],
      "execution_count": null,
      "outputs": []
    },
    {
      "cell_type": "code",
      "metadata": {
        "id": "WZnjNIwHyt7X"
      },
      "source": [
        ""
      ],
      "execution_count": null,
      "outputs": []
    },
    {
      "cell_type": "markdown",
      "metadata": {
        "id": "6BfywkqNyt7Y"
      },
      "source": [
        "## 48. How to normalize all columns in a dataframe?\n",
        "Difficulty Level: L2\n",
        "\n",
        "Normalize all columns of df by subtracting the column mean and divide by standard deviation.\n",
        "Range all columns of df such that the minimum value in each column is 0 and max is 1.\n",
        "Don’t use external packages like sklearn."
      ]
    },
    {
      "cell_type": "code",
      "metadata": {
        "id": "UV8tleBayt7Y"
      },
      "source": [
        "df = pd.DataFrame(np.random.randint(1,100, 80).reshape(8, -1))\n",
        "df"
      ],
      "execution_count": null,
      "outputs": []
    },
    {
      "cell_type": "code",
      "metadata": {
        "id": "1qfFLv-Oyt7Y"
      },
      "source": [
        ""
      ],
      "execution_count": null,
      "outputs": []
    },
    {
      "cell_type": "markdown",
      "metadata": {
        "id": "Vfl51_M9yt7Y"
      },
      "source": [
        "## 49. How to compute the correlation of each row with the suceeding row?\n",
        "Difficulty Level: L2\n",
        "\n",
        "Compute the correlation of each row of df with its succeeding row."
      ]
    },
    {
      "cell_type": "code",
      "metadata": {
        "id": "fXIB8g_1yt7Y"
      },
      "source": [
        "df = pd.DataFrame(np.random.randint(1,100, 80).reshape(8, -1))\n",
        "df"
      ],
      "execution_count": null,
      "outputs": []
    },
    {
      "cell_type": "code",
      "metadata": {
        "id": "IfghVr84yt7Z"
      },
      "source": [
        ""
      ],
      "execution_count": null,
      "outputs": []
    },
    {
      "cell_type": "markdown",
      "metadata": {
        "id": "ie5l4lNuyt7Z"
      },
      "source": [
        "## 50. How to replace both the diagonals of dataframe with 0?\n",
        "Difficulty Level: L2\n",
        "\n",
        "Replace both values in both diagonals of df with 0."
      ]
    },
    {
      "cell_type": "code",
      "metadata": {
        "id": "npLQNXQAyt7Z"
      },
      "source": [
        "df = pd.DataFrame(np.random.randint(1,100, 100).reshape(10, -1))"
      ],
      "execution_count": null,
      "outputs": []
    },
    {
      "cell_type": "code",
      "metadata": {
        "id": "L7OjApqEyt7Z"
      },
      "source": [
        ""
      ],
      "execution_count": null,
      "outputs": []
    },
    {
      "cell_type": "markdown",
      "metadata": {
        "id": "nsEfBmnEyt7Z"
      },
      "source": [
        "## 51. How to get the particular group of a groupby dataframe by key?\n",
        "Difficulty Level: L2\n",
        "\n",
        "This is a question related to understanding of grouped dataframe. From df_grouped, get the group belonging to 'apple' as a dataframe."
      ]
    },
    {
      "cell_type": "code",
      "metadata": {
        "id": "DBgtnBwfyt7a"
      },
      "source": [
        "df = pd.DataFrame({'col1': ['apple', 'banana', 'orange'] * 3,\n",
        "                   'col2': np.random.rand(9),\n",
        "                   'col3': np.random.randint(0, 15, 9)})\n",
        "df"
      ],
      "execution_count": null,
      "outputs": []
    },
    {
      "cell_type": "code",
      "metadata": {
        "tags": [],
        "id": "RKrnLdgjyt7a"
      },
      "source": [
        ""
      ],
      "execution_count": null,
      "outputs": []
    },
    {
      "cell_type": "markdown",
      "metadata": {
        "id": "DsAVNWjqyt7a"
      },
      "source": [
        "## 52. How to get the n’th largest value of a column when grouped by another column?\n",
        "Difficulty Level: L2\n",
        "\n",
        "In df, find the second largest value of 'taste' for 'banana'"
      ]
    },
    {
      "cell_type": "code",
      "metadata": {
        "id": "17RnbF2iyt7a"
      },
      "source": [
        "df = pd.DataFrame({'fruit': ['apple', 'banana', 'orange'] * 3,\n",
        "                   'taste': np.random.rand(9),\n",
        "                   'price': np.random.randint(0, 15, 9)})\n",
        "df"
      ],
      "execution_count": null,
      "outputs": []
    },
    {
      "cell_type": "code",
      "metadata": {
        "id": "MN2lrZORyt7b"
      },
      "source": [
        ""
      ],
      "execution_count": null,
      "outputs": []
    },
    {
      "cell_type": "markdown",
      "metadata": {
        "id": "2EfqRnJcyt7b"
      },
      "source": [
        "## 53. How to compute grouped mean on pandas dataframe and keep the grouped column as another column (not index)?\n",
        "Difficulty Level: L1\n",
        "\n",
        "In df, Compute the mean price of every fruit, while keeping the fruit as another column instead of an index."
      ]
    },
    {
      "cell_type": "code",
      "metadata": {
        "id": "HSbBaCeRyt7b"
      },
      "source": [
        "df = pd.DataFrame({'fruit': ['apple', 'banana', 'orange'] * 3,\n",
        "                   'rating': np.random.rand(9),\n",
        "                   'price': np.random.randint(0, 15, 9)})\n",
        "df"
      ],
      "execution_count": null,
      "outputs": []
    },
    {
      "cell_type": "markdown",
      "metadata": {
        "id": "f0UiYfvtyt7b"
      },
      "source": [
        "## 54. How to join two dataframes by 2 columns so they have only the common rows?\n",
        "Difficulty Level: L2\n",
        "\n",
        "Join dataframes df1 and df2 by ‘fruit-pazham’ and ‘weight-kilo’."
      ]
    },
    {
      "cell_type": "code",
      "metadata": {
        "id": "Yn8VLHjMyt7b"
      },
      "source": [
        "df1 = pd.DataFrame({'fruit': ['apple', 'banana', 'orange'] * 3,\n",
        "                    'weight': ['high', 'medium', 'low'] * 3,\n",
        "                    'price': np.random.randint(0, 15, 9)})\n",
        "df1"
      ],
      "execution_count": null,
      "outputs": []
    },
    {
      "cell_type": "code",
      "metadata": {
        "id": "BEK9E884yt7c"
      },
      "source": [
        "df2 = pd.DataFrame({'pazham': ['apple', 'orange', 'pine'] * 2,\n",
        "                    'kilo': ['high', 'low'] * 3,\n",
        "                    'price': np.random.randint(0, 15, 6)})\n",
        "df2"
      ],
      "execution_count": null,
      "outputs": []
    },
    {
      "cell_type": "markdown",
      "metadata": {
        "id": "RNw8-8U3yt7c"
      },
      "source": [
        "## 55. How to get the positions where values of two columns match?\n",
        "Difficulty Level: L2"
      ]
    },
    {
      "cell_type": "code",
      "metadata": {
        "id": "TnPtNsCgyt7c"
      },
      "source": [
        "df1 = pd.DataFrame({'fruit': ['apple', 'banana', 'orange'] * 3,\n",
        "                    'kilo': ['high', 'medium', 'low'] * 3,})\n",
        "df1"
      ],
      "execution_count": null,
      "outputs": []
    },
    {
      "cell_type": "code",
      "metadata": {
        "id": "rMTP7k7Yyt7c"
      },
      "source": [
        "df2 = pd.DataFrame({'fruit': ['apple', 'orange', 'pine'] * 2,\n",
        "                    'kilo': ['high', 'low'] * 3,})\n",
        "df2"
      ],
      "execution_count": null,
      "outputs": []
    },
    {
      "cell_type": "code",
      "metadata": {
        "id": "HLuHHi82zOpu"
      },
      "source": [
        ""
      ],
      "execution_count": null,
      "outputs": []
    },
    {
      "cell_type": "markdown",
      "metadata": {
        "id": "IUrovlN3yt7d"
      },
      "source": [
        "## 56. How to create lags and leads of a column in a dataframe?\n",
        "Difficulty Level: L2\n",
        "\n",
        "Create two new columns in df, one of which is a lag1 (shift column a down by 1 row) of column ‘a’ and the other is a lead1 (shift column b up by 1 row)."
      ]
    },
    {
      "cell_type": "code",
      "metadata": {
        "id": "-05bNEspyt7d"
      },
      "source": [
        "df = pd.DataFrame(np.random.randint(1, 100, 20).reshape(-1, 4), columns = list('abcd'))\n",
        "df"
      ],
      "execution_count": null,
      "outputs": []
    },
    {
      "cell_type": "markdown",
      "metadata": {
        "id": "SqiuasuSyt7e"
      },
      "source": [
        "## 57. How to get the frequency of unique values in the entire dataframe?\n",
        "Difficulty Level: L2\n",
        "\n",
        "Get the frequency of unique values in the entire dataframe df."
      ]
    },
    {
      "cell_type": "code",
      "metadata": {
        "id": "F6ovrMAkyt7e"
      },
      "source": [
        "df = pd.DataFrame(np.random.randint(1, 10, 20).reshape(-1, 4), columns = list('abcd'))\n",
        "df"
      ],
      "execution_count": null,
      "outputs": []
    },
    {
      "cell_type": "markdown",
      "metadata": {
        "id": "ng3VDYG7yt7e"
      },
      "source": [
        "## 58. How to split a text column into two separate columns?\n",
        "Difficulty Level: L2\n",
        "\n",
        "Split the string column in df to form a dataframe with 3 columns as shown."
      ]
    },
    {
      "cell_type": "code",
      "metadata": {
        "id": "IEF32Ezyyt7e"
      },
      "source": [
        "df = pd.DataFrame([\"STD, City    State\",\n",
        "\"33, Kolkata    West Bengal\",\n",
        "\"44, Chennai    Tamil Nadu\",\n",
        "\"40, Hyderabad    Telengana\",\n",
        "\"80, Bangalore    Karnataka\"], columns=['row'])\n",
        "df"
      ],
      "execution_count": null,
      "outputs": []
    },
    {
      "cell_type": "markdown",
      "metadata": {
        "id": "3MzTK5vkT4d4"
      },
      "source": [
        "#59. How to calculate the acumulate sum along serie lines?\n",
        "Difficulty Level: L1"
      ]
    },
    {
      "cell_type": "code",
      "metadata": {
        "id": "8NFJWKzQT3N2"
      },
      "source": [
        "ser = pd.Series(np.random.rand(10))\n",
        "ser.plot()"
      ],
      "execution_count": null,
      "outputs": []
    },
    {
      "cell_type": "markdown",
      "metadata": {
        "id": "nxYATqk-T9Tf"
      },
      "source": [
        "#60. How to get the positions where values in diferent positions of two columns match?\n",
        "\n",
        "Get position in df1 where the columns fruit and kilo match with any combination for columns fruit_ and kilo_ in df2.\n",
        "\n",
        "Difficulty Level: L3"
      ]
    },
    {
      "cell_type": "code",
      "metadata": {
        "id": "FLQ6KFF1UAny"
      },
      "source": [
        "df1 = pd.DataFrame({'fruit': ['apple', 'banana', 'orange'] * 4,\n",
        "                    'kilo': ['high', 'medium', 'low'] * 4,})\n",
        "df1"
      ],
      "execution_count": null,
      "outputs": []
    },
    {
      "cell_type": "code",
      "metadata": {
        "id": "K--9nKXWUDcD"
      },
      "source": [
        "df2 = pd.DataFrame({'fruit_': ['apple', 'orange', 'pine'] * 2,\n",
        "                    'kilo_': ['high', 'low'] * 3,})\n",
        "df2"
      ],
      "execution_count": null,
      "outputs": []
    }
  ]
}